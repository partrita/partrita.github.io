get_ipython().run_line_magic("matplotlib", " inline")
import matplotlib.pyplot as plt
import seaborn as sns
import pandas as pd
from statannot import add_stat_annotation

sns.set(style="ticks")


df = sns.load_dataset("tips")
x = "day"
y = "total_bill"
order = ["Sun", "Thur", "Fri", "Sat"]
ax = sns.boxplot(data=df, x=x, y=y, order=order)
ax, test_results = add_stat_annotation(
    ax,
    data=df,
    x=x,
    y=y,
    order=order,
    box_pairs=[("Thur", "Fri"), ("Thur", "Sat"), ("Fri", "Sun")],
    test="Mann-Whitney",
    text_format="star",
    loc="outside",
    verbose=2,
)
sns.despine()  # 필요없는 axis border 제거


for res in test_results:
    print(res)

print("\nStatResult attributes:", test_results[0].__dict__.keys())


x = "day"
y = "total_bill"
order = ["Sun", "Thur", "Fri", "Sat"]
ax = sns.boxplot(data=df, x=x, y=y, order=order)
test_results = add_stat_annotation(
    ax,
    data=df,
    x=x,
    y=y,
    order=order,
    box_pairs=[("Thur", "Fri"), ("Thur", "Sat"), ("Fri", "Sun")],
    test="Mann-Whitney",
    comparisons_correction=None,
    text_format="star",
    loc="outside",
    verbose=2,
)
sns.despine()  # 필요없는 axis border 제거


x = "day"
y = "total_bill"
order = ["Sun", "Thur", "Fri", "Sat"]
ax = sns.boxplot(data=df, x=x, y=y, order=order)
add_stat_annotation(
    ax,
    data=df,
    x=x,
    y=y,
    order=order,
    box_pairs=[("Sun", "Thur"), ("Sun", "Sat"), ("Fri", "Sun")],
    perform_stat_test=False,
    pvalues=[0.1, 0.1, 0.001],
    test=None,
    text_format="star",
    loc="inside",
    verbose=2,
)
sns.despine()  # 필요없는 axis border 제거


df = sns.load_dataset("diamonds")
df = df[df["color"].map(lambda x: x in "EIJ")]
# Modifying data to yield unequal boxes in the hue value
df.loc[df["cut"] == "Ideal", "price"] = df.loc[df["cut"] == "Ideal", "price"].map(
    lambda x: min(x, 5000)
)
df.loc[df["cut"] == "Premium", "price"] = df.loc[df["cut"] == "Premium", "price"].map(
    lambda x: min(x, 7500)
)
df.loc[df["cut"] == "Good", "price"] = df.loc[df["cut"] == "Good", "price"].map(
    lambda x: min(x, 15000)
)
df.loc[df["cut"] == "Very Good", "price"] = df.loc[
    df["cut"] == "Very Good", "price"
].map(lambda x: min(x, 3000))
df.head()


x = "color"
y = "price"
hue = "cut"
hue_order = ["Ideal", "Premium", "Good", "Very Good", "Fair"]
box_pairs = [
    (("E", "Ideal"), ("E", "Very Good")),
    (("E", "Ideal"), ("E", "Premium")),
    (("E", "Ideal"), ("E", "Good")),
    (("I", "Ideal"), ("I", "Premium")),
    (("I", "Ideal"), ("I", "Good")),
    (("J", "Ideal"), ("J", "Premium")),
    (("J", "Ideal"), ("J", "Good")),
    (("E", "Good"), ("I", "Ideal")),
    (("I", "Premium"), ("J", "Ideal")),
]
ax = sns.boxplot(
    data=df,
    x=x,
    y=y,
    hue=hue,
)
add_stat_annotation(
    ax,
    data=df,
    x=x,
    y=y,
    hue=hue,
    box_pairs=box_pairs,
    test="Mann-Whitney",
    loc="inside",
    verbose=2,
)
plt.legend(loc="upper left", bbox_to_anchor=(1.03, 1))
sns.despine()  # 필요없는 axis border 제거


df = sns.load_dataset("tips")
df["tip_bucket"] = pd.cut(df["tip"], 3)
df.head()


# In this case we just have to pass the list of categories objects to the add_stat_annotation function.
tip_bucket_list = df["tip_bucket"].unique()
tip_bucket_list


x = "day"
y = "total_bill"
hue = "tip_bucket"
data = df
ax = sns.boxplot(data=df, x=x, y=y, hue=hue)
add_stat_annotation(
    ax,
    data=df,
    x=x,
    y=y,
    hue=hue,
    box_pairs=[(("Sat", tip_bucket_list[2]), ("Fri", tip_bucket_list[0]))],
    test="t-test_ind",
    loc="inside",
    verbose=2,
)
plt.legend(loc="upper left", bbox_to_anchor=(1.03, 1))
sns.despine()  # 필요없는 axis border 제거


df = sns.load_dataset("tips")
x = "day"
y = "total_bill"
hue = "smoker"
ax = sns.boxplot(data=df, x=x, y=y, hue=hue)
add_stat_annotation(
    ax,
    data=df,
    x=x,
    y=y,
    hue=hue,
    box_pairs=[
        (("Thur", "No"), ("Fri", "No")),
        (("Sat", "Yes"), ("Sat", "No")),
        (("Sun", "No"), ("Thur", "Yes")),
    ],
    test="t-test_ind",
    text_format="full",
    loc="inside",
    comparisons_correction=None,
    line_offset_to_box=0.2,
    line_offset=0.1,
    line_height=0.05,
    text_offset=8,
    verbose=2,
)
plt.legend(loc="upper left", bbox_to_anchor=(1.03, 1))
sns.despine()  # 필요없는 axis border 제거


df = sns.load_dataset("iris")
x = "species"
y = "sepal_length"

box_pairs = [
    ("setosa", "versicolor"),
    ("setosa", "virginica"),
    ("versicolor", "virginica"),
]

from scipy.stats import bartlett

test_short_name = "Bartlett"
pvalues = []
for pair in box_pairs:
    data1 = df.groupby(x)[y].get_group(pair[0])
    data2 = df.groupby(x)[y].get_group(pair[1])
    stat, p = bartlett(data1, data2)
    print(
        "Performing Bartlett statistical test for equal variances on pair:",
        pair,
        "stat={:.2e} p-value={:.2e}".format(stat, p),
    )
    pvalues.append(p)
print("pvalues:", pvalues)


ax = sns.boxplot(data=df, x=x, y=y)
sns.despine()  # 필요없는 axis border 제거
test_results = add_stat_annotation(
    ax,
    data=df,
    x=x,
    y=y,
    box_pairs=box_pairs,
    perform_stat_test=False,
    pvalues=pvalues,
    test_short_name=test_short_name,
    text_format="star",
    verbose=2,
)


df = sns.load_dataset("tips")
x = "day"
y = "total_bill"
order = ["Sun", "Thur", "Fri", "Sat"]
ax = sns.boxplot(data=df, x=x, y=y, order=order)
sns.despine()  # 필요없는 axis border 제거
test_results = add_stat_annotation(
    ax,
    data=df,
    x=x,
    y=y,
    order=order,
    box_pairs=[("Thur", "Fri"), ("Thur", "Sat"), ("Fri", "Sun")],
    text_annot_custom=["first pair", "second pair", "third pair"],
    perform_stat_test=False,
    pvalues=[0, 0, 0],
    loc="outside",
    verbose=0,
)
