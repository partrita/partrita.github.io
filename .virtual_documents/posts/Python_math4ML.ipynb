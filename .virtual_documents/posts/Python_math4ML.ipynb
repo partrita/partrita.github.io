import numpy as np

# 스칼라
a = 1.5
# 1차원 벡터
b = np.array([1, 2, 3, 4])
# 2x2 벡터 = 행렬
c = np.array([[1, 2],
              [3, 4]])
# 2x2x2 벡터 = 텐서
d = np.array([[[1, 2],
               [3, 4],
              [5, 6],
              [7, 8]]])


A = np.array([[1, 2], [4, 5]])
B = np.array([[4, 5], [1, 2]])

A * B


np.dot(A, B)


np.dot(B, A)


A = np.array([[1, 2, 3], [4, 5, 6]])  # 2x3행렬
B = np.array([[4, 5, 6], [1, 2, 3]])  # 2x3행렬

np.dot(A, B.T)


np.cross(A, B)


# L1 놈
np.linalg.norm(A, 1)


# L2 놈
np.linalg.norm(A)


A = np.array([1, 2])  # 2x2행렬
B = np.array([4, 5])  # 2x2행렬

def cosine_similar(x, y):
    return np.dot(x, y) / (np.linalg.norm(x) * np.linalg.norm(y))

cosine_similar(A, B)


np.eye(2) # 2x2 단위 행렬


A = np.array([[1, 2], [4, 5]])
np.linalg.det(A)


np.linalg.inv(A)
