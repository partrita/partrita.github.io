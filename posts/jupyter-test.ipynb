{
 "cells": [
  {
   "cell_type": "markdown",
   "metadata": {},
   "source": [
    "## 기본적인 그래프 그리기\n",
    "\n",
    "matplotlib 모듈을 사용해 선 그래프를 그려보자 "
   ]
  },
  {
   "cell_type": "code",
   "execution_count": 3,
   "metadata": {},
   "outputs": [],
   "source": [
    "%matplotlib inline \n",
    "# 노트북 안에 플롯 표시\n",
    "import matplotlib.pyplot as plt \n",
    "# 필요한 모듈"
   ]
  },
  {
   "cell_type": "code",
   "execution_count": 8,
   "metadata": {},
   "outputs": [],
   "source": [
    "# X, Y 값을 입력\n",
    "X = [1,2,3,4,5,6,7,8,9,10]\n",
    "Y = [2,3,4,6,7,9,10,16,17,20]"
   ]
  },
  {
   "cell_type": "code",
   "execution_count": null,
   "metadata": {},
   "outputs": [],
   "source": [
    "plt.plot(X,Y, kind = 'line')"
   ]
  }
 ],
 "metadata": {
  "kernelspec": {
   "display_name": "Python 3",
   "language": "python",
   "name": "python3"
  },
  "language_info": {
   "codemirror_mode": {
    "name": "ipython",
    "version": 3
   },
   "file_extension": ".py",
   "mimetype": "text/x-python",
   "name": "python",
   "nbconvert_exporter": "python",
   "pygments_lexer": "ipython3",
   "version": "3.6.3"
  },
  "nikola": {
   "category": "",
   "date": "2017-12-12 08:07:20 UTC+09:00",
   "description": "",
   "link": "",
   "slug": "jupyter-test",
   "tags": "",
   "title": "jupyter test",
   "type": "text"
  }
 },
 "nbformat": 4,
 "nbformat_minor": 2
}
