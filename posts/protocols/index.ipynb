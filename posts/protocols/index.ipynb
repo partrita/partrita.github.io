{
 "cells": [
  {
   "cell_type": "markdown",
   "metadata": {},
   "source": [
    "# 설명\n",
    "\n",
    "이곳에는 전체적인 실험법에 대한 설명이 들어갈 것입니다.\n",
    "\n",
    "> 자주 사용하는 프로토콜들을 정리할 예정\n",
    "\n",
    "## Table of contents\n",
    "목차가 들어 갈 곳입니다.\n",
    "\n"
   ]
  },
  {
   "cell_type": "markdown",
   "metadata": {},
   "source": [
    "## Miniprep\n",
    "\n",
    "### 왜 이름이 **miniprep** 인가요? \n",
    "\n",
    "다양한 회사에서 plasmid DNSA를 정제하는 하는 키트를 생산하고 있는데, 시작하는 E.coli 배양액의 양에 따라서 다음과 같이 miniprep, midiprep, maxiprep라고 공통적으로 부르고 있습니다. 이름에서 알 수 있듯 양이 적으면 mini 많으면 maxi입니다.  \n",
    "\n",
    "miniprep은 (상대적으로) 빠르고 작은 규모로 plasmid DNA를 뽑아 낼 수 있기에 많이 사용되고 있습니다. 원리는 **alkaline lysis method** 를 사용하고 있는데 간단히 이야기 하면 염기성 용액으로 셀을 깨주고, 빠르게 중화시켜 Plasmid DNA만 선택해 내는 방법 입니다. 보통의 경우 miniprep으로 약 50µg의 plasmid DNA를 얻을 수 있습니다.  \n",
    "\n",
    "> miniprep에 사용되는 다양한 키트가 있지만, 여기에서는 Qiagen Spin Miniprep 키트 기준으로 설명합니다.\n",
    "\n",
    "### Metarials:\n",
    "\n",
    "-  하룻밤 키운 E.coli 배양액 (1-5ml)\n",
    "-  차가운 P1 버퍼 (50 mM Tris-HCl pH 8.0, 10 mM EDTA, 100 µg/ml RNaseA)\n",
    "    RNaseA가 들어있습니다, 항상 냉장 보관하세요.\n",
    "-  P2 버퍼 (200 mM NaOH, 1% SDS)\n",
    "-  N3 버퍼 (4.2 M Gu-HCl, 0.9 M potassium acetate, pH 4.8)\n",
    "-  PB 버퍼 (5 M Gu-HCl, 30% ethanol)\n",
    "-  PE 버퍼 (10 mM Tris-HCl pH 7.5, 80% ethanol)\n",
    "-  EB 버퍼 (10 mM Tris·Cl, pH 8.5; DW로 대체하셔도 됩니다.)\n",
    "-  QIAprep spin column (키트에 포함되어 있음)\n",
    "-  Centrifuge\n",
    "-  멸균된 1.5-ml microcentrifuge 튜브\n",
    "\n",
    "### Methods:\n",
    "\n",
    "1. microcentrifuge  튜브에 **1.5 ml** 의 배양액을 넣어 줍니다.\n",
    "2. 최대 속도로 Centrifuge for **1 min** at **room temperature**, gently aspirate out the supernatant and discard it.\n",
    "3. 충분한 크기의 cell pellet이 생길때 까지 반복합니다.\n",
    "4. **250 µl** 의 차가운 Buffer P1 를 넣어주고, Resuspend pelleted bacterial cells\n",
    "5. Add 250 μl Buffer P2 and **조심스럽게 invert** the tube 4–6 times to mix.\n",
    "6. Add **300 µl** of Buffer N3. \n",
    "    NOTE: Proceed to the next step within **immediately** !\n",
    "7. Close the tube tightly and invert the tube **4 - 6 times** . The solution should become cloudy.\n",
    "8. Centrifuge for 10 min at 13,000 rpm (~17,900 x g) in a table-top microcentrifuge. A compact white pellet will form. Apply the supernatants from step 4 to the QIAprep spin column by decanting or pipetting.\n",
    "9. Centrifuge for 30–60 s. Discard the flow-through. Spinning for 60 seconds produces good results.\n",
    "10. Wash QIAprep spin column by adding **0.75 ml** Buffer PE and centrifuging for 30–60 s.\n",
    "11. Discard the flow-through, and centrifuge for an additional 1 min to remove residual wash buffer. \n",
    "    IMPORTANT: Residual wash buffer will inhibit subsequent enzymatic reactions. \n",
    "12. Place the QIAprep column in a clean 1.5 ml microcentrifuge tube. To elute DNA, add 50 μl Buffer EB (10 mM Tris·Cl, pH 8.5) or water to the center of each QIAprep spin column, let stand for 1 min, and centrifuge for 1 min.\n",
    "    만약 높은 농도로 elution 받고 싶다면 add 30 μL의 DW를 컬럼 가운데에 넣고, incubate at room temperature on the bench for 5 mins and then centrifuge for 1 min.\n",
    "\n",
    "------------\n",
    "\n",
    "### 노트\n",
    "- 한번에 10개 이상의 miniprep을 한다면 vacuum manifold 방법을 사용하는게 빠릅니다.\n",
    "- cell lysate를 column에 두번 거치면 수율이 약 20% 증가됩니다.\n",
    "- 시퀀싱 경과가 안나오는 이유는 대체로 염에 의한 오염으로, Washing 하는 과정을 충분하게 해줍니다."
   ]
  }
 ],
 "metadata": {
  "kernelspec": {
   "display_name": "Python 3",
   "language": "python",
   "name": "python3"
  },
  "language_info": {
   "codemirror_mode": {
    "name": "ipython",
    "version": 3
   },
   "file_extension": ".py",
   "mimetype": "text/x-python",
   "name": "python",
   "nbconvert_exporter": "python",
   "pygments_lexer": "ipython3",
   "version": "3.6.3"
  },
  "nikola": {
   "category": "",
   "date": "2017-12-29 09:34:10 UTC+09:00",
   "description": "",
   "link": "",
   "slug": "protocols",
   "tags": "",
   "title": "Protocols",
   "type": "text"
  }
 },
 "nbformat": 4,
 "nbformat_minor": 2
}
