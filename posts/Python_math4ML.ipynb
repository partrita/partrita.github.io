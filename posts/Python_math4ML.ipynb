{
 "cells": [
  {
   "cell_type": "markdown",
   "id": "0770b8c8-cc38-473e-b456-eec50cb71ea9",
   "metadata": {},
   "source": [
    "파이썬으로 `numpy`로 배우는 수학\n",
    "\n",
    "# 선형대수\n",
    "\n",
    "## 스칼라, 벡터, 행렬, 텐서"
   ]
  },
  {
   "cell_type": "code",
   "execution_count": 2,
   "id": "9401f7ea-1ae4-4126-b440-ac34bb9ef5eb",
   "metadata": {
    "tags": []
   },
   "outputs": [],
   "source": [
    "import numpy as np\n",
    "\n",
    "# 스칼라\n",
    "a = 1.5\n",
    "# 1차원 벡터\n",
    "b = np.array([1, 2, 3, 4])\n",
    "# 2x2 벡터\n",
    "c = np.array([[1, 2],\n",
    "              [3, 4]])\n",
    "# 텐서\n",
    "d = np.array([[[1, 2],\n",
    "               [3, 4],\n",
    "              [5, 6],\n",
    "              [7, 8]]])"
   ]
  },
  {
   "cell_type": "markdown",
   "id": "8a0767ee-ebab-4dd8-a0d8-749bd4f6bb20",
   "metadata": {},
   "source": [
    "##  "
   ]
  },
  {
   "cell_type": "markdown",
   "id": "e8caa734-64b2-409e-80b4-c5611a7fea18",
   "metadata": {},
   "source": [
    "## 벡터의 아다마르 곱(Hadamard product)\n",
    "\n",
    "벡터의 아다마르 곱은 각 요소를 곱한 것입니다. 따라서 벡터의 크기가 같아야 하고 교환법칙도 성립합니다.\n",
    "\n",
    "$ A \\odot B  = B \\odot A $ "
   ]
  },
  {
   "cell_type": "code",
   "execution_count": 35,
   "id": "a787418f-f523-4161-958b-e52e006af9f6",
   "metadata": {
    "tags": []
   },
   "outputs": [
    {
     "data": {
      "text/plain": [
       "array([[ 4, 10],\n",
       "       [ 4, 10]])"
      ]
     },
     "execution_count": 35,
     "metadata": {},
     "output_type": "execute_result"
    }
   ],
   "source": [
    "A = np.array([[1, 2], [4, 5]])\n",
    "B = np.array([[4, 5], [1, 2]])\n",
    "\n",
    "A * B"
   ]
  },
  {
   "cell_type": "markdown",
   "id": "25f511e3-7399-4de5-a1ed-24f47ce9f959",
   "metadata": {},
   "source": [
    "## 벡터의 내적(Dot product)\n",
    "\n",
    "벡터의 내적은 곱의 한 종류입니다. A와 B가 벡터이면, 길이가 같아야 하고 A와 B가 행렬이나 다차원 배열이면 크기가 같아야 합니다. 내적은 `Numpy`의 `dot()`으로 구할 수 있습니다.\n",
    "\n",
    "행렬 곱셈에 대해서는 교환법칙이 성립하지 않음으로 내적을 구하는 순서가 중요합니다.\n",
    "\n",
    "$AB \\neq BA$"
   ]
  },
  {
   "cell_type": "code",
   "execution_count": 32,
   "id": "b23e59c8-f999-4e0a-ae13-09f7afd8ea07",
   "metadata": {
    "tags": []
   },
   "outputs": [
    {
     "data": {
      "text/plain": [
       "array([[ 6,  9],\n",
       "       [21, 30]])"
      ]
     },
     "execution_count": 32,
     "metadata": {},
     "output_type": "execute_result"
    }
   ],
   "source": [
    "np.dot(A, B)"
   ]
  },
  {
   "cell_type": "code",
   "execution_count": 33,
   "id": "eac5848b-8c62-4dc8-b55c-7f8ed5aa8094",
   "metadata": {
    "tags": []
   },
   "outputs": [
    {
     "data": {
      "text/plain": [
       "array([[24, 33],\n",
       "       [ 9, 12]])"
      ]
     },
     "execution_count": 33,
     "metadata": {},
     "output_type": "execute_result"
    }
   ],
   "source": [
    "np.dot(B, A)"
   ]
  },
  {
   "cell_type": "markdown",
   "id": "3579a5d6-7215-4c21-997b-21eb024c0814",
   "metadata": {},
   "source": [
    "### 벡터의 전치(Transpose)\n",
    "\n",
    "행과 열을 바꾸는 것으로 전치된 행렬 $A$는 $A^T$로 표현합니다. `Numpy`에서는 `.T`로 구현합니다. 보통 내적을 계산하기 위한 전처리에 많이 사용됩니다."
   ]
  },
  {
   "cell_type": "code",
   "execution_count": 40,
   "id": "ca292194-9b14-4fc7-8ead-290df6a7a182",
   "metadata": {
    "tags": []
   },
   "outputs": [
    {
     "data": {
      "text/plain": [
       "array([[32, 14],\n",
       "       [77, 32]])"
      ]
     },
     "execution_count": 40,
     "metadata": {},
     "output_type": "execute_result"
    }
   ],
   "source": [
    "A = np.array([[1, 2, 3], [4, 5, 6]])  # 2x3행렬\n",
    "B = np.array([[4, 5, 6], [1, 2, 3]])  # 2x3행렬\n",
    "\n",
    "np.dot(A, B.T)"
   ]
  },
  {
   "cell_type": "markdown",
   "id": "e5d211a5-f2f5-4b6c-b1f9-05d7866bb7ee",
   "metadata": {},
   "source": [
    "## 백터의 외적(Cross product)\n",
    "\n",
    "$A \\times B$,  A cross B 라고 읽습니다.\n",
    "\n",
    "cross product = X : 외적 연산자로 좌변의 벡터에서 우변의 벡터로 cross 곱하면 두 벡터에 동시에 수직인 법선벡터의 방향이 표시된다.\n",
    "\n",
    "> 내적과 외적은 서로 전혀 관련이 없단다. 그냥 벡터의 여러가지 성질을 나타내기 위한 서로 다른 개념일 뿐이지."
   ]
  },
  {
   "cell_type": "code",
   "execution_count": 34,
   "id": "9c8eaf01-ebd4-4aa0-abb5-ec78a1d8e29c",
   "metadata": {
    "tags": []
   },
   "outputs": [
    {
     "data": {
      "text/plain": [
       "array([-3,  3])"
      ]
     },
     "execution_count": 34,
     "metadata": {},
     "output_type": "execute_result"
    }
   ],
   "source": [
    "np.cross(A, B)"
   ]
  },
  {
   "cell_type": "markdown",
   "id": "24d18be2-f667-427e-acb0-29909e50952e",
   "metadata": {},
   "source": [
    "## 벡터의 놈(Norm)\n",
    "\n",
    "벡터의 *크기*를 나타내는 양입니다. 기계학습에서는 *L1*, *L2* 놈을 과적합을 방지하기 위한 정규화 방법으로 사용합니다. `Numpy`의 `linalg.norm()`함수를 사용합니다.\n",
    "\n",
    "> 과적합(overfitting): 예측모델이 학습데이터에 대해서는 잘 예측하지만, 학습한 적이 없는 데이터에 대해서는 잘 예측하지 못하는 현상\n",
    "\n",
    "종류 | 거리를 구하는 방법 | 특징 \n",
    "---|---|---\n",
    "L1 놈 | 절대값 | 가중치가 작은 경우를 0으로 만들어 변수 선별이 가능. \n",
    "L2 놈 | 제곱값 | 모든 특징들이 다 필요하다고 보는 경우에 사용."
   ]
  },
  {
   "cell_type": "code",
   "execution_count": 36,
   "id": "4b7c1e26-da58-44e3-8742-886ccb4ac805",
   "metadata": {
    "tags": []
   },
   "outputs": [
    {
     "data": {
      "text/plain": [
       "7.0"
      ]
     },
     "execution_count": 36,
     "metadata": {},
     "output_type": "execute_result"
    }
   ],
   "source": [
    "# L1 놈\n",
    "np.linalg.norm(A, 1)"
   ]
  },
  {
   "cell_type": "code",
   "execution_count": 37,
   "id": "fb55bc7a-8c25-4865-96e5-42445f03ea82",
   "metadata": {
    "tags": []
   },
   "outputs": [
    {
     "data": {
      "text/plain": [
       "6.782329983125268"
      ]
     },
     "execution_count": 37,
     "metadata": {},
     "output_type": "execute_result"
    }
   ],
   "source": [
    "# L2 놈\n",
    "np.linalg.norm(A)"
   ]
  },
  {
   "cell_type": "markdown",
   "id": "ab97e967-b736-43ba-9443-9680d4b70fa8",
   "metadata": {},
   "source": [
    "## 단위행렬\n",
    "\n",
    "단위행렬은 행과 열의 수가 같고, 왼쪽 위에서부터 오른쪽 아래로 1이며, 나머지 요소는 0인 행렬입니다. $E$로 표기합니다. `Numpy`에서는 `eye()` 함수로 단위행렬을 만들 수 있습니다. "
   ]
  },
  {
   "cell_type": "code",
   "execution_count": 42,
   "id": "2576503a-4e73-45aa-9ef5-be447a217eef",
   "metadata": {
    "tags": []
   },
   "outputs": [
    {
     "data": {
      "text/plain": [
       "array([[1., 0.],\n",
       "       [0., 1.]])"
      ]
     },
     "execution_count": 42,
     "metadata": {},
     "output_type": "execute_result"
    }
   ],
   "source": [
    "np.eye(2) # 2x2 단위 행렬"
   ]
  },
  {
   "cell_type": "markdown",
   "id": "a84eeeba-07aa-4bb6-ab1f-f5f09964da1c",
   "metadata": {},
   "source": [
    "## 역행렬\n",
    "\n",
    "행렬 A에 곱하면 단위행렬이 되는 행렬로 $A^{-1}$로 나타냅니다. $AA^{-1} = E$으로 표현합니다. 행렬에 따라서 역행렬이 존재하지 않는 경우도 있습니다. 역행렬이 존재여부는 행렬식(determinant, 줄여서 det)에 의해 판단하며 이 행렬식이 '0'이 아니면 역행렬이 존재하고, 이 행렬식이 '0'이면 역행렬이 존재하지 않습니다. `Numpy`에서는 `linalg.det()` 함수로 행렬식을 계산하고 `linalg.inv()`로 역행렬을 구할 수 있습니다."
   ]
  },
  {
   "cell_type": "code",
   "execution_count": 44,
   "id": "e3550f84-b7ed-4e4e-a2ff-ec103a68bedd",
   "metadata": {
    "tags": []
   },
   "outputs": [
    {
     "data": {
      "text/plain": [
       "-2.9999999999999996"
      ]
     },
     "execution_count": 44,
     "metadata": {},
     "output_type": "execute_result"
    }
   ],
   "source": [
    "A = np.array([[1, 2], [4, 5]])\n",
    "np.linalg.det(A)"
   ]
  },
  {
   "cell_type": "code",
   "execution_count": 45,
   "id": "e7e44116-d61f-484e-b151-f06a7dfa2332",
   "metadata": {
    "tags": []
   },
   "outputs": [
    {
     "data": {
      "text/plain": [
       "array([[-1.66666667,  0.66666667],\n",
       "       [ 1.33333333, -0.33333333]])"
      ]
     },
     "execution_count": 45,
     "metadata": {},
     "output_type": "execute_result"
    }
   ],
   "source": [
    "np.linalg.inv(A)"
   ]
  },
  {
   "cell_type": "markdown",
   "id": "3b1c0dde-a1b0-443a-842e-58c045c224ce",
   "metadata": {},
   "source": [
    "## 선형변환"
   ]
  }
 ],
 "metadata": {
  "kernelspec": {
   "display_name": "Python 3 (ipykernel)",
   "language": "python",
   "name": "python3"
  },
  "language_info": {
   "codemirror_mode": {
    "name": "ipython",
    "version": 3
   },
   "file_extension": ".py",
   "mimetype": "text/x-python",
   "name": "python",
   "nbconvert_exporter": "python",
   "pygments_lexer": "ipython3",
   "version": "3.11.3"
  },
  "nikola": {
   "category": "python",
   "date": "2023-12-02 07:27:02 UTC+09:00",
   "description": "기계학습을 위한 수학",
   "link": "",
   "slug": "math-4-ML",
   "tags": [
    "Python",
    "machine learning",
    "데이터 과학",
    "통계"
   ],
   "title": "기계학습을 위한 수학",
   "type": "text"
  }
 },
 "nbformat": 4,
 "nbformat_minor": 5
}
