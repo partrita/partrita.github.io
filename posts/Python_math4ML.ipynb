{
 "cells": [
  {
   "cell_type": "markdown",
   "id": "0770b8c8-cc38-473e-b456-eec50cb71ea9",
   "metadata": {},
   "source": [
    "# 선형대수\n",
    "\n",
    "다차원의 구조를 가진 수치를 다루는 수학의 분야입니다. 따라서 많은 데이터를 다루는 기계학습에서 선형대수는 필수 입니다.\n",
    "\n",
    "## 스칼라, 벡터, 행렬, 텐서\n",
    "\n",
    "스칼라는 숫자 하나로 구성된 데이터를 의미합니다. 벡터는 여러 스칼라로 구성된 것으로 배열(array)라고도 합니다. 행렬은 여러개의 벡터가 2차원 배열로 구성되어 표처럼 나열한 것입니다. 텐서는 크기가 같은 행렬의 집합으로 다차원 배열을 의미합니다. 거꾸로 말해보면 0차원 텐서가 스칼라, 1차원 텐서가 벡터, 2차원 텐서가 행렬입니다."
   ]
  },
  {
   "cell_type": "code",
   "execution_count": 1,
   "id": "9401f7ea-1ae4-4126-b440-ac34bb9ef5eb",
   "metadata": {
    "tags": []
   },
   "outputs": [],
   "source": [
    "import numpy as np\n",
    "\n",
    "# 스칼라\n",
    "a = 1.5\n",
    "# 1차원 벡터\n",
    "b = np.array([1, 2, 3, 4])\n",
    "# 2x2 벡터 = 행렬\n",
    "c = np.array([[1, 2], [3, 4]])\n",
    "# 2x2x2 벡터 = 텐서\n",
    "d = np.array([[[1, 2], [3, 4], [5, 6], [7, 8]]])"
   ]
  },
  {
   "cell_type": "markdown",
   "id": "8a0767ee-ebab-4dd8-a0d8-749bd4f6bb20",
   "metadata": {},
   "source": [
    "## 벡터의 특성\n",
    "\n",
    "## 벡터의 연산\n",
    "### 벡터의 덧셈과 뺄셈"
   ]
  },
  {
   "cell_type": "markdown",
   "id": "e8caa734-64b2-409e-80b4-c5611a7fea18",
   "metadata": {},
   "source": [
    "## 벡터의 아다마르 곱(Hadamard product)\n",
    "\n",
    "벡터의 아다마르 곱은 각 요소를 곱한 것입니다. 따라서 벡터의 크기가 같아야 하고 교환법칙도 성립합니다.\n",
    "\n",
    "$ A \\odot B  = B \\odot A $ "
   ]
  },
  {
   "cell_type": "code",
   "execution_count": 2,
   "id": "a787418f-f523-4161-958b-e52e006af9f6",
   "metadata": {
    "tags": []
   },
   "outputs": [
    {
     "data": {
      "text/plain": [
       "array([[ 4, 10],\n",
       "       [ 4, 10]])"
      ]
     },
     "execution_count": 2,
     "metadata": {},
     "output_type": "execute_result"
    }
   ],
   "source": [
    "A = np.array([[1, 2], [4, 5]])\n",
    "B = np.array([[4, 5], [1, 2]])\n",
    "\n",
    "A * B"
   ]
  },
  {
   "cell_type": "markdown",
   "id": "25f511e3-7399-4de5-a1ed-24f47ce9f959",
   "metadata": {},
   "source": [
    "## 벡터의 내적(Dot product)\n",
    "\n",
    "벡터의 내적은 곱의 한 종류입니다. A와 B가 벡터이면, 길이가 같아야 하고 A와 B가 행렬이나 다차원 배열이면 크기가 같아야 합니다. 내적은 `Numpy`의 `dot()`으로 구할 수 있습니다.\n",
    "\n",
    "행렬 곱셈에 대해서는 교환법칙이 성립하지 않음으로 내적을 구하는 순서가 중요합니다.\n",
    "\n",
    "$AB \\neq BA$"
   ]
  },
  {
   "cell_type": "code",
   "execution_count": 3,
   "id": "b23e59c8-f999-4e0a-ae13-09f7afd8ea07",
   "metadata": {
    "tags": []
   },
   "outputs": [
    {
     "data": {
      "text/plain": [
       "array([[ 6,  9],\n",
       "       [21, 30]])"
      ]
     },
     "execution_count": 3,
     "metadata": {},
     "output_type": "execute_result"
    }
   ],
   "source": [
    "np.dot(A, B)"
   ]
  },
  {
   "cell_type": "code",
   "execution_count": 4,
   "id": "eac5848b-8c62-4dc8-b55c-7f8ed5aa8094",
   "metadata": {
    "tags": []
   },
   "outputs": [
    {
     "data": {
      "text/plain": [
       "array([[24, 33],\n",
       "       [ 9, 12]])"
      ]
     },
     "execution_count": 4,
     "metadata": {},
     "output_type": "execute_result"
    }
   ],
   "source": [
    "np.dot(B, A)"
   ]
  },
  {
   "cell_type": "markdown",
   "id": "3579a5d6-7215-4c21-997b-21eb024c0814",
   "metadata": {},
   "source": [
    "### 벡터의 전치(Transpose)\n",
    "\n",
    "행과 열을 바꾸는 것으로 전치된 행렬 $A$는 $A^T$로 표현합니다. `Numpy`에서는 `.T`로 구현합니다. 보통 내적을 계산하기 위한 전처리에 많이 사용됩니다."
   ]
  },
  {
   "cell_type": "code",
   "execution_count": 5,
   "id": "ca292194-9b14-4fc7-8ead-290df6a7a182",
   "metadata": {
    "tags": []
   },
   "outputs": [
    {
     "data": {
      "text/plain": [
       "array([[32, 14],\n",
       "       [77, 32]])"
      ]
     },
     "execution_count": 5,
     "metadata": {},
     "output_type": "execute_result"
    }
   ],
   "source": [
    "A = np.array([[1, 2, 3], [4, 5, 6]])  # 2x3행렬\n",
    "B = np.array([[4, 5, 6], [1, 2, 3]])  # 2x3행렬\n",
    "\n",
    "np.dot(A, B.T)"
   ]
  },
  {
   "cell_type": "markdown",
   "id": "e5d211a5-f2f5-4b6c-b1f9-05d7866bb7ee",
   "metadata": {},
   "source": [
    "## 백터의 외적(Cross product)\n",
    "\n",
    "$A \\times B$,  A cross B 라고 읽습니다.\n",
    "\n",
    "cross product = X : 외적 연산자로 좌변의 벡터에서 우변의 벡터로 cross 곱하면 두 벡터에 동시에 수직인 법선벡터의 방향이 표시된다.\n",
    "\n",
    "추가적으로 벡터의 내적과 외적은 서로 반대되는 개념이 아닙니다. 그냥 벡터의 여러가지 성질을 나타내기 위한 서로 다른 개념입니다."
   ]
  },
  {
   "cell_type": "code",
   "execution_count": 6,
   "id": "9c8eaf01-ebd4-4aa0-abb5-ec78a1d8e29c",
   "metadata": {
    "tags": []
   },
   "outputs": [
    {
     "data": {
      "text/plain": [
       "array([[-3,  6, -3],\n",
       "       [ 3, -6,  3]])"
      ]
     },
     "execution_count": 6,
     "metadata": {},
     "output_type": "execute_result"
    }
   ],
   "source": [
    "np.cross(A, B)"
   ]
  },
  {
   "cell_type": "markdown",
   "id": "24d18be2-f667-427e-acb0-29909e50952e",
   "metadata": {},
   "source": [
    "## 벡터의 놈(Norm)\n",
    "\n",
    "벡터의 *크기*를 나타내는 양입니다. 기계학습에서는 *L1*, *L2* 놈을 과적합을 방지하기 위한 정규화 방법으로 사용합니다. `Numpy`의 `linalg.norm()`함수를 사용합니다.\n",
    "\n",
    "> 과적합(overfitting): 예측모델이 학습데이터에 대해서는 잘 예측하지만, 학습한 적이 없는 데이터에 대해서는 잘 예측하지 못하는 현상\n",
    "\n",
    "종류 | 거리를 구하는 방법 | 특징 \n",
    "---|---|---\n",
    "L1 놈 | 절대값 | 가중치가 작은 경우를 0으로 만들어 변수 선별이 가능. \n",
    "L2 놈 | 제곱값 | 모든 특징들이 다 필요하다고 보는 경우에 사용."
   ]
  },
  {
   "cell_type": "code",
   "execution_count": 7,
   "id": "4b7c1e26-da58-44e3-8742-886ccb4ac805",
   "metadata": {
    "tags": []
   },
   "outputs": [
    {
     "data": {
      "text/plain": [
       "9.0"
      ]
     },
     "execution_count": 7,
     "metadata": {},
     "output_type": "execute_result"
    }
   ],
   "source": [
    "# L1 놈\n",
    "np.linalg.norm(A, 1)"
   ]
  },
  {
   "cell_type": "code",
   "execution_count": 8,
   "id": "fb55bc7a-8c25-4865-96e5-42445f03ea82",
   "metadata": {
    "tags": []
   },
   "outputs": [
    {
     "data": {
      "text/plain": [
       "9.539392014169456"
      ]
     },
     "execution_count": 8,
     "metadata": {},
     "output_type": "execute_result"
    }
   ],
   "source": [
    "# L2 놈\n",
    "np.linalg.norm(A)"
   ]
  },
  {
   "cell_type": "markdown",
   "id": "e852e75c-3a01-46f9-9ef8-1d071461d1ec",
   "metadata": {},
   "source": [
    "### 코사인 유사도\n",
    "\n",
    "이름에서 알 수 있듯이 벡터의 유사도를 수치화하는 방법입니다. 같은 방향인 경우 최댓값이 1이고 반대 방향인 경우 최솟값이 -1입니다. 코사인 유사도를 구하는 방법은 내적과 놈을 사용합니다."
   ]
  },
  {
   "cell_type": "code",
   "execution_count": 9,
   "id": "eb69f07a-fa4b-40c4-8d6c-6502cc8c2130",
   "metadata": {
    "tags": []
   },
   "outputs": [
    {
     "data": {
      "text/plain": [
       "0.9778024140774094"
      ]
     },
     "execution_count": 9,
     "metadata": {},
     "output_type": "execute_result"
    }
   ],
   "source": [
    "A = np.array([1, 2])  # 2x2행렬\n",
    "B = np.array([4, 5])  # 2x2행렬\n",
    "\n",
    "\n",
    "def cosine_similar(x, y):\n",
    "    return np.dot(x, y) / (np.linalg.norm(x) * np.linalg.norm(y))\n",
    "\n",
    "\n",
    "cosine_similar(A, B)"
   ]
  },
  {
   "cell_type": "markdown",
   "id": "ab97e967-b736-43ba-9443-9680d4b70fa8",
   "metadata": {},
   "source": [
    "# 행렬\n",
    "\n",
    "## 단위행렬\n",
    "\n",
    "단위행렬은 행과 열의 수가 같고, 왼쪽 위에서부터 오른쪽 아래로 1이며, 나머지 요소는 0인 행렬입니다. $E$로 표기합니다. `Numpy`에서는 `eye()` 함수로 단위행렬을 만들 수 있습니다. "
   ]
  },
  {
   "cell_type": "code",
   "execution_count": 10,
   "id": "2576503a-4e73-45aa-9ef5-be447a217eef",
   "metadata": {
    "tags": []
   },
   "outputs": [
    {
     "data": {
      "text/plain": [
       "array([[1., 0.],\n",
       "       [0., 1.]])"
      ]
     },
     "execution_count": 10,
     "metadata": {},
     "output_type": "execute_result"
    }
   ],
   "source": [
    "np.eye(2)  # 2x2 단위 행렬"
   ]
  },
  {
   "cell_type": "markdown",
   "id": "a84eeeba-07aa-4bb6-ab1f-f5f09964da1c",
   "metadata": {},
   "source": [
    "## 역행렬\n",
    "\n",
    "행렬 A에 곱하면 단위행렬이 되는 행렬로 $A^{-1}$로 나타냅니다. $AA^{-1} = E$으로 표현합니다. 행렬에 따라서 역행렬이 존재하지 않는 경우도 있습니다. 역행렬이 존재여부는 행렬식(determinant, 줄여서 det)에 의해 판단하며 이 행렬식이 '0'이 아니면 역행렬이 존재하고, 이 행렬식이 '0'이면 역행렬이 존재하지 않습니다. `Numpy`에서는 `linalg.det()` 함수로 행렬식을 계산하고 `linalg.inv()`로 역행렬을 구할 수 있습니다."
   ]
  },
  {
   "cell_type": "code",
   "execution_count": 11,
   "id": "e3550f84-b7ed-4e4e-a2ff-ec103a68bedd",
   "metadata": {
    "tags": []
   },
   "outputs": [
    {
     "data": {
      "text/plain": [
       "-2.9999999999999996"
      ]
     },
     "execution_count": 11,
     "metadata": {},
     "output_type": "execute_result"
    }
   ],
   "source": [
    "A = np.array([[1, 2], [4, 5]])\n",
    "np.linalg.det(A)"
   ]
  },
  {
   "cell_type": "code",
   "execution_count": 12,
   "id": "e7e44116-d61f-484e-b151-f06a7dfa2332",
   "metadata": {
    "tags": []
   },
   "outputs": [
    {
     "data": {
      "text/plain": [
       "array([[-1.66666667,  0.66666667],\n",
       "       [ 1.33333333, -0.33333333]])"
      ]
     },
     "execution_count": 12,
     "metadata": {},
     "output_type": "execute_result"
    }
   ],
   "source": [
    "np.linalg.inv(A)"
   ]
  },
  {
   "cell_type": "markdown",
   "id": "3b1c0dde-a1b0-443a-842e-58c045c224ce",
   "metadata": {},
   "source": [
    "# 미분과 적분\n",
    "\n",
    "미분과 적분은 변화를 예측하고 원인을 이해하는데 필요합니다. 예를 들어 운전을 할때 시간당 변화율을 안다면 얼마나 멀리 갔는지를 예측할 수 있죠.\n",
    "\n",
    "<!-- ## 상미분과 편미분\n",
    "상미분은 구하려는 함수가 하나의 독립 변수만을 가지고 있는 미분 방정식입니다. 반대되는 개념으로 여러 변수에 대한 편미분 방정식이 있습니다. -->\n",
    "\n",
    "## 심파이(Sympy)\n",
    "\n",
    "`Sympy`은 수학적인 심볼들을 사용하여 수식을 표현하고, 이러한 심볼들을 다루는 연산을 수행하기 위한 라이브러리입니다. `Sympy`를 사용하면 파이썬으로 다양한 수학적인 문제를 해결할 수 있습니다. 아래와 같이 `sympy`를 설치하세요.\n",
    " \n",
    "```\n",
    "conda install sympy\n",
    "# 혹은 pip install sympy\n",
    "```\n",
    "\n",
    "<!-- ### 상미분 풀이\n",
    "\n",
    "다음 상미분 선형 미분방정식을 파이썬으로 풀어봅니다.\n",
    "$$ xy′ + y = 5x$$\n",
    "\n",
    "```\n",
    "# 함수 설정\n",
    "x = sp.symbols('x')\n",
    "f = sp.symbols('f', cls=sp.Function)\n",
    "y = f(x)\n",
    "\n",
    "# 방정식 정의\n",
    "eq = sp.Eq(x * sp.diff(y, x) + y, 5 * x)\n",
    "\n",
    "# dsolve 함수는 미분방정식의 해를 구합니다.\n",
    "sp.dsolve(eq, y)\n",
    "``` -->"
   ]
  },
  {
   "cell_type": "code",
   "execution_count": 13,
   "id": "0878caac",
   "metadata": {},
   "outputs": [],
   "source": [
    "import sympy as sp\n",
    "from sympy.abc import x, y\n",
    "\n",
    "# Juypter에서 LaTeX 표현을 위해 필요\n",
    "sp.init_printing(use_latex=\"mathjax\")"
   ]
  },
  {
   "cell_type": "markdown",
   "id": "11276c88",
   "metadata": {},
   "source": [
    "간단한 수식 만들기"
   ]
  },
  {
   "cell_type": "code",
   "execution_count": 14,
   "id": "c3f66e02",
   "metadata": {},
   "outputs": [
    {
     "data": {
      "text/latex": [
       "$\\displaystyle x^{2} + x + 6$"
      ],
      "text/plain": [
       " 2        \n",
       "x  + x + 6"
      ]
     },
     "execution_count": 14,
     "metadata": {},
     "output_type": "execute_result"
    }
   ],
   "source": [
    "exp = x**2 + 1 * x + 6\n",
    "exp"
   ]
  },
  {
   "cell_type": "markdown",
   "id": "0fe927f7",
   "metadata": {},
   "source": [
    "## 편미분\n",
    "\n",
    "편미분은 다변수 함수에서 관심이 있는 한 변수만 변수로 생각하고, 나머지 변수들은 상수로 취급한 뒤 미분하는 방법입니다."
   ]
  },
  {
   "cell_type": "code",
   "execution_count": 15,
   "id": "2e5e3376",
   "metadata": {},
   "outputs": [
    {
     "data": {
      "text/latex": [
       "$\\displaystyle 2 x + 1$"
      ],
      "text/plain": [
       "2⋅x + 1"
      ]
     },
     "execution_count": 15,
     "metadata": {},
     "output_type": "execute_result"
    }
   ],
   "source": [
    "sp.diff(exp, x)"
   ]
  },
  {
   "cell_type": "code",
   "execution_count": 16,
   "id": "2ee40bef",
   "metadata": {},
   "outputs": [
    {
     "data": {
      "text/latex": [
       "$\\displaystyle 2$"
      ],
      "text/plain": [
       "2"
      ]
     },
     "execution_count": 16,
     "metadata": {},
     "output_type": "execute_result"
    }
   ],
   "source": [
    "sp.diff(exp, x, x)  # x로 2번 미분"
   ]
  },
  {
   "cell_type": "markdown",
   "id": "83132f03",
   "metadata": {},
   "source": [
    "## 전미분\n",
    "\n",
    "다변수 함수를 모든 변수에 대해 미분하는 것을 전미분이라 합니다."
   ]
  },
  {
   "cell_type": "code",
   "execution_count": 17,
   "id": "50732c28",
   "metadata": {},
   "outputs": [
    {
     "data": {
      "text/latex": [
       "$\\displaystyle x^{3} + x + y^{2} + 5$"
      ],
      "text/plain": [
       " 3        2    \n",
       "x  + x + y  + 5"
      ]
     },
     "execution_count": 17,
     "metadata": {},
     "output_type": "execute_result"
    }
   ],
   "source": [
    "exp = x**3 + y**2 + 1 * x + 5\n",
    "exp"
   ]
  },
  {
   "cell_type": "code",
   "execution_count": 18,
   "id": "e424521f",
   "metadata": {},
   "outputs": [
    {
     "data": {
      "text/latex": [
       "$\\displaystyle - \\frac{3 x^{2} + 1}{2 y}$"
      ],
      "text/plain": [
       " ⎛   2    ⎞ \n",
       "-⎝3⋅x  + 1⎠ \n",
       "────────────\n",
       "    2⋅y     "
      ]
     },
     "execution_count": 18,
     "metadata": {},
     "output_type": "execute_result"
    }
   ],
   "source": [
    "# dy/dx\n",
    "sp.idiff(exp, y, x)"
   ]
  },
  {
   "cell_type": "code",
   "execution_count": 19,
   "id": "4c6e927d",
   "metadata": {},
   "outputs": [
    {
     "data": {
      "text/latex": [
       "$\\displaystyle - \\frac{2 y}{3 x^{2} + 1}$"
      ],
      "text/plain": [
       " -2⋅y   \n",
       "────────\n",
       "   2    \n",
       "3⋅x  + 1"
      ]
     },
     "execution_count": 19,
     "metadata": {},
     "output_type": "execute_result"
    }
   ],
   "source": [
    "# dx/dy\n",
    "sp.idiff(exp, x, y)"
   ]
  },
  {
   "cell_type": "markdown",
   "id": "ce4ab0df",
   "metadata": {},
   "source": [
    "## 적분\n",
    "\n",
    "적분(integral)은 미분과 반대되는 개념입니다. 적분에는 부정적분(indefinite integral)과 정적분(definite integral)이 있습니다. 부정적분은 미분되기 전의 원래 함수를 찾는 과정이라고 할 수 있으며 정적분은 특정 구간에서의 함수의 면적을 구하는 것으로 구분할 수 있습니다.\n",
    "\n",
    "### 부정적분"
   ]
  },
  {
   "cell_type": "code",
   "execution_count": 20,
   "id": "f9a720ce",
   "metadata": {},
   "outputs": [
    {
     "data": {
      "text/latex": [
       "$\\displaystyle x^{3} - 2 x^{2} + x + 25$"
      ],
      "text/plain": [
       " 3      2         \n",
       "x  - 2⋅x  + x + 25"
      ]
     },
     "execution_count": 20,
     "metadata": {},
     "output_type": "execute_result"
    }
   ],
   "source": [
    "x, y = sp.symbols(\"x y\")\n",
    "exp = x**3 - 2 * x**2 + x + 25\n",
    "exp"
   ]
  },
  {
   "cell_type": "code",
   "execution_count": 21,
   "id": "ffedef61",
   "metadata": {},
   "outputs": [
    {
     "data": {
      "text/latex": [
       "$\\displaystyle \\frac{x^{4}}{4} - \\frac{2 x^{3}}{3} + \\frac{x^{2}}{2} + 25 x$"
      ],
      "text/plain": [
       " 4      3    2       \n",
       "x    2⋅x    x        \n",
       "── - ──── + ── + 25⋅x\n",
       "4     3     2        "
      ]
     },
     "execution_count": 21,
     "metadata": {},
     "output_type": "execute_result"
    }
   ],
   "source": [
    "# 부정 적분\n",
    "F = sp.integrate(exp)\n",
    "F"
   ]
  },
  {
   "cell_type": "markdown",
   "id": "d6225b85",
   "metadata": {},
   "source": [
    "### 정적분\n",
    "\n",
    "위에서 구한 부정적분 값에 구간(0에서 3)을 넣어 계산을 합니다."
   ]
  },
  {
   "cell_type": "code",
   "execution_count": 22,
   "id": "7c1abf41",
   "metadata": {},
   "outputs": [
    {
     "data": {
      "text/latex": [
       "$\\displaystyle 81.75$"
      ],
      "text/plain": [
       "81.7500000000000"
      ]
     },
     "execution_count": 22,
     "metadata": {},
     "output_type": "execute_result"
    }
   ],
   "source": [
    "(F.subs(x, 3) - F.subs(x, 0)).evalf()"
   ]
  }
 ],
 "metadata": {
  "kernelspec": {
   "display_name": "Python 3 (ipykernel)",
   "language": "python",
   "name": "python3"
  },
  "language_info": {
   "codemirror_mode": {
    "name": "ipython",
    "version": 3
   },
   "file_extension": ".py",
   "mimetype": "text/x-python",
   "name": "python",
   "nbconvert_exporter": "python",
   "pygments_lexer": "ipython3",
   "version": "3.11.3"
  },
  "nikola": {
   "category": "python",
   "date": "2023-12-02 07:27:02 UTC+09:00",
   "description": "기계학습을 위한 수학",
   "link": "",
   "slug": "math-4-ML",
   "tags": [
    "Python",
    "machine learning",
    "데이터 과학",
    "통계"
   ],
   "title": "기계학습을 위한 수학",
   "type": "text"
  }
 },
 "nbformat": 4,
 "nbformat_minor": 5
}
