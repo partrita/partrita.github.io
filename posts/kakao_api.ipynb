{
 "cells": [
  {
   "cell_type": "markdown",
   "metadata": {},
   "source": [
    "# 카카오 비전 API\n",
    "\n",
    "카카오에서 최근에 흥미로운 서비스를 시작했습니다. 컴퓨터 비전(Computer Vision) API로 이미지 분석을 해주는 것이지요. 카카오 측에서는 아래와 같이 설명하고 있습니다.\n",
    "\n",
    "> 이미지를 분석해서 콘텐츠 형태와 의미를 이해하고, 이미지를 활용할 수 있게 도와주는 API입니다.\n",
    "\n",
    "현재 제공되는 API는 다음과 같습니다. \n",
    "\n",
    "- 얼굴 검출\n",
    "- 상품 검출\n",
    "- 썸네일 생성\n",
    "- 성인 이미지 판별\n",
    "\n",
    "특별히 새로운것은 아니지만, 카카오에서 공개한 API의 성능을 확인하고자 사용해봤습니다. 자세한 내용은 [사이트](https://developers.kakao.com/docs/restapi/vision)를 참고하세요.\n",
    "\n",
    "# API 준수사항\n",
    "\n",
    "API 사용시 다음과 같은 사항을 준수해야 합니다.\n",
    "\n",
    "- 서버에서 호출하는 경우 REST API 키를 사용해 호출합니다.\n",
    "- 모든 API는 file 또는 image_url 중 하나의 값을 지정해야 합니다.\n",
    "- file에 업로드되는 이미지와 image_url에 지정되는 이미지는 png 또는 jpg 포맷만 지원합니다.\n",
    "- file을 업로드하는 경우는 \"multipart/form-data\"로 POST 되어야 합니다.\n",
    "- image_url로 호출 하는 경우는 \"application/x-www-form-urlencoded\"로 POST 되어야 합니다\n",
    "\n",
    "\n",
    "# 활용 예제 살펴보기\n",
    "\n",
    "카카오에서 간단한 활용 `파이썬` 코드를 제공하고 있습니다. 거기서 **얼굴을 추출해 모자이크 처리하는 예제**가 흥미로워 보였습니다. 카카오 API로 얼굴의 좌표를 인식하고 `pillow` 라이브러리를 이용해서 잘라내고 리사이즈를 해서 다시 붙여(모자이크처리) 넣습니다.  \n",
    "\n",
    "예제로 사용할 사진은 아래와 같이 준비했습니다.\n",
    "\n",
    "1. 원숭이 사진\n",
    "![monkey](https://i.imgur.com/HIp4WAQ.jpg)\n",
    "2. 단체사진\n",
    "![peoples](https://i.imgur.com/9n0fVoI.jpg)\n",
    "\n",
    "사용한 코드는 아래와 같습니다. \n",
    "- 본인의 API 키를 넣어야 작동합니다.\n",
    "- 변환할 사진 파일은 jpg 혹은 png 포멧이어야 합니다.\n",
    "- 사진 파일의 폴더위치를 말해주거나, 기본값으로 같은 폴더에 있으면 작동하게 만들었습니다.\n",
    "- 모자이크 처리된 파일은 파일명에 *mosaic_*를 붙여서 생성됩니다."
   ]
  },
  {
   "cell_type": "code",
   "execution_count": 1,
   "metadata": {},
   "outputs": [
    {
     "name": "stdout",
     "output_type": "stream",
     "text": [
      "!!  All process finished  !!\n"
     ]
    }
   ],
   "source": [
    "import sys\n",
    "import argparse\n",
    "import requests\n",
    "from PIL import Image, ImageFilter\n",
    "import glob\n",
    "import os\n",
    "\n",
    "API_URL = 'https://kapi.kakao.com/v1/vision/face/detect'\n",
    "# My Kakao api key, 본인 계정의 API 키로 변경해서 사용하세요.\n",
    "MYAPP_KEY = 'b5f1dde7995c36168408b69308ef2186'\n",
    "\n",
    "def detect_face(filename):\n",
    "    headers = {'Authorization': 'KakaoAK {}'.format(MYAPP_KEY)}\n",
    "\n",
    "    try:\n",
    "        files = { 'file' : open(filename, 'rb')}\n",
    "        resp = requests.post(API_URL, headers=headers, files=files)\n",
    "        resp.raise_for_status()\n",
    "        return resp.json()\n",
    "    except Exception as e:\n",
    "        print(str(e))\n",
    "        sys.exit(0)\n",
    "\n",
    "def mosaic(filename, detection_result):\n",
    "    image = Image.open(filename)\n",
    "\n",
    "    for face in detection_result['result']['faces']:\n",
    "        x = int(face['x']*image.width)\n",
    "        w = int(face['w']*image.width)\n",
    "        y = int(face['y']*image.height)\n",
    "        h = int(face['h']*image.height)\n",
    "        box = image.crop((x,y,x+w, y+h))\n",
    "        # 모자이크 강도를 조절하려면 사이즈를 조절하세요.\n",
    "        box = box.resize((20,20), Image.NEAREST).resize((w,h), Image.NEAREST)\n",
    "        image.paste(box, (x,y,x+w, y+h))\n",
    "    return image\n",
    "\n",
    "\n",
    "\n",
    "if __name__ == \"__main__\":\n",
    "    parser = argparse.ArgumentParser(description='Mosaic all of faces.')\n",
    "    parser.add_argument('-f', '--folder', type=str, nargs='?', default=\"./.\",\n",
    "                        help='image file to hide faces', required = True)\n",
    "    args = parser.parse_args()\n",
    "    # Make files lists\n",
    "    files = glob.glob('*.jpg') + glob.glob('*.jpeg') + glob.glob('*.png')\n",
    "    # make loop\n",
    "    for i in files:\n",
    "        head, tail = os.path.split(i)\n",
    "        try:\n",
    "            detection_result = detect_face(i)\n",
    "            image = mosaic(i, detection_result)           \n",
    "            image.save(head+'mosaic_'+tail,'JPEG')\n",
    "            print('! Add mosaic on : ' + tail)\n",
    "        except:\n",
    "            print('! Face does not detected on : ' + tail) \n",
    "    \n",
    "    print('!!  All process finished  !!')\n"
   ]
  },
  {
   "cell_type": "markdown",
   "metadata": {},
   "source": [
    "# 결과\n",
    "\n",
    "1. 원숭이 사진\n",
    "![](https://i.imgur.com/SMNZSM4.jpg)\n",
    "2. 단체사진\n",
    "![](https://i.imgur.com/DwBjyNp.jpg)\n",
    "\n",
    "얼굴을 인식해서 모자이크 처리가 되는것을 볼수 있습니다. 이처럼 카카오에서 제공하는 API는 꽤나 강력합니다. 다만 얼굴 인식외에 상품 검출과 성인이미지 검출은 아직 인식률이 부족한것 같아서 앞으로 업데이트를 기대합니다.\n"
   ]
  }
 ],
 "metadata": {
  "kernelspec": {
   "display_name": "Python 3",
   "language": "python",
   "name": "python3"
  },
  "language_info": {
   "codemirror_mode": {
    "name": "ipython",
    "version": 3
   },
   "file_extension": ".py",
   "mimetype": "text/x-python",
   "name": "python",
   "nbconvert_exporter": "python",
   "pygments_lexer": "ipython3",
   "version": "3.6.3"
  },
  "nikola": {
   "category": "learn",
   "date": "2018-03-16 15:35:54 UTC+09:00",
   "description": "카카오의 API 서비스를 이용해 쓸모 없는 일하기",
   "link": "",
   "slug": "kakao_api",
   "tags": [
    "kakao",
    "REST API"
   ],
   "title": "카카오의 REST API 사용하기",
   "type": "text"
  }
 },
 "nbformat": 4,
 "nbformat_minor": 2
}
