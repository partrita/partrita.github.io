{
 "cells": [
  {
   "cell_type": "markdown",
   "metadata": {},
   "source": [
    "# 0. 시작하기전에\n",
    "\n",
    "책 *이승찬, 모두의 알고리즘 with 파이썬, 길벗, 2017* 을 읽고 복습을 위해 정리한 것입니다. 자세한 내용은 [책](https://www.gilbut.co.kr/book/bookView.aspx?bookcode=BN001731&page=1&TF=T)을 읽어주세요.\n",
    "\n",
    "\n",
    "# 1. 알고리즘 기초\n",
    "알고리즘이란 간단히 말해 **어떤 문제를 풀기 위한 절차나 방법** 입니다. 간단한 문제를 풀어 보면서 알고리즘에 대해 살펴 보겠습니다.\n",
    "\n",
    "## 문제.1 1부터 n까지의 합구하기"
   ]
  },
  {
   "cell_type": "code",
   "execution_count": 1,
   "metadata": {},
   "outputs": [
    {
     "data": {
      "text/plain": [
       "500500"
      ]
     },
     "execution_count": 1,
     "metadata": {},
     "output_type": "execute_result"
    }
   ],
   "source": [
    "# 해법1\n",
    "def sum_n(n):\n",
    "    s = 0\n",
    "    for i in range(1, n+1):\n",
    "        s += i\n",
    "    return s\n",
    "\n",
    "sum_n(1000)"
   ]
  },
  {
   "cell_type": "code",
   "execution_count": 2,
   "metadata": {},
   "outputs": [
    {
     "data": {
      "text/plain": [
       "500500"
      ]
     },
     "execution_count": 2,
     "metadata": {},
     "output_type": "execute_result"
    }
   ],
   "source": [
    "# 해법 2\n",
    "def sum_n2(n):\n",
    "    return n*(n+1)//2\n",
    "sum_n2(1000)"
   ]
  },
  {
   "cell_type": "markdown",
   "metadata": {},
   "source": [
    "### 입력 크기와 계산 횟수\n",
    "입력의 크기(n)에 따라서 해법에 차이가 생깁니다.\n",
    "1. 해법1의 경우는: 덧셈 n 번\n",
    "2. 해법2의 경우 덧셈, 곱셈, 나눗셈 총 3번\n",
    "입력의 크기가 작을때는 큰 차이가 없지만, n의 크기가 커질수록 속도에 엄청난 차이가 납니다.\n",
    "\n",
    "## O 표기법\n",
    "계산복잡도를 표헌하는 방법 중 가장 많이 사용되는 방법입니다. **빅 오**표기법이라고도 부릅니다. 간단한 예를 들면, 입력 크기 n에 대해 계산을 n번 한다면, 계산 복잡도를 O(n)이라고 표현합니다.\n",
    "- O(n) : 필요한 계산 횟수가 입력크기 n과 비례할 때\n",
    "- O(1): 필요한 계산 횟수가 입력크기와 무관할 때 \n",
    "- O(n^2) : n의 제곱에 비례하여 계산 시간이 증가함\n",
    "- O(2^n) : 2의 n 제곱에 비례하여 계산 시간이 증가함\n",
    "\n",
    "Jupyter notebook의 `%%time` 기능을 사용해 위의 두가지 해법의 속도를 비교해보겠습니다."
   ]
  },
  {
   "cell_type": "code",
   "execution_count": 3,
   "metadata": {},
   "outputs": [
    {
     "name": "stdout",
     "output_type": "stream",
     "text": [
      "CPU times: user 12 ms, sys: 0 ns, total: 12 ms\n",
      "Wall time: 12.3 ms\n"
     ]
    },
    {
     "data": {
      "text/plain": [
       "5000050000"
      ]
     },
     "execution_count": 3,
     "metadata": {},
     "output_type": "execute_result"
    }
   ],
   "source": [
    "%%time\n",
    "sum_n(100000)"
   ]
  },
  {
   "cell_type": "code",
   "execution_count": 4,
   "metadata": {},
   "outputs": [
    {
     "name": "stdout",
     "output_type": "stream",
     "text": [
      "CPU times: user 0 ns, sys: 0 ns, total: 0 ns\n",
      "Wall time: 10.5 µs\n"
     ]
    },
    {
     "data": {
      "text/plain": [
       "5000050000"
      ]
     },
     "execution_count": 4,
     "metadata": {},
     "output_type": "execute_result"
    }
   ],
   "source": [
    "%%time\n",
    "sum_n2(100000)"
   ]
  },
  {
   "cell_type": "markdown",
   "metadata": {},
   "source": [
    "위의 두가지 알고리즘은 같은 문제를 해결하지만 시간에서 약 열배의 차이를 보여 주고 있습니다. 더 많은 양의 입력이 들어오면 차이는 더욱더 커지게 될겁니다. \n",
    "문제를 해결하는데 있어서 다양한 방법이 존재할 수 있지만 우리가 가능하면 빠른 알고리즘을 짜야할 이유는 이 때문입니다."
   ]
  },
  {
   "cell_type": "markdown",
   "metadata": {},
   "source": [
    "## 문제2. 최댓값 찾기\n",
    "주어진 숫자 n개 중 가장 큰 숫자를 찾는 알고리즘을 만들어 보세요"
   ]
  },
  {
   "cell_type": "code",
   "execution_count": 5,
   "metadata": {},
   "outputs": [
    {
     "data": {
      "text/plain": [
       "6"
      ]
     },
     "execution_count": 5,
     "metadata": {},
     "output_type": "execute_result"
    }
   ],
   "source": [
    "def find_max(x):\n",
    "    n = len(x)\n",
    "    max_v = x[0]\n",
    "    for i in range(1,n):\n",
    "        if x[i] > max_v:\n",
    "            max_v = x[i]\n",
    "    return max_v\n",
    "\n",
    "v = [1,2,3,4,5,6]\n",
    "find_max(v)"
   ]
  },
  {
   "cell_type": "markdown",
   "metadata": {},
   "source": [
    "## 최댓값의 위치를 구하는 알고리즘"
   ]
  },
  {
   "cell_type": "code",
   "execution_count": 6,
   "metadata": {},
   "outputs": [
    {
     "data": {
      "text/plain": [
       "6"
      ]
     },
     "execution_count": 6,
     "metadata": {},
     "output_type": "execute_result"
    }
   ],
   "source": [
    "def find_index(x):\n",
    "    n = len(x)\n",
    "    max_index = 0\n",
    "    for i in range(1,n):\n",
    "        if x[i] > x[max_index]:\n",
    "            max_index = i\n",
    "    return max_index + 1 # 0부터 시작되기때문에 1을 더해줌\n",
    "\n",
    "v = [1,2,3,4,5,6]\n",
    "find_index(v)"
   ]
  },
  {
   "cell_type": "markdown",
   "metadata": {},
   "source": [
    "## 문제3. 같은 값 찾기 \n",
    "n개의 데이터 중에서 같은 이름을 찾아 집함으로 돌려주는 알고리즘"
   ]
  },
  {
   "cell_type": "code",
   "execution_count": 7,
   "metadata": {},
   "outputs": [
    {
     "data": {
      "text/plain": [
       "{'Cm'}"
      ]
     },
     "execution_count": 7,
     "metadata": {},
     "output_type": "execute_result"
    }
   ],
   "source": [
    "def find_same_data(a):\n",
    "    n = len(a)\n",
    "    result = set() # 결과 저장용 빈 집합\n",
    "    for i in range(0, n-1):\n",
    "        for j in range(i+1, n):\n",
    "            if a[i] == a[j]:\n",
    "                result.add(a[i])\n",
    "    return result\n",
    "data = ['C','Cm','D7','E','Cm']\n",
    "find_same_data(data)"
   ]
  },
  {
   "cell_type": "markdown",
   "metadata": {},
   "source": [
    "# 2. 재귀호출\n",
    "재귀호출은 함수가 자기 자신을 다시 호출 하는 것을 뜻합니다.\n",
    "```python\n",
    "def hi():\n",
    "    print('hi')\n",
    "    hi() # hi함수를 다시 호출\n",
    "```\n",
    "이것이 바로 재귀 호출입니다. 'hi'라는 문장을 출력한 다음 다시 자기 자신인 `hi()`를 호출 하므로 영원히 반복하는 것입니다. \n",
    "\n",
    "\n",
    "## 문제4. 팩토리얼 구하기\n",
    "1부터 n까지 연속한 정수의 곱을 구하는 알고리즘을 만들어 보세요."
   ]
  },
  {
   "cell_type": "code",
   "execution_count": 8,
   "metadata": {},
   "outputs": [
    {
     "data": {
      "text/plain": [
       "3628800"
      ]
     },
     "execution_count": 8,
     "metadata": {},
     "output_type": "execute_result"
    }
   ],
   "source": [
    "# 해법 1 \n",
    "def fact1(n):\n",
    "    result = 1\n",
    "    for i in range(1, n+1):\n",
    "        result *= i\n",
    "    return result\n",
    "fact1(10)"
   ]
  },
  {
   "cell_type": "code",
   "execution_count": 9,
   "metadata": {},
   "outputs": [
    {
     "data": {
      "text/plain": [
       "3628800"
      ]
     },
     "execution_count": 9,
     "metadata": {},
     "output_type": "execute_result"
    }
   ],
   "source": [
    "# 해법2, 재귀 호출 사용\n",
    "def fact2(n):\n",
    "    if n <= 1:\n",
    "        return 1\n",
    "    return n*fact2(n-1)\n",
    "fact2(10)"
   ]
  },
  {
   "cell_type": "markdown",
   "metadata": {},
   "source": [
    "1부터 n까지 합을 구하는 문제1을 재귀호출로 다시 한번 풀어보겠습니다. "
   ]
  },
  {
   "cell_type": "code",
   "execution_count": 10,
   "metadata": {},
   "outputs": [
    {
     "data": {
      "text/plain": [
       "5050"
      ]
     },
     "execution_count": 10,
     "metadata": {},
     "output_type": "execute_result"
    }
   ],
   "source": [
    "def sum_n(n):\n",
    "    if n == 0:\n",
    "        return 0\n",
    "    return sum_n(n-1) + n\n",
    "sum_n(100)\n",
    "    "
   ]
  },
  {
   "cell_type": "markdown",
   "metadata": {},
   "source": [
    "## 문제5. 최대공약수 구하기\n",
    "두 자연수 a와 b의 최대공약수를 구하는 알고리즘을 만들어 보세요.\n",
    "> 최대공약수는 두 개 이상의 정수의 공통약수중에서 가장 큰 값을 의미 합니다.\n"
   ]
  },
  {
   "cell_type": "code",
   "execution_count": 11,
   "metadata": {},
   "outputs": [
    {
     "data": {
      "text/plain": [
       "6"
      ]
     },
     "execution_count": 11,
     "metadata": {},
     "output_type": "execute_result"
    }
   ],
   "source": [
    "# 해법1\n",
    "def gcd(a,b):\n",
    "    i = min(a,b)\n",
    "    while True:\n",
    "        if a%i == 0 and b%i == 0:\n",
    "            return i\n",
    "        i = i -1\n",
    "gcd(102,414)"
   ]
  },
  {
   "cell_type": "code",
   "execution_count": 12,
   "metadata": {},
   "outputs": [
    {
     "data": {
      "text/plain": [
       "6"
      ]
     },
     "execution_count": 12,
     "metadata": {},
     "output_type": "execute_result"
    }
   ],
   "source": [
    "# 해법2, 유클리드 알고리즘을 이용해 최대 공약수를 구하는 알고리즘\n",
    "def gcd(a,b):\n",
    "    if b == 0:\n",
    "        return a\n",
    "    return gcd(b, a % b)\n",
    "gcd(102,414)"
   ]
  },
  {
   "cell_type": "markdown",
   "metadata": {},
   "source": [
    "## 문제6. 하노이 탑 옮기기\n",
    "원반이 n개인 하노이 탑을 옮기기 위한 이동순서를 출력해보세요."
   ]
  },
  {
   "cell_type": "code",
   "execution_count": 13,
   "metadata": {},
   "outputs": [],
   "source": [
    "def hanoi(n, from_pos, to_pos, aux_pos):\n",
    "    if n == i:\n",
    "        print(from_pos, ' >> ', to_pos)\n",
    "        return\n",
    "    hanoi(n-1, from_pos, aux_pos, to_pos)\n",
    "    print(from_pos, ' >> ', to_pos)\n",
    "    hanoi(n-1, aux_pos, to_pos, from_pos)\n",
    "    "
   ]
  },
  {
   "cell_type": "markdown",
   "metadata": {},
   "source": [
    "# 3. 탐색과 정렬\n",
    "탐색은 여러 개의 자료 중에서 원하는 것을 찾아내는 것이고 정렬은 주어진 자료를 순서에 맞춰 나열하는 것입니다.\n",
    "\n",
    "## 문제7. 순차탐색\n",
    "리스트에 있는 첫 번째 자료부터 하나하나 비교하면서 탐색합니다."
   ]
  },
  {
   "cell_type": "code",
   "execution_count": 14,
   "metadata": {},
   "outputs": [
    {
     "data": {
      "text/plain": [
       "4"
      ]
     },
     "execution_count": 14,
     "metadata": {},
     "output_type": "execute_result"
    }
   ],
   "source": [
    "# 해법 1\n",
    "def search_list(a,x):\n",
    "    n = len(a)\n",
    "    for i in range(0, n):\n",
    "        if x == a[i]:\n",
    "            return i+1\n",
    "        else:\n",
    "            pass\n",
    "    return 'None' # 없으면 None을 출력합니다.\n",
    "\n",
    "v = [14,12,512,23,15,63,84,23,6]\n",
    "search_list(v,23)"
   ]
  },
  {
   "cell_type": "code",
   "execution_count": 15,
   "metadata": {},
   "outputs": [
    {
     "data": {
      "text/plain": [
       "[4, 8]"
      ]
     },
     "execution_count": 15,
     "metadata": {},
     "output_type": "execute_result"
    }
   ],
   "source": [
    "# 해법2: 리스트에 같은 값이 여러개 있을 경우 \n",
    "# 모든 위치를 리스트로 돌려주는 알고리즘\n",
    "def search_list(a,x):\n",
    "    n = len(a)\n",
    "    result = []\n",
    "    for i in range(0, n):\n",
    "        if x == a[i]:\n",
    "            result.append(i+1)\n",
    "        else:\n",
    "            pass\n",
    "    return result \n",
    "\n",
    "v = [14,12,512,23,15,63,84,23,6]\n",
    "search_list(v,23)"
   ]
  },
  {
   "cell_type": "markdown",
   "metadata": {},
   "source": [
    "## 문제8. 선택 정렬\n",
    "리스트 안의 자료를 한 번씩 비교하는 방법과 거의 같습니다. 비교횟수가 입력 크기의 제곱에 비례하는 O(n^2) 알고리즘이므로 시간이 굉장히 오래 걸립니다."
   ]
  },
  {
   "cell_type": "code",
   "execution_count": 16,
   "metadata": {},
   "outputs": [
    {
     "name": "stdout",
     "output_type": "stream",
     "text": [
      "[1, 2, 4, 5, 7]\n"
     ]
    }
   ],
   "source": [
    "def sel_sort(a):\n",
    "    n = len(a)\n",
    "    for i in range(0, n-1):\n",
    "        min_index = i\n",
    "        for j in range(i+1, n):\n",
    "            if a[j] < a[min_index]:\n",
    "                min_index = j\n",
    "                a[i],a[min_index] = a[min_index],a[i]\n",
    "    print(a)\n",
    "d = [2,4,5,1,7]\n",
    "sel_sort(d)"
   ]
  },
  {
   "cell_type": "markdown",
   "metadata": {},
   "source": [
    "## 문제9. 삽입 정렬\n",
    "삽입 정렬은 특정 굥우를 제외하면 선택정렬과 같인 O(n^2)알고리즘 입니다. 그래서 시간이 굉장히 오래 걸립니다."
   ]
  },
  {
   "cell_type": "code",
   "execution_count": 17,
   "metadata": {},
   "outputs": [
    {
     "name": "stdout",
     "output_type": "stream",
     "text": [
      "[1, 2, 4, 5, 7]\n"
     ]
    }
   ],
   "source": [
    "def ins_sort(a):\n",
    "    n = len(a)\n",
    "    for i in range(1,n):\n",
    "        key = a[i]\n",
    "        j = i -1\n",
    "        while j >= 0 and a[j] > key:\n",
    "            a[j+1] = a[j]\n",
    "            j -= 1\n",
    "        a[j + 1] = key\n",
    "        \n",
    "d = [2,4,5,1,7]\n",
    "ins_sort(d)\n",
    "print(d)"
   ]
  },
  {
   "cell_type": "markdown",
   "metadata": {},
   "source": [
    "## 문제10. 병합 정렬\n",
    "주어진 문제를 절반으로 나눈 다음 각각을 재귀 호출로 풀어가는 방식입니다. 이런 기법을 **분할 정복** 이라고 부릅니다. 계산의 복잡도는 O(n*logn)으로 선택정렬이나 삽입정렬보다 빠릅니다."
   ]
  },
  {
   "cell_type": "code",
   "execution_count": 18,
   "metadata": {},
   "outputs": [
    {
     "name": "stdout",
     "output_type": "stream",
     "text": [
      "[1, 2, 3, 6, 6, 10, 23]\n"
     ]
    }
   ],
   "source": [
    "def merge_sort(a):\n",
    "    n = len(a)\n",
    "    if n <= 1:\n",
    "        return \n",
    "    mid = n//2\n",
    "    group1 = a[:mid]\n",
    "    group2 = a[mid:]\n",
    "    merge_sort(group1)\n",
    "    merge_sort(group2)\n",
    "    i1 = 0\n",
    "    i2 = 0\n",
    "    ia = 0\n",
    "    while i1 < len(group1) and i2 < len(group2):\n",
    "        if group1[i1] < group2[i2]:\n",
    "            a[ia] = group1[i1]\n",
    "            i1 += 1\n",
    "            ia += 1\n",
    "        else:\n",
    "            a[ia] = group2[i2]\n",
    "            i2 += 1\n",
    "            ia += 1\n",
    "            \n",
    "    while i1 < len(group1):\n",
    "        a[ia] = group1[i1]\n",
    "        i1 += 1\n",
    "        ia += 1\n",
    "    while i2 < len(group2):\n",
    "        a[ia] = group2[i2]\n",
    "        i2 += 1\n",
    "        ia += 1\n",
    "\n",
    "d = [6,3,2,6,10,23,1]\n",
    "merge_sort(d)\n",
    "print(d)"
   ]
  },
  {
   "cell_type": "markdown",
   "metadata": {},
   "source": [
    "## 문제11. 퀵 정렬\n",
    "그룹을 둘로 나눠 재귀호출을하는 방식으로 앞서본 병랍 정렬과 유사하지만, 그룹을 나눌 떄 미리 기준과 비교해서 나누는 것이 다릅니다."
   ]
  },
  {
   "cell_type": "code",
   "execution_count": 19,
   "metadata": {},
   "outputs": [
    {
     "name": "stdout",
     "output_type": "stream",
     "text": [
      "[1, 2, 3, 4, 6, 8, 9, 10]\n"
     ]
    }
   ],
   "source": [
    "def quick_sort(a,start,end):\n",
    "    if end - start <= 0:\n",
    "        return\n",
    "    pivot = a[end]\n",
    "    i = start\n",
    "    for j in range(start, end):\n",
    "        if a[j] <= pivot:\n",
    "            a[i],a[j] = a[j],a[i]\n",
    "            i += 1\n",
    "    a[i],a[end] = a[end],a[i]\n",
    "    quick_sort(a,start,i-1)\n",
    "    quick_sort(a,i+1,end)\n",
    "\n",
    "def quick_sort_(a):\n",
    "    quick_sort(a,0,len(a)-1)\n",
    "\n",
    "d = [6,8,3,9,10,1,2,4]\n",
    "quick_sort_(d)\n",
    "print(d)"
   ]
  },
  {
   "cell_type": "markdown",
   "metadata": {},
   "source": [
    "### 기준값의 중요성\n",
    "퀵 정렬에서 좋은 기준을 정하는 것이 굉장히 중요합니다.\n",
    "\n",
    "## 문제12. 이분 탐색\n",
    "자료가 크기 순서대로 정렬된 리스트에서 특정한값이 있는지 찾아 위치를 돌려주는 알고리즘을 만들어보세요.\n",
    "> 이분 담색은 '둘로 나눈다'는 뜻입니다.\n",
    "\n",
    "탐색할 자료를 둘로 나누어 찾는 것이라 순차 탐색보다 훨씬 빨리 찾을 수 있습니다.\n"
   ]
  },
  {
   "cell_type": "code",
   "execution_count": 20,
   "metadata": {},
   "outputs": [
    {
     "name": "stdout",
     "output_type": "stream",
     "text": [
      "2\n"
     ]
    }
   ],
   "source": [
    "def binary_search(a,x):\n",
    "    start = 0\n",
    "    end = len(a)-1\n",
    "    while start <= end:\n",
    "        mid = (start+end)//2\n",
    "        if x == a[mid]:\n",
    "            return mid+1 # 숫자1을 더해서 알기쉽게\n",
    "        elif x > a[mid]:\n",
    "            start = mid + 1\n",
    "        else:\n",
    "            end = mid -1\n",
    "    return None # 찾지 못했을때\n",
    "d = [6,8,3,9,10,1,2,4]\n",
    "print(binary_search(d,8))"
   ]
  },
  {
   "cell_type": "markdown",
   "metadata": {},
   "source": [
    "# 4. 자료구조\n",
    "여러가지 자료와 정보를 컴퓨터 안에 저장하고 보관하는 방식\n",
    "\n",
    "## 문제13. 회문 찾기\n",
    "> 회문은 거꾸로 읽어도 내용이 같은 문장를 뜻합니다.  \n",
    "\n",
    "예를 들면 '기러기', '일요일' 등이 있죠."
   ]
  },
  {
   "cell_type": "code",
   "execution_count": 21,
   "metadata": {},
   "outputs": [
    {
     "name": "stdout",
     "output_type": "stream",
     "text": [
      "True\n"
     ]
    }
   ],
   "source": [
    "def palindrome(s):\n",
    "    que =[]\n",
    "    stack = []\n",
    "    for x in s:\n",
    "        if x.isalpha():\n",
    "            que.append(x.lower())\n",
    "            stack.append(x.lower())\n",
    "    while que:\n",
    "        if que.pop(0) != stack.pop():\n",
    "            return False\n",
    "    return True\n",
    "print(palindrome('Kayak'))"
   ]
  },
  {
   "cell_type": "markdown",
   "metadata": {},
   "source": [
    "## 문제14. 딕셔너리로 같은 이름 찾기\n",
    "파이썬의 딕셔너리라는 자료 구조를 사용해 풀어보겠습니다.\n"
   ]
  },
  {
   "cell_type": "code",
   "execution_count": 22,
   "metadata": {},
   "outputs": [
    {
     "data": {
      "text/plain": [
       "{'Jake'}"
      ]
     },
     "execution_count": 22,
     "metadata": {},
     "output_type": "execute_result"
    }
   ],
   "source": [
    "def find_name(a):\n",
    "    name_dic = {}\n",
    "    for name in a:\n",
    "        if name in name_dic:\n",
    "            name_dic[name] += 1\n",
    "        else:\n",
    "            name_dic[name] = 1\n",
    "    result = set()\n",
    "    for name in name_dic:\n",
    "        if name_dic[name] >= 2:\n",
    "            result.add(name)\n",
    "    return result\n",
    "name = ['Jake','Jim','Jake']\n",
    "find_name(name)"
   ]
  },
  {
   "cell_type": "markdown",
   "metadata": {},
   "source": [
    "## 문제15. 친구의 친구찾기\n",
    "친구관계를 이용해 직간접적으로 아는 모든 사람을 출력하는 알고리즘을 만들어 보세요."
   ]
  },
  {
   "cell_type": "code",
   "execution_count": 23,
   "metadata": {},
   "outputs": [
    {
     "name": "stdout",
     "output_type": "stream",
     "text": [
      "Summer\n",
      "John\n",
      "Jake\n",
      "Mike\n",
      "Tom\n"
     ]
    }
   ],
   "source": [
    "def print_all_friends(g, start):\n",
    "    que = []\n",
    "    done = set()\n",
    "    que.append(start)\n",
    "    done.add(start)\n",
    "    while que:\n",
    "        p = que.pop(0)\n",
    "        print(p)\n",
    "        for x in g[p]:\n",
    "            if x not in done:\n",
    "                que.append(x)\n",
    "                done.add(x)\n",
    "friends = {\n",
    "    'Summer':['John','Jake','Mike'],\n",
    "    'John':['Summer','Mike'],\n",
    "    'June':['Jake','Tom'],\n",
    "    'Jake':['Tom'],\n",
    "    'Tom':['Summer'],\n",
    "    'Mike':['Summer']\n",
    "    \n",
    "}\n",
    "print_all_friends(friends, 'Summer')"
   ]
  },
  {
   "cell_type": "markdown",
   "metadata": {},
   "source": [
    "# 끝으로\n",
    "\n",
    "**알고리즘이란 무엇인가?** 라는 질문에서 시작해 15가지의 문제를 통해 알아보았습니다. 풀어 본 문제들은 쉬운 문제지만 알고리즘에 대한 접근법은 동일합니다. 앞으로도 여러분들이 더 많은 문제와 해답을 위한 노력을 기울이길 기원합니다. "
   ]
  }
 ],
 "metadata": {
  "kernelspec": {
   "display_name": "Python 3",
   "language": "python",
   "name": "python3"
  },
  "language_info": {
   "codemirror_mode": {
    "name": "ipython",
    "version": 3
   },
   "file_extension": ".py",
   "mimetype": "text/x-python",
   "name": "python",
   "nbconvert_exporter": "python",
   "pygments_lexer": "ipython3",
   "version": "3.6.3"
  },
  "nikola": {
   "category": "python",
   "date": "2019-12-29 07:56:47 UTC+09:00",
   "description": "파이썬으로 알고리즘 배우기",
   "link": "",
   "slug": "algorithms4every1",
   "tags": [
    "algorithm",
    "알고리즘",
    "Python"
   ],
   "title": "파이썬으로 알고리즘 배우기",
   "type": "text"
  }
 },
 "nbformat": 4,
 "nbformat_minor": 2
}
