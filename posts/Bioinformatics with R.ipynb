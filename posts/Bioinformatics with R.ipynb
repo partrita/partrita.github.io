{
 "cells": [
  {
   "cell_type": "markdown",
   "metadata": {},
   "source": [
    "`R`을 이용해서 간단한 생물정보학(bioinformatics) 분석을 해보도록 할게요. 여기서 우리가 초점을 맞출 것은 단백질의 서열입니다.  \n",
    "\n",
    "생물학에 대한 기초적인 이해가 있다고 가정하고 `R`로 분석하는 것 위주로 설명을 할 겁니다. `R`을 사용하기 위해서는 일단 컴퓨터에 설치를 해야 할텐데요. 설치가 되어 있지 않다면 다음 [링크](https://a-little-book-of-r-for-bioinformatics.readthedocs.io/en/latest/src/installr.html)를 참고해서 설치하도록 하세요. \n",
    "\n",
    "# 생물정보학 위한 R packages: \n",
    "\n",
    "두 가지의 유명한 패키지가 알려져있습니다. \n",
    "\n",
    "- Bioconductor \n",
    "- SeqinR\n",
    "\n",
    "각각의 특징을 간략하게 알아보자면 [Bioconductor](www.bioconductor.org)는 마이크로 어레이 데이터 같은 비교적 큰 데이터 분석을 위한 툴들을 제공합니다. \n",
    "반면에, [SeqinR](pbil.univ-lyon1.fr/software/seqinr/home.php?lang=eng)은 DNA나 단백질 서열을 분석하는데 중점을 두고 있습니다. 여기서는 **SeqinR**을 사용해볼 겁니다.\n",
    "\n",
    "SeqinR을 사용하기 위해서는 먼저 설치부터 해야겠죠. 다음 명령어를 통해 설치를 하고, 실행을 해봅시다."
   ]
  },
  {
   "cell_type": "code",
   "execution_count": 1,
   "metadata": {
    "scrolled": true
   },
   "outputs": [
    {
     "name": "stderr",
     "output_type": "stream",
     "text": [
      "Updating HTML index of packages in '.Library'\n",
      "Making 'packages.html' ... done\n"
     ]
    }
   ],
   "source": [
    "# package 설치하기\n",
    "install.packages('seqinr')\n",
    "# package 실행\n",
    "library('seqinr')"
   ]
  },
  {
   "cell_type": "markdown",
   "metadata": {},
   "source": [
    "## FASTA 형식(format)\n",
    "\n",
    "\n",
    "FASTA 형식은 간단하고 많이 사용되는 형태의 파일입니다. sequence alignment용 FASTA라는 프로그램에서 처음으로 사용되었죠. 아래에 예시가 있습니다. 시퀀스에 대한 설명은 `>` 꺽쇄로 시작한 첫번째 줄에 적혀 있고, 다음 줄에는 서열 정보가 들어갑니다. \n",
    "\n",
    "    > A06852 183 residues\n",
    "    MPRLFSYLLGVWLLLSQLPREIPGQSTNDFIKACGRELVRLWVEICGSVSWGRTALSLEE\n",
    "    PQLETGPPAETMPSSITKDAEILKMMLEFVPNLPQELKATLSERQPSLRELQQSASKDSN\n",
    "    LNFEEFKKIILNRQNEAEDKSLLELKNLGLDKHSRKKRLFRMTLSEKCCQVGCIRKDIAR\n"
   ]
  },
  {
   "cell_type": "markdown",
   "metadata": {},
   "source": [
    "# 서열 정보를 R로 읽어오기 \n",
    "\n",
    "`SeqinR` 패키지를 사용해서 파스타(FASTA) 파일을 읽어 보도록 해보겠습니다. \n",
    "\n",
    "![](https://a-little-book-of-r-for-bioinformatics.readthedocs.io/en/latest/_images/P1_image3.png)\n",
    "\n",
    "NCBI에 **NC_001477**로 accession 되어 있는 **DEN-1 Dengue virus genome sequence**의 파스타 파일을 다운받아 주세요. 파일명은 **DEN-1.fasta**로 하겠습니다.\n",
    "\n",
    "> `getncbiseq()`을 이용해 한번에 불러오는 방법도 있어요. \n",
    "\n",
    "다운받은 파스타 파일이 있는 폴더에서 아래의 명령어를 입력합니다."
   ]
  },
  {
   "cell_type": "code",
   "execution_count": 2,
   "metadata": {},
   "outputs": [],
   "source": [
    "library(\"seqinr\")\n",
    "\n",
    "dengue <- read.fasta(file = \"den1.fasta\")\n",
    "# In fact, the first element of the list object dengue contains the the DNA sequence\n",
    "dengueseq <- dengue[[1]]"
   ]
  },
  {
   "cell_type": "markdown",
   "metadata": {},
   "source": [
    "# DNA 서열의 길이\n",
    "\n",
    "DNA 서열을 불러온 다음에는 제대로 불어왔는지를 확인하기 위해 총 서열의 길이를 알아 보도록 하겠습니다. "
   ]
  },
  {
   "cell_type": "code",
   "execution_count": 3,
   "metadata": {},
   "outputs": [
    {
     "data": {
      "text/html": [
       "10735"
      ],
      "text/latex": [
       "10735"
      ],
      "text/markdown": [
       "10735"
      ],
      "text/plain": [
       "[1] 10735"
      ]
     },
     "metadata": {},
     "output_type": "display_data"
    }
   ],
   "source": [
    "length(dengueseq)"
   ]
  },
  {
   "cell_type": "markdown",
   "metadata": {},
   "source": [
    "총 **10735**개의 DNA 서열로 구성되어있다는 것을 알 수 있군요.\n",
    "\n",
    "## 원하는 부분의 서열만 얻기\n",
    "\n",
    "DNA 서열에서도 특정 부분만 필요할 때가 있습니다. **DEN-1 Dengue virus genome sequence**의 처음부터 50번째 까지의 서열을 확인해보겠습니다."
   ]
  },
  {
   "cell_type": "code",
   "execution_count": 4,
   "metadata": {},
   "outputs": [
    {
     "name": "stdout",
     "output_type": "stream",
     "text": [
      " [1] \"a\" \"g\" \"t\" \"t\" \"g\" \"t\" \"t\" \"a\" \"g\" \"t\" \"c\" \"t\" \"a\" \"c\" \"g\" \"t\" \"g\" \"g\" \"a\"\n",
      "[20] \"c\" \"c\" \"g\" \"a\" \"c\" \"a\" \"a\" \"g\" \"a\" \"a\" \"c\" \"a\" \"g\" \"t\" \"t\" \"t\" \"c\" \"g\" \"a\"\n",
      "[39] \"a\" \"t\" \"c\" \"g\" \"g\" \"a\" \"a\" \"g\" \"c\" \"t\" \"t\" \"g\"\n"
     ]
    }
   ],
   "source": [
    "print(dengueseq[1:50])"
   ]
  },
  {
   "cell_type": "markdown",
   "metadata": {},
   "source": [
    "# DNA 서열상의 염기 구성\n",
    "\n",
    "DNA는 4가지의 nucleotides (“A”, “C”, “G”, “T”) 로 구성되어 있습니다. **DEN-1.fasta**에 각각이 몇개나 있는지 알아 보도록 하죠. "
   ]
  },
  {
   "cell_type": "code",
   "execution_count": 5,
   "metadata": {},
   "outputs": [
    {
     "data": {
      "text/plain": [
       "dengueseq\n",
       "   a    c    g    t \n",
       "3426 2240 2770 2299 "
      ]
     },
     "metadata": {},
     "output_type": "display_data"
    }
   ],
   "source": [
    "table(dengueseq)"
   ]
  },
  {
   "cell_type": "markdown",
   "metadata": {},
   "source": [
    "**DEN-1 Dengue virus genome sequence**에는 3426개의 A, 2240개의 C, 2770개의 G and 그리고 2299개의 T로 구성되어 있군요.\n",
    "\n",
    "# GC Content of DNA\n",
    "\n",
    "genome sequene에서 가장 기초적인 분석은 GC content 입니다. DNA 서열상에 G와 C의 비율이 얼마나 되는지를 표현하죠. `SeqinR`에서는 `GC()` 기능을 제공하기 때문에 손쉽게 알아 볼 수 있습니다."
   ]
  },
  {
   "cell_type": "code",
   "execution_count": 6,
   "metadata": {},
   "outputs": [
    {
     "data": {
      "text/html": [
       "0.466697717745692"
      ],
      "text/latex": [
       "0.466697717745692"
      ],
      "text/markdown": [
       "0.466697717745692"
      ],
      "text/plain": [
       "[1] 0.4666977"
      ]
     },
     "metadata": {},
     "output_type": "display_data"
    }
   ],
   "source": [
    "GC(dengueseq)"
   ]
  },
  {
   "cell_type": "markdown",
   "metadata": {},
   "source": [
    "GC content는 총 46.66977%입니다. 약간 적은 편이네요.\n",
    " \n",
    "\n",
    "# 특정 부분의 GC content\n",
    "좀전의 분석은 전체 서열상에서 평균 GC content이었습니다. 하지만 DNA서열상의 특정부분에서의 GC content는 어떻게 알 수 있을까요?\n",
    "\n",
    "전체서열을 여러개의 조각으로 나누어 `GC()`기능을 사용해보겠습니다.\n",
    "예시로 여기서는 300개씩 잘라보았습니다."
   ]
  },
  {
   "cell_type": "code",
   "execution_count": 7,
   "metadata": {
    "scrolled": true
   },
   "outputs": [
    {
     "data": {
      "image/png": "[encoded data removed]",
      "text/plain": [
       "plot without title"
      ]
     },
     "metadata": {},
     "output_type": "display_data"
    }
   ],
   "source": [
    "slidingwindowplot <- function(windowsize, inputseq)\n",
    "{\n",
    "   starts <- seq(1, length(inputseq)-windowsize, by = windowsize)\n",
    "   n <- length(starts)    # Find the length of the vector \"starts\"\n",
    "   chunkGCs <- numeric(n) # Make a vector of the same length as vector \"starts\", but just containing zeroes\n",
    "   for (i in 1:n) {\n",
    "        chunk <- inputseq[starts[i]:(starts[i]+windowsize-1)]\n",
    "        chunkGC <- GC(chunk)\n",
    "        # print(chunkGC)\n",
    "        chunkGCs[i] <- chunkGC\n",
    "   }\n",
    "   plot(starts,chunkGCs,type=\"b\",xlab=\"Nucleotide start position\",ylab=\"GC content\")\n",
    "}\n",
    "\n",
    "# 300개씩 서열을 나누어서 GC() 기능을 사용합니다.\n",
    "slidingwindowplot(300, dengueseq)"
   ]
  },
  {
   "cell_type": "markdown",
   "metadata": {},
   "source": [
    "전체적인 서열상에서 GC contents가 특별하게 낮은 구역은 4000번(40%) 즈음이군요. \n",
    "\n",
    "## 파스타(FASTA) 파일 쓰기\n",
    "\n",
    "파스타 파일을 불러들여 간단히 분석을 해보았는데, 이제는 편집한 서열을 파스타 파일로 저장하는 방법을 알아보겠습니다. \n",
    "\n",
    "아래와 같이 작성해주면, **den1.fasta**라는 파일이 폴더에 생긴것을 확인 할수 있어요."
   ]
  },
  {
   "cell_type": "code",
   "execution_count": 8,
   "metadata": {},
   "outputs": [],
   "source": [
    "write.fasta(names=\"DEN-1\", sequences=dengueseq, file.out=\"den1.fasta\")"
   ]
  },
  {
   "cell_type": "markdown",
   "metadata": {},
   "source": [
    "# 파스타 파일에서 단백질 서열을 불러오기\n",
    "\n",
    "`SeqinR`을 사용하면 DNA 서열과 동일한 방법으로 단백질 서열도 읽을수 있습니다. **Uniprot** 에 각각 **Q9CD83** , **A0PQ23**으로 저장되어 있는 단백질 서열의 파스타 파일을 다운받으세요.\n",
    "\n",
    "##  예시로 사용한 Q9CD83, A0PQ23 ?\n",
    "**Q9CD83** 과 **A0PQ23** 는 Chorismate pyruvate-lyase라는 효소입니다. 차이점은 서로 다른 균주에서 발현된다는 것입니다. \n",
    "\n",
    "- Q9CD83은 *Mycobacterium leprae* \n",
    "- A0PQ23은 *Mycobacterium ulcerans*\n",
    "\n",
    "R에서 아래와 같이 입력하세요."
   ]
  },
  {
   "cell_type": "code",
   "execution_count": 9,
   "metadata": {},
   "outputs": [
    {
     "data": {
      "text/plain": [
       "  [1] \"m\" \"t\" \"n\" \"r\" \"t\" \"l\" \"s\" \"r\" \"e\" \"e\" \"i\" \"r\" \"k\" \"l\" \"d\" \"r\" \"d\" \"l\"\n",
       " [19] \"r\" \"i\" \"l\" \"v\" \"a\" \"t\" \"n\" \"g\" \"t\" \"l\" \"t\" \"r\" \"v\" \"l\" \"n\" \"v\" \"v\" \"a\"\n",
       " [37] \"n\" \"e\" \"e\" \"i\" \"v\" \"v\" \"d\" \"i\" \"i\" \"n\" \"q\" \"q\" \"l\" \"l\" \"d\" \"v\" \"a\" \"p\"\n",
       " [55] \"k\" \"i\" \"p\" \"e\" \"l\" \"e\" \"n\" \"l\" \"k\" \"i\" \"g\" \"r\" \"i\" \"l\" \"q\" \"r\" \"d\" \"i\"\n",
       " [73] \"l\" \"l\" \"k\" \"g\" \"q\" \"k\" \"s\" \"g\" \"i\" \"l\" \"f\" \"v\" \"a\" \"a\" \"e\" \"s\" \"l\" \"i\"\n",
       " [91] \"v\" \"i\" \"d\" \"l\" \"l\" \"p\" \"t\" \"a\" \"i\" \"t\" \"t\" \"y\" \"l\" \"t\" \"k\" \"t\" \"h\" \"h\"\n",
       "[109] \"p\" \"i\" \"g\" \"e\" \"i\" \"m\" \"a\" \"a\" \"s\" \"r\" \"i\" \"e\" \"t\" \"y\" \"k\" \"e\" \"d\" \"a\"\n",
       "[127] \"q\" \"v\" \"w\" \"i\" \"g\" \"d\" \"l\" \"p\" \"c\" \"w\" \"l\" \"a\" \"d\" \"y\" \"g\" \"y\" \"w\" \"d\"\n",
       "[145] \"l\" \"p\" \"k\" \"r\" \"a\" \"v\" \"g\" \"r\" \"r\" \"y\" \"r\" \"i\" \"i\" \"a\" \"g\" \"g\" \"q\" \"p\"\n",
       "[163] \"v\" \"i\" \"i\" \"t\" \"t\" \"e\" \"y\" \"f\" \"l\" \"r\" \"s\" \"v\" \"f\" \"q\" \"d\" \"t\" \"p\" \"r\"\n",
       "[181] \"e\" \"e\" \"l\" \"d\" \"r\" \"c\" \"q\" \"y\" \"s\" \"n\" \"d\" \"i\" \"d\" \"t\" \"r\" \"s\" \"g\" \"d\"\n",
       "[199] \"r\" \"f\" \"v\" \"l\" \"h\" \"g\" \"r\" \"v\" \"f\" \"k\" \"n\" \"l\"\n",
       "attr(,\"name\")\n",
       "[1] \"sp|Q9CD83|PHBS_MYCLE\"\n",
       "attr(,\"Annot\")\n",
       "[1] \">sp|Q9CD83|PHBS_MYCLE Chorismate pyruvate-lyase OS=Mycobacterium leprae (strain TN) GN=ML0133 PE=3 SV=1\"\n",
       "attr(,\"class\")\n",
       "[1] \"SeqFastadna\""
      ]
     },
     "metadata": {},
     "output_type": "display_data"
    }
   ],
   "source": [
    "leprae <- read.fasta(file = \"Q9CD83.fasta\")\n",
    "lepraeseq <- leprae[[1]]\n",
    "\n",
    "ulcerans <- read.fasta(file = \"A0PQ23.fasta\")\n",
    "ulceransseq <- ulcerans[[1]]\n",
    "\n",
    "lepraeseq # Display the contents of \"lepraeseq\""
   ]
  },
  {
   "cell_type": "markdown",
   "metadata": {},
   "source": [
    "파스타 파일이 아미노산 서열을 담고 있는것을 확인할 수 있고, 서열으 정보(균주, 이름)등을 알수 있군요.\n",
    "\n",
    "\n",
    "# 두 서열을 점도표로 비교하기 \n",
    "\n",
    "두가지의 서열을 비교할때는 먼저 점도표(dotplot)을 그려보는것은 언제나 좋은 생각입니다. \n",
    "\n",
    "`dotPlot()`이라는 기능으로 쉽게 그려 볼 수 있죠. 위에서 예로 들었던 *Mycobacterium leprae* 과 *Mycobacterium ulcerans*의 Chorismate pyruvate-lyase를 비교해보도록 하죠."
   ]
  },
  {
   "cell_type": "code",
   "execution_count": 10,
   "metadata": {},
   "outputs": [
    {
     "data": {
      "image/png": "[encoded data removed]",
      "text/plain": [
       "plot without title"
      ]
     },
     "metadata": {},
     "output_type": "display_data"
    }
   ],
   "source": [
    "dotPlot(lepraeseq, ulceransseq)"
   ]
  },
  {
   "cell_type": "markdown",
   "metadata": {},
   "source": [
    "위의 점도표에서, *M. leprae*의 서열은 x축에, *M. ulcerans*의 서열은 y축으로 표현되어 있습니다. 두개의 서열이 동일하면 점으로 표시됩니다. 예를 들어 x축의 아미노산 50번과 y축의 53번째 아미노산이 동일하기때문에 점이 찍혀 있습니다. \n",
    "\n",
    "두개의 서열이 유사할수록 대각선이 선명하게 나타납니다. 우리가 사용한 단백질 서열은 서로 유사한 효소(homologues)이기 때문에 예상한것 처럼 선명한 대각선을 볼 수 있죠."
   ]
  },
  {
   "cell_type": "markdown",
   "metadata": {},
   "source": [
    "# 코돈표\n",
    "\n",
    "`SeqinR` 패키지에는 `tablecode()` 라는 기능으로 표준 코돈표를 제공하고 있습니다. 아래와 같이 확인할 수 있죠.\n",
    "\n",
    "보통 인터넷에서 쉽게 확인 할 수 있는것이라 큰 쓸모는 없을 수도 있겠습니다."
   ]
  },
  {
   "cell_type": "code",
   "execution_count": 11,
   "metadata": {},
   "outputs": [
    {
     "data": {
      "image/png": "[encoded data removed]",
      "text/plain": [
       "plot without title"
      ]
     },
     "metadata": {},
     "output_type": "display_data"
    }
   ],
   "source": [
    "tablecode()"
   ]
  },
  {
   "cell_type": "markdown",
   "metadata": {},
   "source": [
    "# 마치며\n",
    " \n",
    "`R`의 `SeqinR`이라는 패키지를 사용해 생물학적 서열정보를 간략하게 분석해보았습니다. `R`에서 기본적으로 제공하는 다음의 기능과\n",
    "\n",
    "- 벡터(vector)나 리스트(list)의 길이를 알 수 있는 `length()`\n",
    "- 벡터(vector)나 리스트(list)의 구성성분의 갯수를 알려주는 `table()` \n",
    "\n",
    "`SeqinR` 패키지에서 제공하는 기능\n",
    "\n",
    "- DNA 서열의 GC content를 계산해주는 `GC()`\n",
    "\n",
    "를 기억해주세요.\n",
    "\n",
    "# Source\n",
    " - https://a-little-book-of-r-for-bioinformatics.readthedocs.io"
   ]
  }
 ],
 "metadata": {
  "kernelspec": {
   "display_name": "R",
   "language": "R",
   "name": "ir"
  },
  "language_info": {
   "codemirror_mode": "r",
   "file_extension": ".r",
   "mimetype": "text/x-r-source",
   "name": "R",
   "pygments_lexer": "r",
   "version": "3.3.2"
  },
  "nikola": {
   "category": "learn",
   "date": "2018-01-29 17:56:47 UTC+09:00",
   "description": "Bioinformatics with R",
   "link": "",
   "slug": "R-bio",
   "tags": [
    "R",
    "Bioinformatics",
    "SeqinR"
   ],
   "title": "R로 서열분석하기",
   "type": "text"
  }
 },
 "nbformat": 4,
 "nbformat_minor": 2
}
