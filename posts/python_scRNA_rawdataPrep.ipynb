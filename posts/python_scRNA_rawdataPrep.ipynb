{
 "cells": [
  {
   "cell_type": "markdown",
   "id": "a156369d-3781-4a4d-94b5-6416ba74bf0f",
   "metadata": {},
   "source": [
    "# 시작하기 앞서\n",
    "\n",
    "다음과 같은 몇가지 가정을 하고 시작하겠습니다.\n",
    "\n",
    "- 가정1. 10x Genomics Single Cell Solution을 통해 얻은 서열 데이터를 사용\n",
    "- 가정2. 리눅스(Ubuntu 22.04.3 LTS x86_64) OS를 사용하며 기본적인 shell 명령어를 앎\n",
    "- 가정3. 패키지 매니저인 Anaconda에 대한 사용법을 알고 있음\n",
    "\n",
    "\n",
    "터미널을 열고 원하는 폴더로 이동합니다. 저는 `/home/fkt/Downloads`에서 시작하도록 하겠습니다.\n",
    "\n",
    "```bash\n",
    "$pwd\n",
    "/home/fkt/Downloads\n",
    "```\n",
    "\n",
    "# 가상환경 만들기\n",
    "\n",
    "다음과 같이 사용가상환경을 만들어 사용합니다. 먼저 `TutorialEnvironment.yml` 파일을 다음 명령어로 다운받습니다. \n",
    "\n",
    "> 해당 파일에는 RNA velocity 분석을 위한 `velocyto` 도구의 dependancy 정보가 들어 있습니다.\n",
    "\n",
    "\n",
    "```bash\n",
    "wget https://cf.10xgenomics.com/supp/cell-exp/neutrophils/TutorialEnvironment.yml\n",
    "```\n",
    "\n",
    "다음 명령어로 가상환경을 만들어 줍니다.\n",
    "\n",
    "```bash\n",
    "conda env create --file TutorialEnvironment.yml\n",
    "```\n",
    "\n",
    "만들어진 가상환경을 활성화 시킵니다.\n",
    "\n",
    "```bash\n",
    "conda activate tutorial\n",
    "```\n",
    "\n",
    "다운로드 받은 `yml`파일은 삭제해줍니다.\n",
    "\n",
    "```bash\n",
    "rm TutorialEnvironment.yml\n",
    "```\n",
    "\n",
    "# Cell ranger 설치\n",
    "\n",
    "10x Genomics Single Cell Solution을 통해 single cell RNA sequncing을 했다면 `10x Genomics`에서 `Cell ranger`라는 alignment 도구를 제공하고 있습니다. 속도는 좀 느려도 사용 용이성은 좋아서 저는 `Cellranger`를 추천합니다. 자세한 것은 [공식사이트](https://www.10xgenomics.com/support/software/cell-ranger)를 참고하시기 바랍니다.\n",
    "\n",
    "## 시스템 요구사항\n",
    "\n",
    "`Cellranger`는 리눅스 시스템에서 작동하며 다음의 최소 사양을 요구합니다:\n",
    "\n",
    "- 8-core Intel or AMD processor (16 cores recommended).\n",
    "- 64GB RAM (128GB recommended).\n",
    "- 1TB free disk space.\n",
    "- 64-bit CentOS/RedHat 7.0 or Ubuntu 14.04 - See the 10x Genomics OS Support page for details.\n",
    "\n",
    "터미널에 다음 명령어를 입력해 `cell ranger 7.2`버전을 다운로드 합니다.\n",
    "\n",
    "> 현재 기준으로 7.2 버전이 최신입니다.\n",
    "\n",
    "```bash\n",
    "wget -O cellranger-7.2.0.tar.gz \"https://cf.10xgenomics.com/releases/cell-exp/cellranger-7.2.0.tar.gz?Expires=1695129121&Key-Pair-Id=APKAI7S6A5RYOXBWRPDA&Signature=ZipqR8Pg4YvVDQ3MvAVuuiPwEOC5c39~Wj0WTAxfoJW6xtrxqIFgIDySFSFnsWcwDpmAovJGrHXU24Y9Cptt88OJSPdEupyFRXoGKJvVzRtDJChmuMbSpVCy-2N-QnMKwxNtd8Yt8Mdp2Vcq4wxx1hVC0Yx54c7U9o~RFXIVsIp48thKR6JnKhJmCAC5U4dFLa86~NcB4s5Ic4HATrQP2KyWexyYZWgmBEw13mlKYtlVRUil0zseoq0-CZyGmE8oB0iDBSUBAyIqo~XMVjv~lkMz4cRcyCbQKBRDr~U36FM2KnE3rhv-Rlp4KD-uXCReRnBsY6N6t-HxpS2YDpN3mQ__\"\n",
    "```\n",
    "\n",
    "그리고 나서 다음 명령어로 압축을 풀어줍니다.\n",
    "\n",
    "```bash\n",
    "tar -xvf cellranger-7.2.0.tar.gz\n",
    "```\n",
    "\n",
    "`cellranger-7.2.0` 폴더로 이동하기\n",
    "\n",
    "```bash\n",
    "cd cellranger-7.2.0\n",
    "```\n",
    "\n",
    "정상적으로 되었다면 아래와 같은 폴더 구조를 볼 수 있습니다.\n",
    "\n",
    "```bash\n",
    ".\n",
    "├── bin\n",
    "├── builtwith.json\n",
    "├── cellranger -> bin/cellranger\n",
    "├── external\n",
    "├── lib\n",
    "├── LICENSE\n",
    "├── mro\n",
    "├── probe_sets -> external/tenx_feature_references/targeted_panels\n",
    "├── sourceme.bash\n",
    "├── sourceme.csh\n",
    "└── THIRD-PARTY-LICENSES.cellranger.txt\n",
    "\n",
    "5 directories, 6 files\n",
    "```\n",
    "\n",
    "이제 `./cellranger`명령어를 입력하면 아래와 같이 cell ranger 실행이 가능합니다.\n",
    "\n",
    "```bash\n",
    "./cellranger\n",
    "cellranger cellranger-7.2.0\n",
    "\n",
    "Process 10x Genomics Gene Expression, Feature Barcode, and Immune Profiling data\n",
    "\n",
    "Usage: cellranger <COMMAND>\n",
    "\n",
    "Commands:\n",
    "  count           Count gene expression and/or feature barcode reads from a single sample and GEM well\n",
    "(중략)\n",
    "  help            Print this message or the help of the given subcommand(s)\n",
    "\n",
    "Options:\n",
    "  -h, --help     Print help\n",
    "  -V, --version  Print version\n",
    "```"
   ]
  },
  {
   "cell_type": "markdown",
   "id": "5eca5895-081b-487e-8a4d-f8d19efc62d6",
   "metadata": {},
   "source": [
    "# FASTQ 파일과 레퍼런스 데이터 준비\n",
    "\n",
    "10x Genomics사에서는 학습을 위한 데이터를 제공하고 있습니다. 이미 많은 예제에서 `Human 1k PBMC`를 다루고 있으므로 저는 `Mouse 1k neuron`으로 진행해보겠습니다. `Human 1k PBMC`은 직접해보시기 바랍니다.\n",
    "\n",
    "## Human PBMC 1k 데이터 다운로드\n",
    "\n",
    "터미널에 다음과 같이 입력합니다.\n",
    "\n",
    "```bash\n",
    "mkdir data && cd data\n",
    "#  Human PBMC 1k = 5.17GB\n",
    "wget https://cf.10xgenomics.com/samples/cell-exp/3.0.0/pbmc_1k_v3/pbmc_1k_v3_fastqs.tar\n",
    "tar -xvf pbmc_1k_v3_fastqs.tar\n",
    "# Human reference (GRCh38) = 11GB\n",
    "wget https://cf.10xgenomics.com/supp/cell-exp/refdata-gex-GRCh38-2020-A.tar.gz\n",
    "tar -zxvf refdata-gex-GRCh38-2020-A.tar.gz\n",
    "```\n",
    "\n",
    "## Mouse 1k neuron 데이터 다운로드\n",
    "\n",
    "터미널에 다음과 같이 입력합니다.\n",
    "\n",
    "```bash\n",
    "# Mouse neron 1k data = 7GB\n",
    "wget http://cf.10xgenomics.com/samples/cell-exp/3.0.0/neuron_1k_v3/neuron_1k_v3_fastqs.tar\n",
    "tar -xvf neuron_1k_v3_fastqs.tar\n",
    "# Mouse reference = 9.7GB\n",
    "wget https://cf.10xgenomics.com/supp/cell-exp/refdata-gex-mm10-2020-A.tar.gz\n",
    "tar -zxvf refdata-gex-mm10-2020-A.tar.gz\n",
    "```\n",
    "\n",
    "## 다운로드된 파일 확인 \n",
    "\n",
    "정상적으로 진행되었다면 아래와 같은 폴더와 52개의 파일을 확인할 수 있습니다.\n",
    "\n",
    "```bash\n",
    "$ tree .\n",
    ".\n",
    "├── neuron_1k_v3_fastqs\n",
    "│   ├── neuron_1k_v3_S1_L001_I1_001.fastq.gz\n",
    "│   ├── neuron_1k_v3_S1_L001_R1_001.fastq.gz\n",
    "│   ├── neuron_1k_v3_S1_L001_R2_001.fastq.gz\n",
    "│   ├── neuron_1k_v3_S1_L002_I1_001.fastq.gz\n",
    "│   ├── neuron_1k_v3_S1_L002_R1_001.fastq.gz\n",
    "│   └── neuron_1k_v3_S1_L002_R2_001.fastq.gz\n",
    "├── pbmc_1k_v3_fastqs\n",
    "│   ├── pbmc_1k_v3_S1_L001_I1_001.fastq.gz\n",
    "│   ├── pbmc_1k_v3_S1_L001_R1_001.fastq.gz\n",
    "│   ├── pbmc_1k_v3_S1_L001_R2_001.fastq.gz\n",
    "│   ├── pbmc_1k_v3_S1_L002_I1_001.fastq.gz\n",
    "│   ├── pbmc_1k_v3_S1_L002_R1_001.fastq.gz\n",
    "│   └── pbmc_1k_v3_S1_L002_R2_001.fastq.gz\n",
    "├── refdata-gex-GRCh38-2020-A\n",
    "│   ├── fasta\n",
    "│   ├── genes\n",
    "│   │   └── genes.gtf\n",
    "│   ├── pickle\n",
    "│   ├── reference.json\n",
    "│   └── star\n",
    "└── refdata-gex-mm10-2020-A\n",
    "    ├── fasta\n",
    "    ├── genes\n",
    "    │   └── genes.gtf\n",
    "    ├── pickle\n",
    "    ├── reference.json\n",
    "    └── star\n",
    "\n",
    "12 directories, 52 files\n",
    "```"
   ]
  },
  {
   "cell_type": "markdown",
   "id": "1577bf9d-295e-4c77-a433-33bc3f9d21c2",
   "metadata": {},
   "source": [
    "# Cell ranger 사용하기\n",
    "\n",
    "데이터가 준비되었으니 `Cell ranger`를 사용해 `count matrix`를 만들어 보겠습니다.\n",
    "먼저 상위 디렉토리인 `cellranger-7.2.0`으로 이동합니다.\n",
    "\n",
    "```bash\n",
    "cd ..\n",
    "```\n",
    "\n",
    "다음과 같이 `cellranger count` 명령어를 사용하면 `count matrix`데이터를 얻을 수 있습니다.\n",
    "\n",
    "```bash\n",
    "./cellranger count --id=run_count_mNeuron1k \\\n",
    "--fastqs=data/neuron_1k_v3_fastqs  \\\n",
    "--sample=neuron_1k_v3  \\\n",
    "--transcriptome=data/refdata-gex-mm10-2020-A\n",
    "```\n",
    "\n",
    "`--id`는 생성되는 폴더명이며 `--fastqs`는 다운로드한 `fastq`파일의 위치입니다. \n",
    "`--sample`은 fastq 파일명의 접두사(prefix)를 의미하고 `--transcriptome`은 레퍼런스데이터의 위치입니다.\n",
    "\n",
    "시간이 좀 지나면 다음과 같은 출력을 볼 수 있습니다.\n",
    "\n",
    "```bash\n",
    "Running preflight checks (please wait)...\n",
    "Checking sample info...\n",
    "Checking FASTQ folder...\n",
    "Checking reference...\n",
    "(후략)\n",
    "\n",
    "```\n",
    "\n",
    "정상적으로 작업이 완료된다면 아래처럼 `outs`이라는 폴더가 생성됩니다. 여기에는 `count matrix`뿐만 아니라 여러가지 분석 결과도 포함되어 있어 복잡해보입니다. 그러나 저희가 필요 한 것은 `filtered_feature_bc_matrix` 폴더 안에 다들어 있습니다.\n",
    "\n",
    "```bash\n",
    "outs\n",
    "├── analysis\n",
    "├── cloupe.cloupe\n",
    "├── filtered_feature_bc_matrix\n",
    "├── filtered_feature_bc_matrix.h5\n",
    "├── metrics_summary.csv\n",
    "├── molecule_info.h5\n",
    "├── possorted_genome_bam.bam\n",
    "├── possorted_genome_bam.bam.bai\n",
    "├── raw_feature_bc_matrix\n",
    "├── raw_feature_bc_matrix.h5\n",
    "└── web_summary.html\n",
    "```"
   ]
  },
  {
   "cell_type": "markdown",
   "id": "5b336a12-9291-45dd-8ae0-3b7f2f4df52b",
   "metadata": {},
   "source": [
    "# RNA velocity 분석을 위한 작업\n",
    "\n",
    "RNA velocity이란? 스플라이싱된 RNA와 아직 스플라이싱되지 않은 RNA를 구분해 세포의 상태를 예측하는 기법으로 scRNA 데이터에서 클러스터간에 분화 과정에 대한 단서를 얻을 수 있습니다. 예를 들어 아래 그림에서 보면 cluster4에서 cluster2로의 방향성을 확인 할 수 있습니다.\n",
    "\n",
    "![](https://cdn.10xgenomics.com/image/upload/c_scale,w_600/v1646345944/analysis-guides/velocity-tutorial/scVelo-umap-cluster.png)\n",
    "\n",
    "안타깝게도 `Cell ranger`를 통해 얻은 `count matrix`로는 RNA velocity 분석을 할 수 없습니다. 추가적으로 `velocyto`이라는 도구를 사용해 unspliced , spliced 데이터가 포함된 `loom`파일을 만들어야 합니다. 아래 명령어를 사용하면 간단하게 얻을 수 있습니다. \n",
    "\n",
    "```bash\n",
    "velocyto run10x run_count_mNeuron1k/ data/refdata-gex-mm10-2020-A/genes/genes.gtf\n",
    "```\n",
    "\n",
    "실행이 완료되는 시간은 생각보다 오래 걸립니다.\n",
    "\n",
    "```bash\n",
    "2023-09-19 10:01:22,756 - DEBUG - Using logic: Default\n",
    "2023-09-19 10:01:22,757 - DEBUG - Example of barcode: AAACGAATCAAAGCCT and cell_id: run_count_mNeuron1k:AAACGAATCAAAGCCT-1\n",
    "(중략)\n",
    "2023-09-19 10:27:23,985 - DEBUG - 1991314 reads were skipped because no apropiate cell or umi barcode was found\n",
    "2023-09-19 10:27:23,985 - DEBUG - Counting done!\n",
    "2023-09-19 10:27:23,988 - DEBUG - Collecting row attributes\n",
    "2023-09-19 10:27:24,014 - DEBUG - Generating data table\n",
    "2023-09-19 10:27:24,056 - DEBUG - Writing loom file\n",
    "2023-09-19 10:27:25,286 - DEBUG - Terminated Succesfully!\n",
    "```\n",
    "\n",
    "완료가 되면 `run_count_mNeuron1k`폴더안에 `velocyto`라는 새로운 폴더가 생기고 `run_count_mNeuron1k.loom` 파일이 생성됩니다.\n"
   ]
  },
  {
   "cell_type": "markdown",
   "id": "631401f0-e088-4ab6-8ca9-98c5de9435d4",
   "metadata": {},
   "source": [
    "# Count matrix 데이터 읽기\n",
    "\n",
    "이제 힘든 데이터 준비 과정이 모두 끝났습니다. 데이터 분석을 시작해보죠. scRNA-seq 분야는 아직 초기이고 새로운 도구들이 계속 쏟아지고 있습니다. 나중은 어떻게 될지 모르겠지만 지금 시점에서는 `R`에 익숙하다면 `Seurat`, `Python`에 익숙하다면 `Scanpy`를 추천합니다.\n",
    "\n",
    "> 참고로 속도적인 측면과 ML을 접목하기에는 Scanpy가 더 강점을 가지고 있습니다.\n",
    "\n",
    "## Scanpy 사용하기\n",
    "\n",
    "다음 코드를 통해 count matrix를 scanpy로 불러 올 수 있습니다."
   ]
  },
  {
   "cell_type": "code",
   "execution_count": 1,
   "id": "1e83ee5a-1b68-4e1b-915e-a29168d38d21",
   "metadata": {
    "tags": []
   },
   "outputs": [
    {
     "data": {
      "text/plain": [
       "AnnData object with n_obs × n_vars = 1311 × 32285\n",
       "    var: 'gene_ids', 'feature_types'"
      ]
     },
     "execution_count": 1,
     "metadata": {},
     "output_type": "execute_result"
    }
   ],
   "source": [
    "# conda install pandas scanpy\n",
    "import pandas as pd\n",
    "import scanpy as sc\n",
    "\n",
    "# Cell ranger 결과 파일이 들어있는 경로\n",
    "file_path = \"../input/run_count_mNeuron1k/outs/filtered_feature_bc_matrix\"\n",
    "\n",
    "# read_10x_mtx 함수를 사용\n",
    "adata = sc.read_10x_mtx(\n",
    "    file_path,\n",
    "    var_names='gene_symbols',\n",
    "    cache=True)\n",
    "adata"
   ]
  },
  {
   "cell_type": "markdown",
   "id": "ea6c40ad",
   "metadata": {},
   "source": [
    "scVelo를 사용해 RNA velocity분석을 한다면 아래의 추가적인 코드가 필요합니다."
   ]
  },
  {
   "cell_type": "code",
   "execution_count": 2,
   "id": "1868db07-40b2-4213-b062-f88b1fe0d693",
   "metadata": {},
   "outputs": [
    {
     "data": {
      "text/plain": [
       "AnnData object with n_obs × n_vars = 1311 × 32285\n",
       "    obs: 'initial_size_unspliced', 'initial_size_spliced', 'initial_size'\n",
       "    var: 'gene_ids', 'feature_types', 'Accession', 'Chromosome', 'End', 'Start', 'Strand'\n",
       "    layers: 'matrix', 'ambiguous', 'spliced', 'unspliced'"
      ]
     },
     "execution_count": 2,
     "metadata": {},
     "output_type": "execute_result"
    }
   ],
   "source": [
    "# conda install -c bioconda scvelo\n",
    "import scvelo as scv\n",
    "\n",
    "# load loom files for spliced/unspliced matrices for each sample\n",
    "loom = scv.read(f\"{file_path}/run_count_mNeuron1k.loom\", validate=False, cache=False)\n",
    "\n",
    "# rename barcodes in order to merge:\n",
    "barcodes = [bc.split(':')[1] for bc in loom.obs.index.tolist()]\n",
    "barcodes = [bc[0:len(bc)-1] + '-1' for bc in barcodes]\n",
    "loom.obs.index = barcodes\n",
    "\n",
    "# make variable names unique\n",
    "loom.var_names_make_unique()\n",
    "\n",
    "# merge matrices into the original adata object\n",
    "adata = scv.utils.merge(adata, loom)\n",
    "adata"
   ]
  },
  {
   "cell_type": "code",
   "execution_count": 3,
   "id": "4ffd23b8-a12a-4920-9c5d-537386cda97a",
   "metadata": {},
   "outputs": [
    {
     "data": {
      "image/png": "[encoded data removed]",
      "text/plain": [
       "<Figure size 1000x200 with 1 Axes>"
      ]
     },
     "metadata": {},
     "output_type": "display_data"
    }
   ],
   "source": [
    "scv.pl.proportions(adata)"
   ]
  },
  {
   "cell_type": "markdown",
   "id": "07d220cf",
   "metadata": {},
   "source": [
    "scanpy는 `*.h5ad` 포멧을 사용해 `count matrix`를 저장합니다. 아래 코드를 사용하면 단일 파일로 모든 것을 저장할 수 있습니다."
   ]
  },
  {
   "cell_type": "code",
   "execution_count": null,
   "id": "14b6ea54-2dbd-4180-95cf-a4c16038a9c4",
   "metadata": {},
   "outputs": [],
   "source": [
    "adata.write(\"../output/mNeuron1k.h5ad\", compression='gzip')"
   ]
  },
  {
   "cell_type": "markdown",
   "id": "0acb9d43-c2cf-4ddb-9bab-2479d1b8cf54",
   "metadata": {},
   "source": [
    "## Seurat 사용하기\n",
    "\n",
    "`R`에 좀 더 익숙하시다면 `Seurat`을 사용하세요. 저는 파이썬 문법을 더 좋아하지만 솔직히 분석 도구의 완성도 측면에서는 `Seurat`이 더 나은 것 같습니다. 아래 코드는 `jupyter notebook`에서 `R`코드를 사용하기 위해 필요한 것으로 `rStudio`를 사용하신다면 `%%R`이 포함된 셀의 코드만 사용하시면 됩니다."
   ]
  },
  {
   "cell_type": "code",
   "execution_count": 4,
   "id": "fd9293cd-66d8-4aab-9a91-581156580ebb",
   "metadata": {},
   "outputs": [],
   "source": [
    "import logging\n",
    "import rpy2.rinterface_lib.callbacks as rcb\n",
    "# import rpy2.robjects as ro\n",
    "\n",
    "rcb.logger.setLevel(logging.ERROR)\n",
    "%load_ext rpy2.ipython"
   ]
  },
  {
   "cell_type": "markdown",
   "id": "26135b5f",
   "metadata": {},
   "source": [
    "필요한 `Seurat` 라이브러리를 불러옵니다."
   ]
  },
  {
   "cell_type": "code",
   "execution_count": 5,
   "id": "c9b851da-9d12-465a-94b3-cb3979c9255e",
   "metadata": {},
   "outputs": [
    {
     "name": "stdout",
     "output_type": "stream",
     "text": [
      "\n",
      "    WARNING: The R package \"reticulate\" only fixed recently\n",
      "    an issue that caused a segfault when used with rpy2:\n",
      "    https://github.com/rstudio/reticulate/pull/1188\n",
      "    Make sure that you use a version of that package that includes\n",
      "    the fix.\n",
      "    "
     ]
    }
   ],
   "source": [
    "%%R\n",
    "library(dplyr)\n",
    "library(Seurat)"
   ]
  },
  {
   "cell_type": "markdown",
   "id": "ad9076d5",
   "metadata": {},
   "source": [
    "아래의 코드를 사용하면 `count matrix`를 `Seurat object`로 만들 수 있습니다."
   ]
  },
  {
   "cell_type": "code",
   "execution_count": 6,
   "id": "03a5512a-eef5-4b89-969d-0715287d90de",
   "metadata": {},
   "outputs": [
    {
     "name": "stdout",
     "output_type": "stream",
     "text": [
      "An object of class Seurat \n",
      "32285 features across 1311 samples within 1 assay \n",
      "Active assay: RNA (32285 features, 0 variable features)\n"
     ]
    }
   ],
   "source": [
    "%%R\n",
    "# Load dataset\n",
    "neuron.data <- Read10X(data.dir = \"../input/run_count_mNeuron1k/outs/filtered_feature_bc_matrix\")\n",
    "# Initialize the Seurat object.\n",
    "obj <- CreateSeuratObject(counts = neuron.data)\n",
    "obj"
   ]
  },
  {
   "cell_type": "markdown",
   "id": "8ab1d699",
   "metadata": {},
   "source": [
    "`Seurat object`를 파일로 저장하는 방법에도 여러가지가 있지만 `R`에서 많이 사용되는 `*.rds`를 사용하는 코드는 아래와 같습니다. "
   ]
  },
  {
   "cell_type": "code",
   "execution_count": 8,
   "id": "2a3178bf-3aff-4ee4-a2a8-d7b36eefa45a",
   "metadata": {},
   "outputs": [],
   "source": [
    "%%R\n",
    "saveRDS(obj, file = \"../output/mNeuron1k.rds\")"
   ]
  },
  {
   "cell_type": "markdown",
   "id": "1bc9da6c-c996-41df-98c9-965eddd39e6a",
   "metadata": {},
   "source": [
    "# 마치며\n",
    "\n",
    "이것으로 scRNA seq 데이터의 전처리 과정을 알아봤습니다. 여기 적힌 방법 외에도 더 효율적이고 나은 방법도 있고 앞으로도 더 생겨날 것입니다. 그러나 저도 배우는 입장에서 다른 분들에게 도움이 되고자 정리를 해봤습니다. 실제 실험을 통해 얻은 데이터를 분석하는데 도움이 되길 바랍니다.\n"
   ]
  }
 ],
 "metadata": {
  "kernelspec": {
   "display_name": "Python 3 (ipykernel)",
   "language": "python",
   "name": "python3"
  },
  "language_info": {
   "codemirror_mode": {
    "name": "ipython",
    "version": 3
   },
   "file_extension": ".py",
   "mimetype": "text/x-python",
   "name": "python",
   "nbconvert_exporter": "python",
   "pygments_lexer": "ipython3",
   "version": "3.11.3"
  },
  "nikola": {
   "category": "scRNA",
   "date": "2023-09-22 11:57:20 UTC+09:00",
   "description": "",
   "link": "",
   "slug": "scRNA-rawdata",
   "tags": [
    "scRNA",
    "scRNA seq",
    "Seurat",
    "Scanpy",
    "Cell ranger",
    "10x",
    "Genomics",
    "Raw data"
   ],
   "title": "scRNA데이터 전처리하기",
   "type": "text"
  }
 },
 "nbformat": 4,
 "nbformat_minor": 5
}
