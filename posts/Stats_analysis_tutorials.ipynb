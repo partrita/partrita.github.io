{
 "cells": [
  {
   "cell_type": "markdown",
   "metadata": {},
   "source": [
    "# TEST\n",
    "## T-test\n",
    "1. t.test()\n",
    "2. t.test(paired=True)\n",
    "3. prop.test()\n",
    "4. wilcox.test()"
   ]
  },
  {
   "cell_type": "code",
   "execution_count": 1,
   "metadata": {},
   "outputs": [
    {
     "name": "stdout",
     "output_type": "stream",
     "text": [
      "'data.frame':\t93 obs. of  27 variables:\n",
      " $ Manufacturer      : Factor w/ 32 levels \"Acura\",\"Audi\",..: 1 1 2 2 3 4 4 4 4 5 ...\n",
      " $ Model             : Factor w/ 93 levels \"100\",\"190E\",\"240\",..: 49 56 9 1 6 24 54 74 73 35 ...\n",
      " $ Type              : Factor w/ 6 levels \"Compact\",\"Large\",..: 4 3 1 3 3 3 2 2 3 2 ...\n",
      " $ Min.Price         : num  12.9 29.2 25.9 30.8 23.7 14.2 19.9 22.6 26.3 33 ...\n",
      " $ Price             : num  15.9 33.9 29.1 37.7 30 15.7 20.8 23.7 26.3 34.7 ...\n",
      " $ Max.Price         : num  18.8 38.7 32.3 44.6 36.2 17.3 21.7 24.9 26.3 36.3 ...\n",
      " $ MPG.city          : int  25 18 20 19 22 22 19 16 19 16 ...\n",
      " $ MPG.highway       : int  31 25 26 26 30 31 28 25 27 25 ...\n",
      " $ AirBags           : Factor w/ 3 levels \"Driver & Passenger\",..: 3 1 2 1 2 2 2 2 2 2 ...\n",
      " $ DriveTrain        : Factor w/ 3 levels \"4WD\",\"Front\",..: 2 2 2 2 3 2 2 3 2 2 ...\n",
      " $ Cylinders         : Factor w/ 6 levels \"3\",\"4\",\"5\",\"6\",..: 2 4 4 4 2 2 4 4 4 5 ...\n",
      " $ EngineSize        : num  1.8 3.2 2.8 2.8 3.5 2.2 3.8 5.7 3.8 4.9 ...\n",
      " $ Horsepower        : int  140 200 172 172 208 110 170 180 170 200 ...\n",
      " $ RPM               : int  6300 5500 5500 5500 5700 5200 4800 4000 4800 4100 ...\n",
      " $ Rev.per.mile      : int  2890 2335 2280 2535 2545 2565 1570 1320 1690 1510 ...\n",
      " $ Man.trans.avail   : Factor w/ 2 levels \"No\",\"Yes\": 2 2 2 2 2 1 1 1 1 1 ...\n",
      " $ Fuel.tank.capacity: num  13.2 18 16.9 21.1 21.1 16.4 18 23 18.8 18 ...\n",
      " $ Passengers        : int  5 5 5 6 4 6 6 6 5 6 ...\n",
      " $ Length            : int  177 195 180 193 186 189 200 216 198 206 ...\n",
      " $ Wheelbase         : int  102 115 102 106 109 105 111 116 108 114 ...\n",
      " $ Width             : int  68 71 67 70 69 69 74 78 73 73 ...\n",
      " $ Turn.circle       : int  37 38 37 37 39 41 42 45 41 43 ...\n",
      " $ Rear.seat.room    : num  26.5 30 28 31 27 28 30.5 30.5 26.5 35 ...\n",
      " $ Luggage.room      : int  11 15 14 17 13 16 17 21 14 18 ...\n",
      " $ Weight            : int  2705 3560 3375 3405 3640 2880 3470 4105 3495 3620 ...\n",
      " $ Origin            : Factor w/ 2 levels \"USA\",\"non-USA\": 2 2 2 2 2 1 1 1 1 1 ...\n",
      " $ Make              : Factor w/ 93 levels \"Acura Integra\",..: 1 2 4 3 5 6 7 9 8 10 ...\n"
     ]
    }
   ],
   "source": [
    "# t.test() 분석 사용 예제 MASS 패키지에 내장된 Cars93 데이터 프레임의 가격과 생산국가 중 미국산과 비국산이 아닌 차 가격의 평균이 차이가 있는지 검정해보고\n",
    "# 95% 신뢰 구간을 추정해 보겠습니다.\n",
    "\n",
    "library(MASS)\n",
    "str(Cars93)"
   ]
  },
  {
   "cell_type": "code",
   "execution_count": 2,
   "metadata": {},
   "outputs": [
    {
     "data": {
      "image/png": "[encoded data removed]",
      "text/plain": [
       "Plot with title “Boxplot of Cars93”"
      ]
     },
     "metadata": {},
     "output_type": "display_data"
    }
   ],
   "source": [
    "# box plot\n",
    "boxplot(Price ~ Origin, data = Cars93, main = \"Boxplot of Cars93\", xlab = 'Origin', ylab = 'Price')"
   ]
  },
  {
   "cell_type": "code",
   "execution_count": 3,
   "metadata": {},
   "outputs": [
    {
     "name": "stderr",
     "output_type": "stream",
     "text": [
      "Updating HTML index of packages in '.Library'\n",
      "Making 'packages.html' ... done\n"
     ]
    }
   ],
   "source": [
    "# Histogram\n",
    "install.packages('ggplot2')\n"
   ]
  },
  {
   "cell_type": "code",
   "execution_count": 4,
   "metadata": {},
   "outputs": [
    {
     "data": {},
     "metadata": {},
     "output_type": "display_data"
    },
    {
     "data": {
      "image/png": "[encoded data removed]",
      "text/plain": [
       "plot without title"
      ]
     },
     "metadata": {},
     "output_type": "display_data"
    }
   ],
   "source": [
    "library(ggplot2)\n",
    "ggplot( Cars93, aes(x =Price)) + geom_histogram(binwidth=5) + facet_grid(Origin ~ .) + ggtitle('Histogram of price')"
   ]
  },
  {
   "cell_type": "code",
   "execution_count": 5,
   "metadata": {},
   "outputs": [
    {
     "data": {
      "text/plain": [
       "\n",
       "\tF test to compare two variances\n",
       "\n",
       "data:  Price by Origin\n",
       "F = 0.47796, num df = 47, denom df = 44, p-value = 0.01387\n",
       "alternative hypothesis: true ratio of variances is not equal to 1\n",
       "95 percent confidence interval:\n",
       " 0.2645004 0.8587304\n",
       "sample estimates:\n",
       "ratio of variances \n",
       "         0.4779637 \n"
      ]
     },
     "metadata": {},
     "output_type": "display_data"
    }
   ],
   "source": [
    "var.test(Price ~ Origin, data = Cars93)"
   ]
  },
  {
   "cell_type": "code",
   "execution_count": 6,
   "metadata": {},
   "outputs": [
    {
     "data": {
      "text/plain": [
       "\n",
       "\tWelch Two Sample t-test\n",
       "\n",
       "data:  Price by Origin\n",
       "t = -0.95449, df = 77.667, p-value = 0.3428\n",
       "alternative hypothesis: true difference in means is not equal to 0\n",
       "95 percent confidence interval:\n",
       " -5.974255  2.102311\n",
       "sample estimates:\n",
       "    mean in group USA mean in group non-USA \n",
       "             18.57292              20.50889 \n"
      ]
     },
     "metadata": {},
     "output_type": "display_data"
    }
   ],
   "source": [
    "t.test(Price ~ Origin, data = Cars93, alternative = c(\"two.sided\"), var.equal = FALSE, conf.level = 0.95)"
   ]
  },
  {
   "cell_type": "markdown",
   "metadata": {},
   "source": [
    "2개의 모집단에 대한 평균을 비교, 분석하는 통계적 기법으로 t-test를 활용하였다면 비교하조자 하는 집단이 3개 이상일 경우에는 **분산분석(ANOVA)** 을 이용합니다.\n",
    "1. one-way ANOVA의 개념\n"
   ]
  },
  {
   "cell_type": "code",
   "execution_count": 7,
   "metadata": {},
   "outputs": [
    {
     "data": {
      "text/html": [
       "<table>\n",
       "<thead><tr><th></th><th scope=col>y</th><th scope=col>group</th></tr></thead>\n",
       "<tbody>\n",
       "\t<tr><th scope=row>10</th><td>40.26</td><td>2    </td></tr>\n",
       "\t<tr><th scope=row>11</th><td>40.50</td><td>3    </td></tr>\n",
       "\t<tr><th scope=row>12</th><td>42.10</td><td>3    </td></tr>\n",
       "\t<tr><th scope=row>13</th><td>24.10</td><td>3    </td></tr>\n",
       "\t<tr><th scope=row>14</th><td>52.14</td><td>3    </td></tr>\n",
       "\t<tr><th scope=row>15</th><td>30.66</td><td>3    </td></tr>\n",
       "</tbody>\n",
       "</table>\n"
      ],
      "text/latex": [
       "\\begin{tabular}{r|ll}\n",
       "  & y & group\\\\\n",
       "\\hline\n",
       "\t10 & 40.26 & 2    \\\\\n",
       "\t11 & 40.50 & 3    \\\\\n",
       "\t12 & 42.10 & 3    \\\\\n",
       "\t13 & 24.10 & 3    \\\\\n",
       "\t14 & 52.14 & 3    \\\\\n",
       "\t15 & 30.66 & 3    \\\\\n",
       "\\end{tabular}\n"
      ],
      "text/markdown": [
       "\n",
       "| <!--/--> | y | group | \n",
       "|---|---|---|---|---|---|\n",
       "| 10 | 40.26 | 2     | \n",
       "| 11 | 40.50 | 3     | \n",
       "| 12 | 42.10 | 3     | \n",
       "| 13 | 24.10 | 3     | \n",
       "| 14 | 52.14 | 3     | \n",
       "| 15 | 30.66 | 3     | \n",
       "\n",
       "\n"
      ],
      "text/plain": [
       "   y     group\n",
       "10 40.26 2    \n",
       "11 40.50 3    \n",
       "12 42.10 3    \n",
       "13 24.10 3    \n",
       "14 52.14 3    \n",
       "15 30.66 3    "
      ]
     },
     "metadata": {},
     "output_type": "display_data"
    }
   ],
   "source": [
    "y1 <- c(50.5, 52.1, 51.9, 52.4, 50.6)\n",
    "y2 <- c(30.5, 22.1, 54.2, 42.2, 40.26)\n",
    "y3 <- c(40.5, 42.1, 24.1, 52.14, 30.66)\n",
    "y <- c(y1,y2,y3)\n",
    "n <- rep(5,3)\n",
    "group <- rep(1:3, n)\n",
    "# combining to data frame\n",
    "group_df <- data.frame(y, group)\n",
    "tail(group_df)"
   ]
  },
  {
   "cell_type": "code",
   "execution_count": 8,
   "metadata": {},
   "outputs": [
    {
     "data": {
      "text/html": [
       "<dl class=dl-horizontal>\n",
       "\t<dt>y</dt>\n",
       "\t\t<dd>'numeric'</dd>\n",
       "\t<dt>group</dt>\n",
       "\t\t<dd>'integer'</dd>\n",
       "</dl>\n"
      ],
      "text/latex": [
       "\\begin{description*}\n",
       "\\item[y] 'numeric'\n",
       "\\item[group] 'integer'\n",
       "\\end{description*}\n"
      ],
      "text/markdown": [
       "y\n",
       ":   'numeric'group\n",
       ":   'integer'\n",
       "\n"
      ],
      "text/plain": [
       "        y     group \n",
       "\"numeric\" \"integer\" "
      ]
     },
     "metadata": {},
     "output_type": "display_data"
    }
   ],
   "source": [
    "sapply(group_df, class)"
   ]
  },
  {
   "cell_type": "code",
   "execution_count": 9,
   "metadata": {
    "collapsed": true
   },
   "outputs": [],
   "source": [
    "#transform from integer to factor\n",
    "group_df <- transform(group_df, group = factor(group))"
   ]
  },
  {
   "cell_type": "code",
   "execution_count": 10,
   "metadata": {},
   "outputs": [
    {
     "data": {
      "image/png": "[encoded data removed]",
      "text/plain": [
       "plot without title"
      ]
     },
     "metadata": {},
     "output_type": "display_data"
    }
   ],
   "source": [
    "#boxplot\n",
    "boxplot(y~ group)"
   ]
  },
  {
   "cell_type": "code",
   "execution_count": 11,
   "metadata": {},
   "outputs": [
    {
     "data": {
      "text/plain": [
       "Call:\n",
       "   aov(formula = y ~ group, data = group_df)\n",
       "\n",
       "Terms:\n",
       "                   group Residuals\n",
       "Sum of Squares   618.717  1067.313\n",
       "Deg. of Freedom        2        12\n",
       "\n",
       "Residual standard error: 9.430948\n",
       "Estimated effects may be unbalanced"
      ]
     },
     "metadata": {},
     "output_type": "display_data"
    }
   ],
   "source": [
    "#one way ANOVA\n",
    "aov(y ~ group, data = group_df)"
   ]
  },
  {
   "cell_type": "code",
   "execution_count": 12,
   "metadata": {},
   "outputs": [
    {
     "data": {
      "text/plain": [
       "            Df Sum Sq Mean Sq F value Pr(>F)  \n",
       "group        2  618.7  309.36   3.478 0.0644 .\n",
       "Residuals   12 1067.3   88.94                 \n",
       "---\n",
       "Signif. codes:  0 ‘***’ 0.001 ‘**’ 0.01 ‘*’ 0.05 ‘.’ 0.1 ‘ ’ 1"
      ]
     },
     "metadata": {},
     "output_type": "display_data"
    }
   ],
   "source": [
    "summary(aov(y ~ group, data = group_df))"
   ]
  },
  {
   "cell_type": "markdown",
   "metadata": {
    "collapsed": true
   },
   "source": [
    "### 2way ANOVA\n",
    "관측값이 하나일 경우와 관측값이 2개일 경우로 나누어 볼 수 있습니다.\n",
    "첫번째의 경우를 설명\n",
    "\n",
    "예제1) K와 M 두 보험회사의 차종에 따른 분기별 보험료가 아래 표와 같다고 할 때 유의수준(0.05) 차종과 회사의 효과에 대한 검정을 하라\n",
    "\n",
    "차종 | K회사 | M회사 | 평균\n",
    "---|---|---|---\n",
    "1000cc | 140 | 100 | 120\n",
    "1500cc | 210 | 180 | 195\n",
    "1800cc | 220 | 200 | 210\n",
    "평균 | 190 | 160 | 175"
   ]
  },
  {
   "cell_type": "code",
   "execution_count": 13,
   "metadata": {},
   "outputs": [
    {
     "data": {
      "text/html": [
       "<ol class=list-inline>\n",
       "\t<li>1000</li>\n",
       "\t<li>1500</li>\n",
       "\t<li>1800</li>\n",
       "\t<li>1000</li>\n",
       "\t<li>1500</li>\n",
       "\t<li>1800</li>\n",
       "</ol>\n"
      ],
      "text/latex": [
       "\\begin{enumerate*}\n",
       "\\item 1000\n",
       "\\item 1500\n",
       "\\item 1800\n",
       "\\item 1000\n",
       "\\item 1500\n",
       "\\item 1800\n",
       "\\end{enumerate*}\n"
      ],
      "text/markdown": [
       "1. 1000\n",
       "2. 1500\n",
       "3. 1800\n",
       "4. 1000\n",
       "5. 1500\n",
       "6. 1800\n",
       "\n",
       "\n"
      ],
      "text/plain": [
       "[1] 1000 1500 1800 1000 1500 1800\n",
       "Levels: 1000 1500 1800"
      ]
     },
     "metadata": {},
     "output_type": "display_data"
    }
   ],
   "source": [
    "car_type <- rep(c('1000','1500','1800'),2)\n",
    "car_type <- as.factor(car_type) #transform to factor\n",
    "car_type"
   ]
  },
  {
   "cell_type": "code",
   "execution_count": 14,
   "metadata": {},
   "outputs": [
    {
     "data": {
      "text/html": [
       "<ol class=list-inline>\n",
       "\t<li>K</li>\n",
       "\t<li>K</li>\n",
       "\t<li>K</li>\n",
       "\t<li>M</li>\n",
       "\t<li>M</li>\n",
       "\t<li>M</li>\n",
       "</ol>\n"
      ],
      "text/latex": [
       "\\begin{enumerate*}\n",
       "\\item K\n",
       "\\item K\n",
       "\\item K\n",
       "\\item M\n",
       "\\item M\n",
       "\\item M\n",
       "\\end{enumerate*}\n"
      ],
      "text/markdown": [
       "1. K\n",
       "2. K\n",
       "3. K\n",
       "4. M\n",
       "5. M\n",
       "6. M\n",
       "\n",
       "\n"
      ],
      "text/plain": [
       "[1] K K K M M M\n",
       "Levels: K M"
      ]
     },
     "metadata": {},
     "output_type": "display_data"
    }
   ],
   "source": [
    "insurance <- as.factor(c(rep('K',3),rep('M',3)))\n",
    "insurance"
   ]
  },
  {
   "cell_type": "code",
   "execution_count": 15,
   "metadata": {},
   "outputs": [
    {
     "data": {
      "text/plain": [
       "            Df Sum Sq Mean Sq F value Pr(>F)  \n",
       "car_type     2   9300    4650      93 0.0106 *\n",
       "insurance    1   1350    1350      27 0.0351 *\n",
       "Residuals    2    100      50                 \n",
       "---\n",
       "Signif. codes:  0 ‘***’ 0.001 ‘**’ 0.01 ‘*’ 0.05 ‘.’ 0.1 ‘ ’ 1"
      ]
     },
     "metadata": {},
     "output_type": "display_data"
    }
   ],
   "source": [
    "y <- c(140,210,220,100,180,200)\n",
    "two_way_aov_model_1 <- aov(y~ car_type + insurance) # no replicates, no interaction\n",
    "summary(two_way_aov_model_1)"
   ]
  },
  {
   "cell_type": "markdown",
   "metadata": {},
   "source": [
    "> A 차종에 따르 분산분석 결과 p-values 0.01으로서 유의수준보다 적으므로 차종에 따라서 보험료에 차이가 있다는 대립가설을 채택할 수 있게 되었습니다.\n",
    "또한, 요인 B  보험 회사에 따르 분산분석 결과또한 유의수준보다 작으므로 회사에 따라 보험료에 차이가 있다는 대립가설을 채택 할 수 있습니다.\n",
    "\n",
    "### 관측값이 두개 이상일 경우 2WAY ANOVA\n",
    "관측값이 두개 이상일 경우는 두개의 요인 수준별 주효과와 더불어 두요인이 서로 상호간에 영항을 주고 받으면서 나타나는 반응효과인 *교호작용 효과*를 추가로 분석하는 것이 차이점입니다.\n"
   ]
  },
  {
   "cell_type": "code",
   "execution_count": 16,
   "metadata": {},
   "outputs": [
    {
     "data": {
      "text/html": [
       "<ol class=list-inline>\n",
       "\t<li>M</li>\n",
       "\t<li>M</li>\n",
       "\t<li>M</li>\n",
       "\t<li>M</li>\n",
       "\t<li>M</li>\n",
       "\t<li>M</li>\n",
       "\t<li>M</li>\n",
       "\t<li>M</li>\n",
       "\t<li>M</li>\n",
       "\t<li>F</li>\n",
       "\t<li>F</li>\n",
       "\t<li>F</li>\n",
       "\t<li>F</li>\n",
       "\t<li>F</li>\n",
       "\t<li>F</li>\n",
       "\t<li>F</li>\n",
       "\t<li>F</li>\n",
       "\t<li>F</li>\n",
       "</ol>\n"
      ],
      "text/latex": [
       "\\begin{enumerate*}\n",
       "\\item M\n",
       "\\item M\n",
       "\\item M\n",
       "\\item M\n",
       "\\item M\n",
       "\\item M\n",
       "\\item M\n",
       "\\item M\n",
       "\\item M\n",
       "\\item F\n",
       "\\item F\n",
       "\\item F\n",
       "\\item F\n",
       "\\item F\n",
       "\\item F\n",
       "\\item F\n",
       "\\item F\n",
       "\\item F\n",
       "\\end{enumerate*}\n"
      ],
      "text/markdown": [
       "1. M\n",
       "2. M\n",
       "3. M\n",
       "4. M\n",
       "5. M\n",
       "6. M\n",
       "7. M\n",
       "8. M\n",
       "9. M\n",
       "10. F\n",
       "11. F\n",
       "12. F\n",
       "13. F\n",
       "14. F\n",
       "15. F\n",
       "16. F\n",
       "17. F\n",
       "18. F\n",
       "\n",
       "\n"
      ],
      "text/plain": [
       " [1] M M M M M M M M M F F F F F F F F F\n",
       "Levels: F M"
      ]
     },
     "metadata": {},
     "output_type": "display_data"
    }
   ],
   "source": [
    "gender.fac <- as.factor(c(rep('M',9),rep('F',9)))\n",
    "gender.fac"
   ]
  },
  {
   "cell_type": "code",
   "execution_count": 17,
   "metadata": {
    "collapsed": true
   },
   "outputs": [],
   "source": [
    "class <- c('class_1','class_1','class_1','class_2','class_2','class_2','class_3','class_3','class_3')\n",
    "class.fac <- as.factor(c(rep(class,2)))"
   ]
  },
  {
   "cell_type": "code",
   "execution_count": 18,
   "metadata": {
    "collapsed": true
   },
   "outputs": [],
   "source": [
    "score_stats <- c(71,78,77,78,71,71,78,77,78,71,71,78,77,78,69,74,75,70)\n",
    "score.df <- data.frame(gender.fac, class.fac, score_stats)"
   ]
  },
  {
   "cell_type": "code",
   "execution_count": 19,
   "metadata": {},
   "outputs": [
    {
     "data": {
      "text/html": [
       "<table>\n",
       "<thead><tr><th scope=col>gender.fac</th><th scope=col>class.fac</th><th scope=col>score_stats</th></tr></thead>\n",
       "<tbody>\n",
       "\t<tr><td>M      </td><td>class_1</td><td>71     </td></tr>\n",
       "\t<tr><td>M      </td><td>class_1</td><td>78     </td></tr>\n",
       "\t<tr><td>M      </td><td>class_1</td><td>77     </td></tr>\n",
       "\t<tr><td>M      </td><td>class_2</td><td>78     </td></tr>\n",
       "\t<tr><td>M      </td><td>class_2</td><td>71     </td></tr>\n",
       "\t<tr><td>M      </td><td>class_2</td><td>71     </td></tr>\n",
       "\t<tr><td>M      </td><td>class_3</td><td>78     </td></tr>\n",
       "\t<tr><td>M      </td><td>class_3</td><td>77     </td></tr>\n",
       "\t<tr><td>M      </td><td>class_3</td><td>78     </td></tr>\n",
       "\t<tr><td>F      </td><td>class_1</td><td>71     </td></tr>\n",
       "\t<tr><td>F      </td><td>class_1</td><td>71     </td></tr>\n",
       "\t<tr><td>F      </td><td>class_1</td><td>78     </td></tr>\n",
       "\t<tr><td>F      </td><td>class_2</td><td>77     </td></tr>\n",
       "\t<tr><td>F      </td><td>class_2</td><td>78     </td></tr>\n",
       "\t<tr><td>F      </td><td>class_2</td><td>69     </td></tr>\n",
       "\t<tr><td>F      </td><td>class_3</td><td>74     </td></tr>\n",
       "\t<tr><td>F      </td><td>class_3</td><td>75     </td></tr>\n",
       "\t<tr><td>F      </td><td>class_3</td><td>70     </td></tr>\n",
       "</tbody>\n",
       "</table>\n"
      ],
      "text/latex": [
       "\\begin{tabular}{r|lll}\n",
       " gender.fac & class.fac & score\\_stats\\\\\n",
       "\\hline\n",
       "\t M         & class\\_1 & 71       \\\\\n",
       "\t M         & class\\_1 & 78       \\\\\n",
       "\t M         & class\\_1 & 77       \\\\\n",
       "\t M         & class\\_2 & 78       \\\\\n",
       "\t M         & class\\_2 & 71       \\\\\n",
       "\t M         & class\\_2 & 71       \\\\\n",
       "\t M         & class\\_3 & 78       \\\\\n",
       "\t M         & class\\_3 & 77       \\\\\n",
       "\t M         & class\\_3 & 78       \\\\\n",
       "\t F         & class\\_1 & 71       \\\\\n",
       "\t F         & class\\_1 & 71       \\\\\n",
       "\t F         & class\\_1 & 78       \\\\\n",
       "\t F         & class\\_2 & 77       \\\\\n",
       "\t F         & class\\_2 & 78       \\\\\n",
       "\t F         & class\\_2 & 69       \\\\\n",
       "\t F         & class\\_3 & 74       \\\\\n",
       "\t F         & class\\_3 & 75       \\\\\n",
       "\t F         & class\\_3 & 70       \\\\\n",
       "\\end{tabular}\n"
      ],
      "text/markdown": [
       "\n",
       "gender.fac | class.fac | score_stats | \n",
       "|---|---|---|---|---|---|---|---|---|---|---|---|---|---|---|---|---|---|\n",
       "| M       | class_1 | 71      | \n",
       "| M       | class_1 | 78      | \n",
       "| M       | class_1 | 77      | \n",
       "| M       | class_2 | 78      | \n",
       "| M       | class_2 | 71      | \n",
       "| M       | class_2 | 71      | \n",
       "| M       | class_3 | 78      | \n",
       "| M       | class_3 | 77      | \n",
       "| M       | class_3 | 78      | \n",
       "| F       | class_1 | 71      | \n",
       "| F       | class_1 | 71      | \n",
       "| F       | class_1 | 78      | \n",
       "| F       | class_2 | 77      | \n",
       "| F       | class_2 | 78      | \n",
       "| F       | class_2 | 69      | \n",
       "| F       | class_3 | 74      | \n",
       "| F       | class_3 | 75      | \n",
       "| F       | class_3 | 70      | \n",
       "\n",
       "\n"
      ],
      "text/plain": [
       "   gender.fac class.fac score_stats\n",
       "1  M          class_1   71         \n",
       "2  M          class_1   78         \n",
       "3  M          class_1   77         \n",
       "4  M          class_2   78         \n",
       "5  M          class_2   71         \n",
       "6  M          class_2   71         \n",
       "7  M          class_3   78         \n",
       "8  M          class_3   77         \n",
       "9  M          class_3   78         \n",
       "10 F          class_1   71         \n",
       "11 F          class_1   71         \n",
       "12 F          class_1   78         \n",
       "13 F          class_2   77         \n",
       "14 F          class_2   78         \n",
       "15 F          class_2   69         \n",
       "16 F          class_3   74         \n",
       "17 F          class_3   75         \n",
       "18 F          class_3   70         "
      ]
     },
     "metadata": {},
     "output_type": "display_data"
    }
   ],
   "source": [
    "score.df"
   ]
  },
  {
   "cell_type": "code",
   "execution_count": 21,
   "metadata": {},
   "outputs": [
    {
     "name": "stderr",
     "output_type": "stream",
     "text": [
      "Updating HTML index of packages in '.Library'\n",
      "Making 'packages.html' ... done\n"
     ]
    }
   ],
   "source": [
    "install.packages('doBy')"
   ]
  },
  {
   "cell_type": "code",
   "execution_count": 22,
   "metadata": {},
   "outputs": [
    {
     "data": {
      "text/html": [
       "<table>\n",
       "<thead><tr><th scope=col>gender.fac</th><th scope=col>score_stats.mean</th><th scope=col>score_stats.sd</th><th scope=col>score_stats.min</th><th scope=col>score_stats.max</th></tr></thead>\n",
       "<tbody>\n",
       "\t<tr><td>F       </td><td>73.66667</td><td>3.535534</td><td>69      </td><td>78      </td></tr>\n",
       "\t<tr><td>M       </td><td>75.44444</td><td>3.358240</td><td>71      </td><td>78      </td></tr>\n",
       "</tbody>\n",
       "</table>\n"
      ],
      "text/latex": [
       "\\begin{tabular}{r|lllll}\n",
       " gender.fac & score\\_stats.mean & score\\_stats.sd & score\\_stats.min & score\\_stats.max\\\\\n",
       "\\hline\n",
       "\t F        & 73.66667 & 3.535534 & 69       & 78      \\\\\n",
       "\t M        & 75.44444 & 3.358240 & 71       & 78      \\\\\n",
       "\\end{tabular}\n"
      ],
      "text/markdown": [
       "\n",
       "gender.fac | score_stats.mean | score_stats.sd | score_stats.min | score_stats.max | \n",
       "|---|---|\n",
       "| F        | 73.66667 | 3.535534 | 69       | 78       | \n",
       "| M        | 75.44444 | 3.358240 | 71       | 78       | \n",
       "\n",
       "\n"
      ],
      "text/plain": [
       "  gender.fac score_stats.mean score_stats.sd score_stats.min score_stats.max\n",
       "1 F          73.66667         3.535534       69              78             \n",
       "2 M          75.44444         3.358240       71              78             "
      ]
     },
     "metadata": {},
     "output_type": "display_data"
    }
   ],
   "source": [
    "library(doBy)\n",
    "summaryBy(score_stats ~ gender.fac, data = score.df, FUN = c(mean,sd,min,max))"
   ]
  },
  {
   "cell_type": "code",
   "execution_count": 23,
   "metadata": {},
   "outputs": [
    {
     "data": {
      "text/html": [
       "<table>\n",
       "<thead><tr><th scope=col>class.fac</th><th scope=col>score_stats.mean</th><th scope=col>score_stats.sd</th><th scope=col>score_stats.min</th><th scope=col>score_stats.max</th></tr></thead>\n",
       "<tbody>\n",
       "\t<tr><td>class_1 </td><td>74.33333</td><td>3.669696</td><td>71      </td><td>78      </td></tr>\n",
       "\t<tr><td>class_2 </td><td>74.00000</td><td>4.098780</td><td>69      </td><td>78      </td></tr>\n",
       "\t<tr><td>class_3 </td><td>75.33333</td><td>3.076795</td><td>70      </td><td>78      </td></tr>\n",
       "</tbody>\n",
       "</table>\n"
      ],
      "text/latex": [
       "\\begin{tabular}{r|lllll}\n",
       " class.fac & score\\_stats.mean & score\\_stats.sd & score\\_stats.min & score\\_stats.max\\\\\n",
       "\\hline\n",
       "\t class\\_1 & 74.33333  & 3.669696  & 71        & 78       \\\\\n",
       "\t class\\_2 & 74.00000  & 4.098780  & 69        & 78       \\\\\n",
       "\t class\\_3 & 75.33333  & 3.076795  & 70        & 78       \\\\\n",
       "\\end{tabular}\n"
      ],
      "text/markdown": [
       "\n",
       "class.fac | score_stats.mean | score_stats.sd | score_stats.min | score_stats.max | \n",
       "|---|---|---|\n",
       "| class_1  | 74.33333 | 3.669696 | 71       | 78       | \n",
       "| class_2  | 74.00000 | 4.098780 | 69       | 78       | \n",
       "| class_3  | 75.33333 | 3.076795 | 70       | 78       | \n",
       "\n",
       "\n"
      ],
      "text/plain": [
       "  class.fac score_stats.mean score_stats.sd score_stats.min score_stats.max\n",
       "1 class_1   74.33333         3.669696       71              78             \n",
       "2 class_2   74.00000         4.098780       69              78             \n",
       "3 class_3   75.33333         3.076795       70              78             "
      ]
     },
     "metadata": {},
     "output_type": "display_data"
    }
   ],
   "source": [
    "summaryBy(score_stats ~ class.fac, data = score.df, FUN = c(mean,sd,min,max))"
   ]
  },
  {
   "cell_type": "code",
   "execution_count": 24,
   "metadata": {},
   "outputs": [
    {
     "data": {
      "text/plain": [
       "   Min. 1st Qu.  Median    Mean 3rd Qu.    Max. \n",
       "  69.00   71.00   76.00   74.56   78.00   78.00 "
      ]
     },
     "metadata": {},
     "output_type": "display_data"
    }
   ],
   "source": [
    "summary(score_stats, data = score.df)"
   ]
  },
  {
   "cell_type": "code",
   "execution_count": 27,
   "metadata": {},
   "outputs": [
    {
     "data": {
      "image/png": "[encoded data removed]",
      "text/plain": [
       "Plot with title “interaction effect plot”"
      ]
     },
     "metadata": {},
     "output_type": "display_data"
    }
   ],
   "source": [
    "#boxplot and interaction plot\n",
    "par(mfrow = c(2,2))\n",
    "plot(score_stats ~ gender.fac, main = 'by gender')\n",
    "plot(score_stats ~ class.fac, main = 'by class')\n",
    "interaction.plot(gender.fac, class.fac, score_stats, main = 'interaction effect plot')\n",
    "interaction.plot(class.fac, gender.fac, score_stats, main = 'interaction effect plot')"
   ]
  },
  {
   "cell_type": "code",
   "execution_count": 29,
   "metadata": {},
   "outputs": [
    {
     "data": {
      "text/plain": [
       "                     Df Sum Sq Mean Sq F value Pr(>F)\n",
       "gender.fac            1  14.22  14.222   1.085  0.318\n",
       "class.fac             2   5.78   2.889   0.220  0.805\n",
       "gender.fac:class.fac  2  27.11  13.556   1.034  0.385\n",
       "Residuals            12 157.33  13.111               "
      ]
     },
     "metadata": {},
     "output_type": "display_data"
    }
   ],
   "source": [
    "aov_model = aov(score_stats ~ gender.fac + class.fac + gender.fac:class.fac)\n",
    "summary(aov_model)"
   ]
  },
  {
   "cell_type": "markdown",
   "metadata": {},
   "source": [
    "먼저 교호작용이 있는지 살표보면 성별과 학급별에 따른 교호작용효과에 대한 피 벨류가 유의수준보다 크므로 귀무가설인 성별과 학급 교호작용에 의한 효과는 없다고 판단할 수 있습니다.\n",
    "두번째로 성별에 따른 피벨류는 유의수준보다 크므로 귀무가설인 성별에 따른 차이는 없다고 판단할수 있습니다.\n",
    "세번째로 학급요인에 대해서는 유의수준보다 크므로 귀무가설인 학급별 차이는 없다고 판단 할 수 있습니다.\n",
    "> 만약 차이가 있다고 나온경우 사후검정 (post-hoc comparison)을 진행합니다.\n"
   ]
  }
 ],
 "metadata": {
  "kernelspec": {
   "display_name": "Python 3",
   "language": "python",
   "name": "python3"
  },
  "language_info": {
   "codemirror_mode": {
    "name": "ipython",
    "version": 3
   },
   "file_extension": ".py",
   "mimetype": "text/x-python",
   "name": "python",
   "nbconvert_exporter": "python",
   "pygments_lexer": "ipython3",
   "version": "3.6.3"
  },
  "nikola": {
   "date": "2017-12-10 19:52:05 UTC",
   "slug": "Stats-tutorial",
   "title": "Pandas tutorial"
  }
 },
 "nbformat": 4,
 "nbformat_minor": 2
}
