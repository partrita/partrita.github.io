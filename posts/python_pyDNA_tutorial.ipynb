{
 "cells": [
  {
   "cell_type": "markdown",
   "metadata": {},
   "source": [
    "```bash\n",
    "                 _             \n",
    "                | |            \n",
    " ____  _   _  __| |___   __ ___\n",
    "|  _ \\| | | |/ _  |  _ \\(____ |\n",
    "| |_| | |_| ( (_| | | | / ___ |\n",
    "|  __/ \\__  |\\____|_| |_\\_____|\n",
    "|_|   (____/ \n",
    "\n",
    "```  \n",
    "\n",
    "[Pydna](https://bmcbioinformatics.biomedcentral.com/articles/10.1186/s12859-015-0544-x) 파이썬 패키지는 분자 생물학의 클로닝을 도와줍니다. 제공하는 기능은 다음과 같습니다. \n",
    "\n",
    "- Restriction digestion\n",
    "- Ligation\n",
    "- PCR\n",
    "- Primer design\n",
    "- Gibson assembly\n",
    "- Golden gate assembly\n",
    "- Homologous recombination\n",
    "- Gel electrophoresis of DNA with generation of gel images\n",
    "\n",
    "# PCR simulation\n",
    "하나 예를 들어보겠습니다. 두 가지 PCR을 진행해보려고 합니다 각각 C3, C5라고 이름을 붙였구요. C3는 정상적인 PCR 반응이 가능하고, C5는 Primer에 문제가 있어 PCR이 되지 않습니다."
   ]
  },
  {
   "cell_type": "code",
   "execution_count": 23,
   "metadata": {},
   "outputs": [],
   "source": [
    "# 필요한 pydna 라이브러리를 불러옵니다.\n",
    "import pydna.parsers as parsers\n",
    "from pydna.amplify import pcr"
   ]
  },
  {
   "cell_type": "markdown",
   "metadata": {},
   "source": [
    "## 서열 불러오기\n",
    "\n",
    "> 사용된 서열은 ape 파일로 저장되어 있습니다."
   ]
  },
  {
   "cell_type": "code",
   "execution_count": null,
   "metadata": {},
   "outputs": [],
   "source": [
    "# template template loading\n",
    "C3 = pydna.parsers.parse(\"CEACAM3.ape\", ds=True)\n",
    "C3_F = pydna.parsers.parse_primers(\"C3_F.ape\")\n",
    "C3_R = pydna.parsers.parse_primers(\"C3_R.ape\")"
   ]
  },
  {
   "cell_type": "markdown",
   "metadata": {},
   "source": [
    "## PCR 진행하기"
   ]
  },
  {
   "cell_type": "code",
   "execution_count": 24,
   "metadata": {},
   "outputs": [],
   "source": [
    "# PCR\n",
    "C3_pcr_prod = pcr(C3_F, C3_R, C3)"
   ]
  },
  {
   "cell_type": "markdown",
   "metadata": {},
   "source": [
    "## Agarose gel electrophoresis 결과 예측"
   ]
  },
  {
   "cell_type": "code",
   "execution_count": 25,
   "metadata": {},
   "outputs": [
    {
     "data": {
      "image/png": "[encoded data removed]",
      "text/plain": [
       "<matplotlib.figure.Figure at 0xa2402e8>"
      ]
     },
     "metadata": {},
     "output_type": "display_data"
    }
   ],
   "source": [
    "%matplotlib inline\n",
    "from pydna.gel import weight_standard_sample, Gel\n",
    "\n",
    "st = weight_standard_sample(\"1kb+_GeneRuler\")\n",
    "Gel([st, [C3_pcr_prod]], gel_len=16).run()"
   ]
  },
  {
   "cell_type": "markdown",
   "metadata": {},
   "source": [
    "# PCR 조건 예측\n",
    "\n",
    "일반적인 taq polymerase PCR과 pFu를 사용한 PCR의 조건을 예측해보겠습니다.\n",
    "\n",
    "## 일반 PCR"
   ]
  },
  {
   "cell_type": "code",
   "execution_count": 26,
   "metadata": {},
   "outputs": [
    {
     "name": "stdout",
     "output_type": "stream",
     "text": [
      "\n",
      "Taq (rate 30 nt/s) 35 cycles             |1325bp\n",
      "95.0°C    |95.0°C                 |      |Tm formula: Biopython Tm_NN\n",
      "|_________|_____          72.0°C  |72.0°C|SaltC 50mM\n",
      "| 03min00s|30s  \\         ________|______|Primer1C 1.0µM\n",
      "|         |      \\ 58.6°C/ 0min40s| 5min |Primer2C 1.0µM\n",
      "|         |       \\_____/         |      |GC 54%\n",
      "|         |         30s           |      |4-12°C\n"
     ]
    }
   ],
   "source": [
    "# general PCR\n",
    "print(C3_pcr_prod.program())"
   ]
  },
  {
   "cell_type": "markdown",
   "metadata": {},
   "source": [
    "## Pfu PCR"
   ]
  },
  {
   "cell_type": "code",
   "execution_count": 27,
   "metadata": {},
   "outputs": [
    {
     "name": "stdout",
     "output_type": "stream",
     "text": [
      "\n",
      "Pfu-Sso7d (rate 15s/kb)                 |1325bp\n",
      "Three-step|          30 cycles   |      |Tm formula: Pydna tmbresluc\n",
      "98.0°C    |98.0°C                |      |SaltC 50mM\n",
      "__________|_____          72.0°C |72.0°C|Primer1C 1.0µM\n",
      "00min30s  |10s  \\ 58.0°C ________|______|Primer2C 1.0µM\n",
      "          |      \\______/ 0min19s|10min |GC 54%\n",
      "          |        10s           |      |4-12°C\n",
      "\n"
     ]
    }
   ],
   "source": [
    "# Pfu PCR\n",
    "print(C3_pcr_prod.dbd_program())"
   ]
  },
  {
   "cell_type": "markdown",
   "metadata": {},
   "source": [
    "# Primer anealing 예측\n",
    "Primer가 template DNA에 어떻게 붙는지를 예상해보겠습니다."
   ]
  },
  {
   "cell_type": "code",
   "execution_count": 28,
   "metadata": {},
   "outputs": [
    {
     "name": "stdout",
     "output_type": "stream",
     "text": [
      "         5ATGGGGCCCCCCTTGGC...AAAGGAGATGTGGCTTCT3\n",
      "                              |||||||||||||||||| tm 53.9 (dbd) 58.1\n",
      "                             3TTTCCTCTACACCGAAGATGCAGCTG5\n",
      "5GACAAGCCTATGGGGCCCCCCTTGGC3\n",
      "          ||||||||||||||||| tm 65.9 (dbd) 75.1\n",
      "         3TACCCCGGGGGGAACCG...TTTCCTCTACACCGAAGA5\n"
     ]
    }
   ],
   "source": [
    "# anealing results\n",
    "print(C3_pcr_prod.figure())"
   ]
  },
  {
   "cell_type": "markdown",
   "metadata": {},
   "source": [
    "추가적으로 C5에 대한 Anealing을 예측해보겠습니다."
   ]
  },
  {
   "cell_type": "code",
   "execution_count": 29,
   "metadata": {},
   "outputs": [
    {
     "ename": "Exception",
     "evalue": "No PCR products! Template CEACAM5 2118 nt linear:\nPrimer New_DNA anneals forward at position 18\n\nNo reverse primers anneal...",
     "output_type": "error",
     "traceback": [
      "\u001b[0;31m---------------------------------------------------------------------------\u001b[0m",
      "\u001b[0;31mException\u001b[0m                                 Traceback (most recent call last)",
      "\u001b[0;32m<ipython-input-29-2ab9477161e8>\u001b[0m in \u001b[0;36m<module>\u001b[0;34m()\u001b[0m\n\u001b[1;32m      3\u001b[0m \u001b[0mC5_F\u001b[0m \u001b[1;33m=\u001b[0m \u001b[0mparsers\u001b[0m\u001b[1;33m.\u001b[0m\u001b[0mparse_primers\u001b[0m\u001b[1;33m(\u001b[0m\u001b[1;34m'Cyno_C5-F.ape'\u001b[0m\u001b[1;33m)\u001b[0m\u001b[1;33m\u001b[0m\u001b[0m\n\u001b[1;32m      4\u001b[0m \u001b[0mC5_R\u001b[0m \u001b[1;33m=\u001b[0m \u001b[0mparsers\u001b[0m\u001b[1;33m.\u001b[0m\u001b[0mparse_primers\u001b[0m\u001b[1;33m(\u001b[0m\u001b[1;34m'Cyno_C5-R.ape'\u001b[0m\u001b[1;33m)\u001b[0m\u001b[1;33m\u001b[0m\u001b[0m\n\u001b[0;32m----> 5\u001b[0;31m \u001b[0mC5_pcr_prod\u001b[0m \u001b[1;33m=\u001b[0m \u001b[0mpcr\u001b[0m\u001b[1;33m(\u001b[0m\u001b[0mC5_F\u001b[0m\u001b[1;33m,\u001b[0m\u001b[0mC5_R\u001b[0m\u001b[1;33m,\u001b[0m\u001b[0mC5\u001b[0m\u001b[1;33m)\u001b[0m\u001b[1;33m\u001b[0m\u001b[0m\n\u001b[0m",
      "\u001b[0;32mC:\\python\\envs\\py3\\lib\\site-packages\\pydna-2.0.2-py3.5.egg\\pydna\\amplify.py\u001b[0m in \u001b[0;36mpcr\u001b[0;34m(*args, **kwargs)\u001b[0m\n\u001b[1;32m    451\u001b[0m             \u001b[1;32mreturn\u001b[0m \u001b[0manneal_primers\u001b[0m\u001b[1;33m.\u001b[0m\u001b[0mproducts\u001b[0m\u001b[1;33m[\u001b[0m\u001b[1;36m0\u001b[0m\u001b[1;33m]\u001b[0m\u001b[1;33m\u001b[0m\u001b[0m\n\u001b[1;32m    452\u001b[0m         \u001b[1;32melif\u001b[0m \u001b[0mlen\u001b[0m\u001b[1;33m(\u001b[0m\u001b[0manneal_primers\u001b[0m\u001b[1;33m.\u001b[0m\u001b[0mproducts\u001b[0m\u001b[1;33m)\u001b[0m \u001b[1;33m==\u001b[0m \u001b[1;36m0\u001b[0m\u001b[1;33m:\u001b[0m\u001b[1;33m\u001b[0m\u001b[0m\n\u001b[0;32m--> 453\u001b[0;31m             \u001b[1;32mraise\u001b[0m \u001b[0mException\u001b[0m\u001b[1;33m(\u001b[0m\u001b[1;34m\"No PCR products! {}\"\u001b[0m\u001b[1;33m.\u001b[0m\u001b[0mformat\u001b[0m\u001b[1;33m(\u001b[0m\u001b[0manneal_primers\u001b[0m\u001b[1;33m.\u001b[0m\u001b[0mreport\u001b[0m\u001b[1;33m(\u001b[0m\u001b[1;33m)\u001b[0m\u001b[1;33m)\u001b[0m\u001b[1;33m)\u001b[0m\u001b[1;33m\u001b[0m\u001b[0m\n\u001b[0m\u001b[1;32m    454\u001b[0m         \u001b[1;32melse\u001b[0m\u001b[1;33m:\u001b[0m\u001b[1;33m\u001b[0m\u001b[0m\n\u001b[1;32m    455\u001b[0m             \u001b[1;32mraise\u001b[0m \u001b[0mException\u001b[0m\u001b[1;33m(\u001b[0m\u001b[1;34m\"PCR not specific! {}\"\u001b[0m\u001b[1;33m.\u001b[0m\u001b[0mformat\u001b[0m\u001b[1;33m(\u001b[0m\u001b[0manneal_primers\u001b[0m\u001b[1;33m.\u001b[0m\u001b[0mreport\u001b[0m\u001b[1;33m(\u001b[0m\u001b[1;33m)\u001b[0m\u001b[1;33m)\u001b[0m\u001b[1;33m)\u001b[0m\u001b[1;33m\u001b[0m\u001b[0m\n",
      "\u001b[0;31mException\u001b[0m: No PCR products! Template CEACAM5 2118 nt linear:\nPrimer New_DNA anneals forward at position 18\n\nNo reverse primers anneal..."
     ]
    }
   ],
   "source": [
    "# C5 PCR\n",
    "C5 = parsers.parse(\"CEACAM5.ape\", ds=True)\n",
    "C5_F = parsers.parse_primers(\"Cyno_C5-F.ape\")\n",
    "C5_R = parsers.parse_primers(\"Cyno_C5-R.ape\")\n",
    "C5_pcr_prod = pcr(C5_F, C5_R, C5)"
   ]
  },
  {
   "cell_type": "markdown",
   "metadata": {},
   "source": [
    "이런 에러가 나는군요. \n",
    "> No reverse primers anneal...   \n",
    "\n",
    "사용된 reverse primer가 잘못되었기 때문입니다.\n",
    "\n",
    "# 마치며\n",
    "\n",
    "위에서 살펴본 기능들은 다른 상용 프로그램에서 쉽게 사용할 수 있는것들입니다. 그럼에도 불구하고 **pydna**가 가지는 강점은 자동화가 쉽다는데 있습니다. 수백개의 클로닝을 진행해야 할때는 마우스클릭만으로는 어렵기 때문입니다. 또한 [공식문서](https://pydna.readthedocs.io/index.html)를 참고 하시면 더 다양한 기능을 사용할 수 있습니다.\n",
    "\n"
   ]
  }
 ],
 "metadata": {
  "kernelspec": {
   "display_name": "Python 3",
   "language": "python",
   "name": "python3"
  },
  "language_info": {
   "codemirror_mode": {
    "name": "ipython",
    "version": 3
   },
   "file_extension": ".py",
   "mimetype": "text/x-python",
   "name": "python",
   "nbconvert_exporter": "python",
   "pygments_lexer": "ipython3",
   "version": "3.7.1"
  },
  "nikola": {
   "category": "learn",
   "date": "2018-12-19 18:07:20 UTC+09:00",
   "description": "",
   "link": "",
   "slug": "pydna",
   "tags": "Bioinformatics",
   "title": "Cloning_with_pyDNA",
   "type": "text"
  }
 },
 "nbformat": 4,
 "nbformat_minor": 2
}
