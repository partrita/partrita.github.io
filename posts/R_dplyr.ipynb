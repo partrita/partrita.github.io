{
 "cells": [
  {
   "cell_type": "markdown",
   "metadata": {},
   "source": [
    "# 0. 시작하기 앞서\n",
    "\n",
    "이 글은 [Data Carpentry for data analysis](http://www.datacarpentry.org/R-ecology-lesson/)을 공부하고 정리한 것입니다. 목표는 프로그래밍 경험이 없는 과학자들이 **R**을 가지고 작업하는데 필요한 기본적인 개념, 기술, 사용법을 가르치는데 있습니다.간략한 목차는 다음과 같습니다. \n",
    "\n",
    "- R 기초 문법\n",
    "- CSV 파일 불러오는 방법과 데이터프레임 구조\n",
    "- 요인 처리방법, 행과 열 추가/삭제\n",
    "- 요약 통계 계산법, 시각화에 대한 간단한 소개\n",
    "\n",
    "# 1. R 소개\n",
    "\n",
    "## 1.1. 객체 만들기\n",
    "R에서는 다음과 같이 객체를 생성합니다."
   ]
  },
  {
   "cell_type": "code",
   "execution_count": 3,
   "metadata": {},
   "outputs": [
    {
     "data": {
      "text/html": [
       "0.931372549019608"
      ],
      "text/latex": [
       "0.931372549019608"
      ],
      "text/markdown": [
       "0.931372549019608"
      ],
      "text/plain": [
       "[1] 0.9313725"
      ]
     },
     "metadata": {},
     "output_type": "display_data"
    }
   ],
   "source": [
    "mass <- 47.5            # mass?\n",
    "age  <- 122             # age?\n",
    "mass <- mass * 2.0      # mass?\n",
    "age  <- age - 20        # age?\n",
    "mass_index <- mass/age  # mass_index?\n",
    "mass_index"
   ]
  },
  {
   "cell_type": "markdown",
   "metadata": {},
   "source": [
    "## 1.2. 벡터와 자료형\n",
    "벡터는 R에서 가장 기본적인 자료구조입니다. 예를 들어, 다음과 같이 벡터를 생성할 수 있습니다."
   ]
  },
  {
   "cell_type": "code",
   "execution_count": 2,
   "metadata": {},
   "outputs": [
    {
     "data": {
      "text/html": [
       "<ol class=list-inline>\n",
       "\t<li>'1'</li>\n",
       "\t<li>'2'</li>\n",
       "\t<li>'3'</li>\n",
       "\t<li>'a'</li>\n",
       "</ol>\n"
      ],
      "text/latex": [
       "\\begin{enumerate*}\n",
       "\\item '1'\n",
       "\\item '2'\n",
       "\\item '3'\n",
       "\\item 'a'\n",
       "\\end{enumerate*}\n"
      ],
      "text/markdown": [
       "1. '1'\n",
       "2. '2'\n",
       "3. '3'\n",
       "4. 'a'\n",
       "\n",
       "\n"
      ],
      "text/plain": [
       "[1] \"1\" \"2\" \"3\" \"a\""
      ]
     },
     "metadata": {},
     "output_type": "display_data"
    }
   ],
   "source": [
    "num_char <- c(1, 2, 3, 'a')\n",
    "num_logical <- c(1, 2, 3, TRUE)\n",
    "char_logical <- c('a', 'b', 'c', TRUE)\n",
    "tricky <- c(1, 2, 3, '4')\n",
    "num_char # 벡터값 확인하기"
   ]
  },
  {
   "cell_type": "markdown",
   "metadata": {},
   "source": [
    "### 1.2.1. 벡터 부분집합 뽑아내기\n",
    "벡터에서 값을 하나 혹은 다수 값을 추출하려면, 꺾쇠 괄호 내부에 인덱스를 넣어 줍니다."
   ]
  },
  {
   "cell_type": "code",
   "execution_count": 3,
   "metadata": {},
   "outputs": [
    {
     "data": {
      "text/html": [
       "'rat'"
      ],
      "text/latex": [
       "'rat'"
      ],
      "text/markdown": [
       "'rat'"
      ],
      "text/plain": [
       "[1] \"rat\""
      ]
     },
     "metadata": {},
     "output_type": "display_data"
    }
   ],
   "source": [
    "animals <- c(\"mouse\", \"rat\", \"dog\", \"cat\")\n",
    "animals[2]"
   ]
  },
  {
   "cell_type": "markdown",
   "metadata": {},
   "source": [
    "# 2. 데이터 불러오기\n",
    "\n",
    "- 외부 데이터(CSV 파일)를 불러와\n",
    "- R에서 데이터프레임 구조와 내용물을 탐색해 봅니다.\n",
    "\n",
    "R함수 `download.file()`를 사용해서 **CSV**파일을 다운로드합니다. 그리고 `read.csv()`기능을 이용해 파일을 불러오겠습니다. 아래의 명령어를 실행해 파일을 다운로드 하세요. \n",
    "\n",
    "```r\n",
    "download.file(\"https://ndownloader.figshare.com/files/2292169\",\n",
    "              \"portal_data_joined.csv\")\n",
    "```\n",
    "\n",
    "그런다음 파일을 읽어오도록 하겠습니다."
   ]
  },
  {
   "cell_type": "code",
   "execution_count": 4,
   "metadata": {},
   "outputs": [
    {
     "data": {
      "text/html": [
       "<table>\n",
       "<thead><tr><th scope=col>record_id</th><th scope=col>month</th><th scope=col>day</th><th scope=col>year</th><th scope=col>plot_id</th><th scope=col>species_id</th><th scope=col>sex</th><th scope=col>hindfoot_length</th><th scope=col>weight</th><th scope=col>genus</th><th scope=col>species</th><th scope=col>taxa</th><th scope=col>plot_type</th></tr></thead>\n",
       "<tbody>\n",
       "\t<tr><td>  1     </td><td> 7      </td><td>16      </td><td>1977    </td><td>2       </td><td>NL      </td><td>M       </td><td>32      </td><td>NA      </td><td>Neotoma </td><td>albigula</td><td>Rodent  </td><td>Control </td></tr>\n",
       "\t<tr><td> 72     </td><td> 8      </td><td>19      </td><td>1977    </td><td>2       </td><td>NL      </td><td>M       </td><td>31      </td><td>NA      </td><td>Neotoma </td><td>albigula</td><td>Rodent  </td><td>Control </td></tr>\n",
       "\t<tr><td>224     </td><td> 9      </td><td>13      </td><td>1977    </td><td>2       </td><td>NL      </td><td>        </td><td>NA      </td><td>NA      </td><td>Neotoma </td><td>albigula</td><td>Rodent  </td><td>Control </td></tr>\n",
       "\t<tr><td>266     </td><td>10      </td><td>16      </td><td>1977    </td><td>2       </td><td>NL      </td><td>        </td><td>NA      </td><td>NA      </td><td>Neotoma </td><td>albigula</td><td>Rodent  </td><td>Control </td></tr>\n",
       "\t<tr><td>349     </td><td>11      </td><td>12      </td><td>1977    </td><td>2       </td><td>NL      </td><td>        </td><td>NA      </td><td>NA      </td><td>Neotoma </td><td>albigula</td><td>Rodent  </td><td>Control </td></tr>\n",
       "\t<tr><td>363     </td><td>11      </td><td>12      </td><td>1977    </td><td>2       </td><td>NL      </td><td>        </td><td>NA      </td><td>NA      </td><td>Neotoma </td><td>albigula</td><td>Rodent  </td><td>Control </td></tr>\n",
       "</tbody>\n",
       "</table>\n"
      ],
      "text/latex": [
       "\\begin{tabular}{r|lllllllllllll}\n",
       " record\\_id & month & day & year & plot\\_id & species\\_id & sex & hindfoot\\_length & weight & genus & species & taxa & plot\\_type\\\\\n",
       "\\hline\n",
       "\t   1      &  7       & 16       & 1977     & 2        & NL       & M        & 32       & NA       & Neotoma  & albigula & Rodent   & Control \\\\\n",
       "\t  72      &  8       & 19       & 1977     & 2        & NL       & M        & 31       & NA       & Neotoma  & albigula & Rodent   & Control \\\\\n",
       "\t 224      &  9       & 13       & 1977     & 2        & NL       &          & NA       & NA       & Neotoma  & albigula & Rodent   & Control \\\\\n",
       "\t 266      & 10       & 16       & 1977     & 2        & NL       &          & NA       & NA       & Neotoma  & albigula & Rodent   & Control \\\\\n",
       "\t 349      & 11       & 12       & 1977     & 2        & NL       &          & NA       & NA       & Neotoma  & albigula & Rodent   & Control \\\\\n",
       "\t 363      & 11       & 12       & 1977     & 2        & NL       &          & NA       & NA       & Neotoma  & albigula & Rodent   & Control \\\\\n",
       "\\end{tabular}\n"
      ],
      "text/markdown": [
       "\n",
       "record_id | month | day | year | plot_id | species_id | sex | hindfoot_length | weight | genus | species | taxa | plot_type | \n",
       "|---|---|---|---|---|---|\n",
       "|   1      |  7       | 16       | 1977     | 2        | NL       | M        | 32       | NA       | Neotoma  | albigula | Rodent   | Control  | \n",
       "|  72      |  8       | 19       | 1977     | 2        | NL       | M        | 31       | NA       | Neotoma  | albigula | Rodent   | Control  | \n",
       "| 224      |  9       | 13       | 1977     | 2        | NL       |          | NA       | NA       | Neotoma  | albigula | Rodent   | Control  | \n",
       "| 266      | 10       | 16       | 1977     | 2        | NL       |          | NA       | NA       | Neotoma  | albigula | Rodent   | Control  | \n",
       "| 349      | 11       | 12       | 1977     | 2        | NL       |          | NA       | NA       | Neotoma  | albigula | Rodent   | Control  | \n",
       "| 363      | 11       | 12       | 1977     | 2        | NL       |          | NA       | NA       | Neotoma  | albigula | Rodent   | Control  | \n",
       "\n",
       "\n"
      ],
      "text/plain": [
       "  record_id month day year plot_id species_id sex hindfoot_length weight\n",
       "1   1        7    16  1977 2       NL         M   32              NA    \n",
       "2  72        8    19  1977 2       NL         M   31              NA    \n",
       "3 224        9    13  1977 2       NL             NA              NA    \n",
       "4 266       10    16  1977 2       NL             NA              NA    \n",
       "5 349       11    12  1977 2       NL             NA              NA    \n",
       "6 363       11    12  1977 2       NL             NA              NA    \n",
       "  genus   species  taxa   plot_type\n",
       "1 Neotoma albigula Rodent Control  \n",
       "2 Neotoma albigula Rodent Control  \n",
       "3 Neotoma albigula Rodent Control  \n",
       "4 Neotoma albigula Rodent Control  \n",
       "5 Neotoma albigula Rodent Control  \n",
       "6 Neotoma albigula Rodent Control  "
      ]
     },
     "metadata": {},
     "output_type": "display_data"
    }
   ],
   "source": [
    "surveys <- read.csv('portal_data_joined.csv')\n",
    "head(surveys) # 파일 확인하기"
   ]
  },
  {
   "cell_type": "markdown",
   "metadata": {},
   "source": [
    "## 2.1. Dataframe\n",
    "Dataframe은 엑셀의 테이블을 생각하시면 됩니다. 각각의 행이 백터로 구성되고 모여서 테이블 형태로 표현한 것입니다. `str()` 함수를 사용하면 각각의 행이 어떠한 자료형인지 확인 할 수 있습니다."
   ]
  },
  {
   "cell_type": "code",
   "execution_count": 8,
   "metadata": {
    "scrolled": true
   },
   "outputs": [
    {
     "name": "stdout",
     "output_type": "stream",
     "text": [
      "'data.frame':\t34786 obs. of  13 variables:\n",
      " $ record_id      : int  1 72 224 266 349 363 435 506 588 661 ...\n",
      " $ month          : int  7 8 9 10 11 11 12 1 2 3 ...\n",
      " $ day            : int  16 19 13 16 12 12 10 8 18 11 ...\n",
      " $ year           : int  1977 1977 1977 1977 1977 1977 1977 1978 1978 1978 ...\n",
      " $ plot_id        : int  2 2 2 2 2 2 2 2 2 2 ...\n",
      " $ species_id     : Factor w/ 48 levels \"AB\",\"AH\",\"AS\",..: 16 16 16 16 16 16 16 16 16 16 ...\n",
      " $ sex            : Factor w/ 3 levels \"\",\"F\",\"M\": 3 3 1 1 1 1 1 1 3 1 ...\n",
      " $ hindfoot_length: int  32 31 NA NA NA NA NA NA NA NA ...\n",
      " $ weight         : int  NA NA NA NA NA NA NA NA 218 NA ...\n",
      " $ genus          : Factor w/ 26 levels \"Ammodramus\",\"Ammospermophilus\",..: 13 13 13 13 13 13 13 13 13 13 ...\n",
      " $ species        : Factor w/ 40 levels \"albigula\",\"audubonii\",..: 1 1 1 1 1 1 1 1 1 1 ...\n",
      " $ taxa           : Factor w/ 4 levels \"Bird\",\"Rabbit\",..: 4 4 4 4 4 4 4 4 4 4 ...\n",
      " $ plot_type      : Factor w/ 5 levels \"Control\",\"Long-term Krat Exclosure\",..: 1 1 1 1 1 1 1 1 1 1 ...\n"
     ]
    }
   ],
   "source": [
    "str(surveys)"
   ]
  },
  {
   "cell_type": "markdown",
   "metadata": {},
   "source": [
    "위 결과에서 볼 수 있듯이, 다수 칼럼은 정수형 벡터로 구성되지만, species 와 sex는 요인(factor)으로 불리는 특수한 클래스로 입니다. 데이터프레임 클래스에 대해 추가적인 내용을 알아 보기 전에, 요인에 대해 먼저 살펴보겠습니다. \n",
    "\n",
    "## 2.2. 요인(Factors)\n",
    "\n",
    "범주형 데이터를 표현할때 사용됩니다. 요인은 순서가 있거나 순서가 없는 것으로 구분되는데, 이를 정확히 이해하는 것이 통계분석과 시각화에 필요합니다. \n",
    "\n",
    "> 요인은 정수형으로 저장되고, 유일무이한 정수값과 연관된 표식이 붙여진다. 요인은 마치 문자형 벡터처럼 보이고 흔히 그렇게 동작하지만, 실제로 내부를 들여다 보면 정수값이다. 그래서 주의가 요구된다.\n",
    "\n",
    "요인형 벡터를 생성시키게 되면, 요인벡터에는 수준(level)으로 미리 정의된 값이 집합으로 담겨집니다. 기본 설정으로은 알파벳 순으로 정렬이 됩니다. 예를 들어, 수준 2개를 갖는 요인이 있다고 가정하면:"
   ]
  },
  {
   "cell_type": "code",
   "execution_count": 5,
   "metadata": {},
   "outputs": [],
   "source": [
    "sex <- factor(c(\"male\", \"female\", \"female\", \"male\"))"
   ]
  },
  {
   "cell_type": "markdown",
   "metadata": {},
   "source": [
    "R은 정수 1을 \"female\" 수준, 정수 2를 \"male\" 수준에 대입한다. 벡터 첫번째 원소로 \"male\"이 왔지만, 알파벳순으로 보면 f가 m보다 순서가 앞서기 때문이다. `levels()` 함수를 사용해서 이런 사실을 확인할 수 있고, `nlevels()` 함수를 사용해서 수준 갯수도 확인할 수 있습니다:"
   ]
  },
  {
   "cell_type": "code",
   "execution_count": 6,
   "metadata": {},
   "outputs": [
    {
     "data": {
      "text/html": [
       "<ol class=list-inline>\n",
       "\t<li>'female'</li>\n",
       "\t<li>'male'</li>\n",
       "</ol>\n"
      ],
      "text/latex": [
       "\\begin{enumerate*}\n",
       "\\item 'female'\n",
       "\\item 'male'\n",
       "\\end{enumerate*}\n"
      ],
      "text/markdown": [
       "1. 'female'\n",
       "2. 'male'\n",
       "\n",
       "\n"
      ],
      "text/plain": [
       "[1] \"female\" \"male\"  "
      ]
     },
     "metadata": {},
     "output_type": "display_data"
    }
   ],
   "source": [
    "levels(sex)"
   ]
  },
  {
   "cell_type": "code",
   "execution_count": 7,
   "metadata": {},
   "outputs": [
    {
     "data": {
      "text/html": [
       "2"
      ],
      "text/latex": [
       "2"
      ],
      "text/markdown": [
       "2"
      ],
      "text/plain": [
       "[1] 2"
      ]
     },
     "metadata": {},
     "output_type": "display_data"
    }
   ],
   "source": [
    "nlevels(sex)"
   ]
  },
  {
   "cell_type": "markdown",
   "metadata": {},
   "source": [
    "## 2.2. 요인 자료형 변경\n",
    "\n",
    "1. 요인 벡터를 문자형 벡터로 변경시킬 때는 `as.character()` 함수를 사용합니다.\n",
    "2. 요인 벡터를 숫자형 벡터로 변경시키는 것 `as.numeric()`을 사용하는데 두가지 방법이 있습니다. \n",
    "    * 문자형으로 바꾸고나서 다시 숫자로 전환시키거나 \n",
    "    * 또다른 방법은 `levels()` 함수를 사용하는 것입니다."
   ]
  },
  {
   "cell_type": "code",
   "execution_count": 10,
   "metadata": {},
   "outputs": [
    {
     "data": {
      "text/html": [
       "<ol class=list-inline>\n",
       "\t<li>'1'</li>\n",
       "\t<li>'5'</li>\n",
       "\t<li>'10'</li>\n",
       "\t<li>'2'</li>\n",
       "</ol>\n"
      ],
      "text/latex": [
       "\\begin{enumerate*}\n",
       "\\item '1'\n",
       "\\item '5'\n",
       "\\item '10'\n",
       "\\item '2'\n",
       "\\end{enumerate*}\n"
      ],
      "text/markdown": [
       "1. '1'\n",
       "2. '5'\n",
       "3. '10'\n",
       "4. '2'\n",
       "\n",
       "\n"
      ],
      "text/plain": [
       "[1] \"1\"  \"5\"  \"10\" \"2\" "
      ]
     },
     "metadata": {},
     "output_type": "display_data"
    }
   ],
   "source": [
    "f <- factor(c(1, 5, 10, 2))\n",
    "f2 <- as.character(f)\n",
    "f2"
   ]
  },
  {
   "cell_type": "code",
   "execution_count": 11,
   "metadata": {},
   "outputs": [
    {
     "data": {
      "text/html": [
       "<ol class=list-inline>\n",
       "\t<li>1</li>\n",
       "\t<li>5</li>\n",
       "\t<li>10</li>\n",
       "\t<li>2</li>\n",
       "</ol>\n"
      ],
      "text/latex": [
       "\\begin{enumerate*}\n",
       "\\item 1\n",
       "\\item 5\n",
       "\\item 10\n",
       "\\item 2\n",
       "\\end{enumerate*}\n"
      ],
      "text/markdown": [
       "1. 1\n",
       "2. 5\n",
       "3. 10\n",
       "4. 2\n",
       "\n",
       "\n"
      ],
      "text/plain": [
       "[1]  1  5 10  2"
      ]
     },
     "metadata": {},
     "output_type": "display_data"
    }
   ],
   "source": [
    "as.numeric(f2)"
   ]
  },
  {
   "cell_type": "code",
   "execution_count": 10,
   "metadata": {},
   "outputs": [
    {
     "data": {
      "text/html": [
       "<ol class=list-inline>\n",
       "\t<li>1</li>\n",
       "\t<li>5</li>\n",
       "\t<li>10</li>\n",
       "\t<li>2</li>\n",
       "</ol>\n"
      ],
      "text/latex": [
       "\\begin{enumerate*}\n",
       "\\item 1\n",
       "\\item 5\n",
       "\\item 10\n",
       "\\item 2\n",
       "\\end{enumerate*}\n"
      ],
      "text/markdown": [
       "1. 1\n",
       "2. 5\n",
       "3. 10\n",
       "4. 2\n",
       "\n",
       "\n"
      ],
      "text/plain": [
       "[1]  1  5 10  2"
      ]
     },
     "metadata": {},
     "output_type": "display_data"
    }
   ],
   "source": [
    "as.numeric(levels(f))[f]    "
   ]
  },
  {
   "cell_type": "markdown",
   "metadata": {},
   "source": [
    "`levels()` 방법을 사용하면 아래 세가지 절차가 내부적으로 실행됩니다.\n",
    "1. `levels(f)`를 실행시켜 요인에 대한 모든 수준을 얻어온다.\n",
    "2. `as.numeric(levels(f))`을 실행시켜 앞서 받아온 수준을 숫자값으로 전환시킨다.\n",
    "3. 그리고 나서, 꺾쇠 괄호 내부 f 벡터 정수값을 사용해서 숫자값에 접근한다.\n",
    "\n"
   ]
  },
  {
   "cell_type": "markdown",
   "metadata": {},
   "source": [
    "# 3. Dataframe 설명\n",
    "\n",
    "앞서 알아본 Dataframe에 대하여 자세히 알아 보겠습니다. \n",
    "\n",
    "## 3.1. 데이터프레임은 무엇인가?\n",
    "\n",
    "데이터프레임(dataframe)은 가장 대중적인 표형식 데이터에 대한 **사실상 표준(de facto)** 으로, 통계 및 시각화에 활용하는 자료구조입니다. 동일한 길이를 갖는 벡터 집합이며, 벡터 각각은 행을 표현하지만 각 벡터는 서로 다른 자료형이 될 수 있다(예를 들어, 문자형, 정수형, 요인형). 우리는 앞에서  `str()` 함수를 사용해서 각 칼럼별 자료형을 조사했었습니다. 데이터프레임은 일일이 생성할 수도 있지만, 일반적으로 ead.csv() 혹은 read.table() 함수로 만들어 냅니다.\n",
    "\n",
    "기본 설정으로 데이터프레임이 생성될때 문자열이 담긴 행은 요인(factor) 자료형으로 변환됩니다. 따라서 작업하려는 의도에 따라 문자형(character)으로 칼럼을 그대로 두고자 하는 경우에는 **stringsAsFactors = FALSE**로 설정하면 요인형이 아닌 문자형 그대로 사용할 수 있습니다."
   ]
  },
  {
   "cell_type": "code",
   "execution_count": 13,
   "metadata": {},
   "outputs": [
    {
     "name": "stdout",
     "output_type": "stream",
     "text": [
      "'data.frame':\t4 obs. of  3 variables:\n",
      " $ animal: chr  \"dog\" \"cat\" \"sea cucumber\" \"sea urchin\"\n",
      " $ feel  : chr  \"furry\" \"furry\" \"squishy\" \"spiny\"\n",
      " $ weight: num  45 8 1.1 0.8\n"
     ]
    }
   ],
   "source": [
    "example_data <- data.frame(animal=c(\"dog\", \"cat\", \"sea cucumber\", \"sea urchin\"),\n",
    "                           feel=c(\"furry\", \"furry\", \"squishy\", \"spiny\"),\n",
    "                           weight=c(45, 8, 1.1, 0.8),\n",
    "                           stringsAsFactors = FALSE)\n",
    "str(example_data)"
   ]
  },
  {
   "cell_type": "markdown",
   "metadata": {},
   "source": [
    "## 3.2. Dataframe 살펴보기\n",
    "\n",
    "`head()`와 `str()` 함수를 사용해서 Dataframe 구조와 내용물을 살펴볼수 있습니다. 그 외에도 아래와 같이 유용한 명령어가 존재 합니다. \n",
    "\n",
    "- 데이터프레임 크기:\n",
    "    + dim() - 첫번째 원소는 행의 갯수, 두번째 원소는 열의 갯수를 갖는 벡터를 반환 (객체에 대한 차원, dimensions)\n",
    "    + nrow() - 행 갯수를 반환\n",
    "    + ncol() - 열 갯수를 반환\n",
    "- 콘텐츠/내용:\n",
    "    + head() - 첫번째 5 행\n",
    "    + tail() - 마지막 5 행\n",
    "- 명칭:\n",
    "    + names() - 데이터프레임의 칼럼명을 반환(data.frame 객체에 대한 colnames()과 동의어)\n",
    "    + rownames() - 행명칭을 반환\n",
    "- 요약:\n",
    "    + str() - 객체의 구조와 클래스, 길이, 각 칼럼별 내용에 대한 정보를 제공 structure of the object and information about the class, length and content of each column\n",
    "    + summary() - 각 칼럼별 요약 통계량\n"
   ]
  },
  {
   "cell_type": "code",
   "execution_count": 15,
   "metadata": {},
   "outputs": [
    {
     "data": {
      "text/plain": [
       "          animal       feel       weight      \n",
       " cat         :1   furry  :2   Min.   : 0.800  \n",
       " dog         :1   spiny  :1   1st Qu.: 1.025  \n",
       " sea cucumber:1   squishy:1   Median : 4.550  \n",
       " sea urchin  :1               Mean   :13.725  \n",
       "                              3rd Qu.:17.250  \n",
       "                              Max.   :45.000  "
      ]
     },
     "metadata": {},
     "output_type": "display_data"
    }
   ],
   "source": [
    "summary(example_data)"
   ]
  },
  {
   "cell_type": "markdown",
   "metadata": {},
   "source": [
    "# 4. dplyr로 데이터 편집과 분석하기\n",
    "\n",
    "## 4.1. dplyr 설명\n",
    "\n",
    "`dplyr` 패키지에는 흔히 데이터를 조작하는데 필요한 도구가 포함되어 있습니다. dplyr 패키지는 그전에 폭넓게 사용된 plyr 패키지에서 영감을 받았는데, plyr 팩키지는 속도가 떨어지는 성능문제가 있었습니다. 하지만 dplyr은 연산의 상당부분을 **C++** 을 이용해 연산 속도가 매우 빠릅니다. dplyr에 대해 더 많이 배우고자 하는 경우, [dplyr cheatsheet](http://www.rstudio.com/wp-content/uploads/2015/02/data-wrangling-cheatsheet.pdf)를 참조하세요.\n",
    "\n",
    "## 4.2. dplyr 패키지를 활용한 데이터 편집\n",
    "dplyr은 데이터조작을 더 쉽고 데이터 분석을 즐겁도록 개발되었습니다. 아래의 방법으로 설치하고 불러옵니다.\n",
    "```R\n",
    "install.packages(\"dplyr\")\n",
    "library(\"dplyr\")    ## 팩키지 불러오기\n",
    "```\n",
    "\n",
    "## 4.3. 행을 뽑아내고 필터링한다.\n",
    "\n",
    "dplyr 함수중에서 가장 활용도가 높은 `select()`, `filter()`, `mutate()`, `summarize()`함수를 학습하겠습니다.  \n",
    "먼저 데이터에서 행을 뽑아낼 때 `select()`를 사용합니다. `select()` 함수에 넣은 첫번째 인자는 데이터프레임(surveys), 그리고 후속 인자는 뽑아낼 행이 들어간다."
   ]
  },
  {
   "cell_type": "code",
   "execution_count": 19,
   "metadata": {},
   "outputs": [
    {
     "data": {
      "text/html": [
       "<table>\n",
       "<thead><tr><th></th><th scope=col>plot_id</th><th scope=col>species_id</th><th scope=col>weight</th></tr></thead>\n",
       "<tbody>\n",
       "\t<tr><th scope=row>35544</th><td>15</td><td>US</td><td>NA</td></tr>\n",
       "\t<tr><th scope=row>35545</th><td>15</td><td>AH</td><td>NA</td></tr>\n",
       "\t<tr><th scope=row>35546</th><td>15</td><td>AH</td><td>NA</td></tr>\n",
       "\t<tr><th scope=row>35547</th><td>10</td><td>RM</td><td>14</td></tr>\n",
       "\t<tr><th scope=row>35548</th><td> 7</td><td>DO</td><td>51</td></tr>\n",
       "\t<tr><th scope=row>35549</th><td> 5</td><td>  </td><td>NA</td></tr>\n",
       "</tbody>\n",
       "</table>\n"
      ],
      "text/latex": [
       "\\begin{tabular}{r|lll}\n",
       "  & plot\\_id & species\\_id & weight\\\\\n",
       "\\hline\n",
       "\t35544 & 15 & US & NA\\\\\n",
       "\t35545 & 15 & AH & NA\\\\\n",
       "\t35546 & 15 & AH & NA\\\\\n",
       "\t35547 & 10 & RM & 14\\\\\n",
       "\t35548 &  7 & DO & 51\\\\\n",
       "\t35549 &  5 &    & NA\\\\\n",
       "\\end{tabular}\n"
      ],
      "text/markdown": [
       "\n",
       "| <!--/--> | plot_id | species_id | weight | \n",
       "|---|---|---|---|---|---|\n",
       "| 35544 | 15 | US | NA | \n",
       "| 35545 | 15 | AH | NA | \n",
       "| 35546 | 15 | AH | NA | \n",
       "| 35547 | 10 | RM | 14 | \n",
       "| 35548 |  7 | DO | 51 | \n",
       "| 35549 |  5 |    | NA | \n",
       "\n",
       "\n"
      ],
      "text/plain": [
       "      plot_id species_id weight\n",
       "35544 15      US         NA    \n",
       "35545 15      AH         NA    \n",
       "35546 15      AH         NA    \n",
       "35547 10      RM         14    \n",
       "35548  7      DO         51    \n",
       "35549  5                 NA    "
      ]
     },
     "metadata": {},
     "output_type": "display_data"
    }
   ],
   "source": [
    "library(dplyr) # dplyr을 불러옵니다.\n",
    "surveys <- read.csv('surveys.csv') # 데이터를 불러옵니다.\n",
    "select_df <- select(surveys, plot_id, species_id, weight) # plot_id, species_id, weight 행만 추출합니다.\n",
    "tail(select_df) # 테이블 확인"
   ]
  },
  {
   "cell_type": "code",
   "execution_count": 18,
   "metadata": {},
   "outputs": [
    {
     "data": {
      "text/html": [
       "<table>\n",
       "<thead><tr><th scope=col>record_id</th><th scope=col>month</th><th scope=col>day</th><th scope=col>year</th><th scope=col>plot_id</th><th scope=col>species_id</th><th scope=col>sex</th><th scope=col>hindfoot_length</th><th scope=col>weight</th></tr></thead>\n",
       "<tbody>\n",
       "\t<tr><td>21993</td><td>1    </td><td>11   </td><td>1995 </td><td>18   </td><td>PF   </td><td>F    </td><td>16   </td><td> 7   </td></tr>\n",
       "\t<tr><td>21994</td><td>1    </td><td>11   </td><td>1995 </td><td>12   </td><td>DO   </td><td>M    </td><td>36   </td><td>47   </td></tr>\n",
       "\t<tr><td>21995</td><td>1    </td><td>11   </td><td>1995 </td><td> 2   </td><td>DO   </td><td>M    </td><td>36   </td><td>51   </td></tr>\n",
       "\t<tr><td>21996</td><td>1    </td><td>11   </td><td>1995 </td><td>21   </td><td>PF   </td><td>F    </td><td>14   </td><td> 7   </td></tr>\n",
       "\t<tr><td>21997</td><td>1    </td><td>11   </td><td>1995 </td><td>24   </td><td>RM   </td><td>M    </td><td>15   </td><td>10   </td></tr>\n",
       "\t<tr><td>21998</td><td>1    </td><td>11   </td><td>1995 </td><td> 1   </td><td>DM   </td><td>M    </td><td>38   </td><td>46   </td></tr>\n",
       "</tbody>\n",
       "</table>\n"
      ],
      "text/latex": [
       "\\begin{tabular}{r|lllllllll}\n",
       " record\\_id & month & day & year & plot\\_id & species\\_id & sex & hindfoot\\_length & weight\\\\\n",
       "\\hline\n",
       "\t 21993 & 1     & 11    & 1995  & 18    & PF    & F     & 16    &  7   \\\\\n",
       "\t 21994 & 1     & 11    & 1995  & 12    & DO    & M     & 36    & 47   \\\\\n",
       "\t 21995 & 1     & 11    & 1995  &  2    & DO    & M     & 36    & 51   \\\\\n",
       "\t 21996 & 1     & 11    & 1995  & 21    & PF    & F     & 14    &  7   \\\\\n",
       "\t 21997 & 1     & 11    & 1995  & 24    & RM    & M     & 15    & 10   \\\\\n",
       "\t 21998 & 1     & 11    & 1995  &  1    & DM    & M     & 38    & 46   \\\\\n",
       "\\end{tabular}\n"
      ],
      "text/markdown": [
       "\n",
       "record_id | month | day | year | plot_id | species_id | sex | hindfoot_length | weight | \n",
       "|---|---|---|---|---|---|\n",
       "| 21993 | 1     | 11    | 1995  | 18    | PF    | F     | 16    |  7    | \n",
       "| 21994 | 1     | 11    | 1995  | 12    | DO    | M     | 36    | 47    | \n",
       "| 21995 | 1     | 11    | 1995  |  2    | DO    | M     | 36    | 51    | \n",
       "| 21996 | 1     | 11    | 1995  | 21    | PF    | F     | 14    |  7    | \n",
       "| 21997 | 1     | 11    | 1995  | 24    | RM    | M     | 15    | 10    | \n",
       "| 21998 | 1     | 11    | 1995  |  1    | DM    | M     | 38    | 46    | \n",
       "\n",
       "\n"
      ],
      "text/plain": [
       "  record_id month day year plot_id species_id sex hindfoot_length weight\n",
       "1 21993     1     11  1995 18      PF         F   16               7    \n",
       "2 21994     1     11  1995 12      DO         M   36              47    \n",
       "3 21995     1     11  1995  2      DO         M   36              51    \n",
       "4 21996     1     11  1995 21      PF         F   14               7    \n",
       "5 21997     1     11  1995 24      RM         M   15              10    \n",
       "6 21998     1     11  1995  1      DM         M   38              46    "
      ]
     },
     "metadata": {},
     "output_type": "display_data"
    }
   ],
   "source": [
    "filter(surveys, year == 1995) %>% head # 1995년 데이터만 필터합니다."
   ]
  },
  {
   "cell_type": "markdown",
   "metadata": {},
   "source": [
    "## 4.4. 파이프(Pipes) 사용하기\n",
    "\n",
    "한번에 행을 뽑아내고 필터링을 해야 한다면, 파이프를 사용해야 합니다. 파이프는 함수 출력값을 받아 다음번 함수에 곧바로 전송하는 것으로 **Shell** script의 그것과 동일합니다. 이는 수많은 작업을 수행할 때 매우 유용합니다. R에서 파이프는 `%>%` 모양입니다."
   ]
  },
  {
   "cell_type": "code",
   "execution_count": 19,
   "metadata": {},
   "outputs": [
    {
     "data": {
      "text/html": [
       "<table>\n",
       "<thead><tr><th scope=col>species_id</th><th scope=col>sex</th><th scope=col>weight</th></tr></thead>\n",
       "<tbody>\n",
       "\t<tr><td>PF</td><td>M </td><td>4 </td></tr>\n",
       "\t<tr><td>PF</td><td>F </td><td>4 </td></tr>\n",
       "\t<tr><td>PF</td><td>  </td><td>4 </td></tr>\n",
       "\t<tr><td>PF</td><td>F </td><td>4 </td></tr>\n",
       "\t<tr><td>PF</td><td>F </td><td>4 </td></tr>\n",
       "\t<tr><td>RM</td><td>M </td><td>4 </td></tr>\n",
       "</tbody>\n",
       "</table>\n"
      ],
      "text/latex": [
       "\\begin{tabular}{r|lll}\n",
       " species\\_id & sex & weight\\\\\n",
       "\\hline\n",
       "\t PF & M  & 4 \\\\\n",
       "\t PF & F  & 4 \\\\\n",
       "\t PF &    & 4 \\\\\n",
       "\t PF & F  & 4 \\\\\n",
       "\t PF & F  & 4 \\\\\n",
       "\t RM & M  & 4 \\\\\n",
       "\\end{tabular}\n"
      ],
      "text/markdown": [
       "\n",
       "species_id | sex | weight | \n",
       "|---|---|---|---|---|---|\n",
       "| PF | M  | 4  | \n",
       "| PF | F  | 4  | \n",
       "| PF |    | 4  | \n",
       "| PF | F  | 4  | \n",
       "| PF | F  | 4  | \n",
       "| RM | M  | 4  | \n",
       "\n",
       "\n"
      ],
      "text/plain": [
       "  species_id sex weight\n",
       "1 PF         M   4     \n",
       "2 PF         F   4     \n",
       "3 PF             4     \n",
       "4 PF         F   4     \n",
       "5 PF         F   4     \n",
       "6 RM         M   4     "
      ]
     },
     "metadata": {},
     "output_type": "display_data"
    }
   ],
   "source": [
    "surveys %>%\n",
    "  filter(weight < 5) %>%\n",
    "  select(species_id, sex, weight) %>% head"
   ]
  },
  {
   "cell_type": "markdown",
   "metadata": {},
   "source": [
    "상기 예제에서 파이프를 사용해서 survyes 데이터셋을 filter로 먼저 보내서 체중이 5보다 작은 행만 뽑아내고 나서, select로 species, sex, weight 칼럼을 뽑아냈습니다. 파이프를 사용하면 이처럼 간결하게 코딩을 할 수 있습니다. \n",
    "\n",
    "파이프를 사용해서, 데이터의 부분집합을 만들어내는데, 1995년 이전 포획된 개체로 year, sex, weight 칼럼만 포함되도록 해보겠습니다."
   ]
  },
  {
   "cell_type": "code",
   "execution_count": 21,
   "metadata": {},
   "outputs": [
    {
     "data": {
      "text/html": [
       "<table>\n",
       "<thead><tr><th></th><th scope=col>year</th><th scope=col>sex</th><th scope=col>weight</th></tr></thead>\n",
       "<tbody>\n",
       "\t<tr><th scope=row>21987</th><td>1994</td><td>M   </td><td>46  </td></tr>\n",
       "\t<tr><th scope=row>21988</th><td>1994</td><td>F   </td><td>38  </td></tr>\n",
       "\t<tr><th scope=row>21989</th><td>1994</td><td>F   </td><td>40  </td></tr>\n",
       "\t<tr><th scope=row>21990</th><td>1994</td><td>    </td><td>NA  </td></tr>\n",
       "\t<tr><th scope=row>21991</th><td>1994</td><td>    </td><td>NA  </td></tr>\n",
       "\t<tr><th scope=row>21992</th><td>1994</td><td>    </td><td>NA  </td></tr>\n",
       "</tbody>\n",
       "</table>\n"
      ],
      "text/latex": [
       "\\begin{tabular}{r|lll}\n",
       "  & year & sex & weight\\\\\n",
       "\\hline\n",
       "\t21987 & 1994 & M    & 46  \\\\\n",
       "\t21988 & 1994 & F    & 38  \\\\\n",
       "\t21989 & 1994 & F    & 40  \\\\\n",
       "\t21990 & 1994 &      & NA  \\\\\n",
       "\t21991 & 1994 &      & NA  \\\\\n",
       "\t21992 & 1994 &      & NA  \\\\\n",
       "\\end{tabular}\n"
      ],
      "text/markdown": [
       "\n",
       "| <!--/--> | year | sex | weight | \n",
       "|---|---|---|---|---|---|\n",
       "| 21987 | 1994 | M    | 46   | \n",
       "| 21988 | 1994 | F    | 38   | \n",
       "| 21989 | 1994 | F    | 40   | \n",
       "| 21990 | 1994 |      | NA   | \n",
       "| 21991 | 1994 |      | NA   | \n",
       "| 21992 | 1994 |      | NA   | \n",
       "\n",
       "\n"
      ],
      "text/plain": [
       "      year sex weight\n",
       "21987 1994 M   46    \n",
       "21988 1994 F   38    \n",
       "21989 1994 F   40    \n",
       "21990 1994     NA    \n",
       "21991 1994     NA    \n",
       "21992 1994     NA    "
      ]
     },
     "metadata": {},
     "output_type": "display_data"
    }
   ],
   "source": [
    "small_df <- surveys %>% filter(year < 1995) %>% select(year, sex, weight)\n",
    "tail(small_df)"
   ]
  },
  {
   "cell_type": "markdown",
   "metadata": {},
   "source": [
    "## 4.5. mutate() 함수\n",
    "\n",
    "종종, 기존 칼럼값을 활용하여 새로운 칼럼을 생성할때가 있습니다. 예를 들어, 단위를 전환하거나, 두 칼럼을 활용하여 비율을 계산할 때 말이죠.이런 작업을 위해서 `mutate()` 함수를 사용합니다. 예시로 무게를 킬로그램 단위로 표시된 새로운 칼럼을 생성해보겠습니다."
   ]
  },
  {
   "cell_type": "code",
   "execution_count": 25,
   "metadata": {},
   "outputs": [
    {
     "data": {
      "text/html": [
       "<table>\n",
       "<thead><tr><th scope=col>record_id</th><th scope=col>month</th><th scope=col>day</th><th scope=col>year</th><th scope=col>plot_id</th><th scope=col>species_id</th><th scope=col>sex</th><th scope=col>hindfoot_length</th><th scope=col>weight</th><th scope=col>weight_kg</th></tr></thead>\n",
       "<tbody>\n",
       "\t<tr><td>1   </td><td>7   </td><td>16  </td><td>1977</td><td>2   </td><td>NL  </td><td>M   </td><td>32  </td><td>NA  </td><td>NA  </td></tr>\n",
       "\t<tr><td>2   </td><td>7   </td><td>16  </td><td>1977</td><td>3   </td><td>NL  </td><td>M   </td><td>33  </td><td>NA  </td><td>NA  </td></tr>\n",
       "\t<tr><td>3   </td><td>7   </td><td>16  </td><td>1977</td><td>2   </td><td>DM  </td><td>F   </td><td>37  </td><td>NA  </td><td>NA  </td></tr>\n",
       "\t<tr><td>4   </td><td>7   </td><td>16  </td><td>1977</td><td>7   </td><td>DM  </td><td>M   </td><td>36  </td><td>NA  </td><td>NA  </td></tr>\n",
       "\t<tr><td>5   </td><td>7   </td><td>16  </td><td>1977</td><td>3   </td><td>DM  </td><td>M   </td><td>35  </td><td>NA  </td><td>NA  </td></tr>\n",
       "\t<tr><td>6   </td><td>7   </td><td>16  </td><td>1977</td><td>1   </td><td>PF  </td><td>M   </td><td>14  </td><td>NA  </td><td>NA  </td></tr>\n",
       "</tbody>\n",
       "</table>\n"
      ],
      "text/latex": [
       "\\begin{tabular}{r|llllllllll}\n",
       " record\\_id & month & day & year & plot\\_id & species\\_id & sex & hindfoot\\_length & weight & weight\\_kg\\\\\n",
       "\\hline\n",
       "\t 1    & 7    & 16   & 1977 & 2    & NL   & M    & 32   & NA   & NA  \\\\\n",
       "\t 2    & 7    & 16   & 1977 & 3    & NL   & M    & 33   & NA   & NA  \\\\\n",
       "\t 3    & 7    & 16   & 1977 & 2    & DM   & F    & 37   & NA   & NA  \\\\\n",
       "\t 4    & 7    & 16   & 1977 & 7    & DM   & M    & 36   & NA   & NA  \\\\\n",
       "\t 5    & 7    & 16   & 1977 & 3    & DM   & M    & 35   & NA   & NA  \\\\\n",
       "\t 6    & 7    & 16   & 1977 & 1    & PF   & M    & 14   & NA   & NA  \\\\\n",
       "\\end{tabular}\n"
      ],
      "text/markdown": [
       "\n",
       "record_id | month | day | year | plot_id | species_id | sex | hindfoot_length | weight | weight_kg | \n",
       "|---|---|---|---|---|---|\n",
       "| 1    | 7    | 16   | 1977 | 2    | NL   | M    | 32   | NA   | NA   | \n",
       "| 2    | 7    | 16   | 1977 | 3    | NL   | M    | 33   | NA   | NA   | \n",
       "| 3    | 7    | 16   | 1977 | 2    | DM   | F    | 37   | NA   | NA   | \n",
       "| 4    | 7    | 16   | 1977 | 7    | DM   | M    | 36   | NA   | NA   | \n",
       "| 5    | 7    | 16   | 1977 | 3    | DM   | M    | 35   | NA   | NA   | \n",
       "| 6    | 7    | 16   | 1977 | 1    | PF   | M    | 14   | NA   | NA   | \n",
       "\n",
       "\n"
      ],
      "text/plain": [
       "  record_id month day year plot_id species_id sex hindfoot_length weight\n",
       "1 1         7     16  1977 2       NL         M   32              NA    \n",
       "2 2         7     16  1977 3       NL         M   33              NA    \n",
       "3 3         7     16  1977 2       DM         F   37              NA    \n",
       "4 4         7     16  1977 7       DM         M   36              NA    \n",
       "5 5         7     16  1977 3       DM         M   35              NA    \n",
       "6 6         7     16  1977 1       PF         M   14              NA    \n",
       "  weight_kg\n",
       "1 NA       \n",
       "2 NA       \n",
       "3 NA       \n",
       "4 NA       \n",
       "5 NA       \n",
       "6 NA       "
      ]
     },
     "metadata": {},
     "output_type": "display_data"
    }
   ],
   "source": [
    "surveys %>%\n",
    "  mutate(weight_kg = weight / 1000) %>% head"
   ]
  },
  {
   "cell_type": "markdown",
   "metadata": {},
   "source": [
    "NA 값으로 가득차 있기 때문에 파이프 체인에 filter() 함수를 이용해 없는 값을 제거해 봅니다."
   ]
  },
  {
   "cell_type": "code",
   "execution_count": 26,
   "metadata": {},
   "outputs": [
    {
     "data": {
      "text/html": [
       "<table>\n",
       "<thead><tr><th scope=col>record_id</th><th scope=col>month</th><th scope=col>day</th><th scope=col>year</th><th scope=col>plot_id</th><th scope=col>species_id</th><th scope=col>sex</th><th scope=col>hindfoot_length</th><th scope=col>weight</th><th scope=col>weight_kg</th></tr></thead>\n",
       "<tbody>\n",
       "\t<tr><td>63   </td><td>8    </td><td>19   </td><td>1977 </td><td>3    </td><td>DM   </td><td>M    </td><td>35   </td><td>40   </td><td>0.040</td></tr>\n",
       "\t<tr><td>64   </td><td>8    </td><td>19   </td><td>1977 </td><td>7    </td><td>DM   </td><td>M    </td><td>37   </td><td>48   </td><td>0.048</td></tr>\n",
       "\t<tr><td>65   </td><td>8    </td><td>19   </td><td>1977 </td><td>4    </td><td>DM   </td><td>F    </td><td>34   </td><td>29   </td><td>0.029</td></tr>\n",
       "\t<tr><td>66   </td><td>8    </td><td>19   </td><td>1977 </td><td>4    </td><td>DM   </td><td>F    </td><td>35   </td><td>46   </td><td>0.046</td></tr>\n",
       "\t<tr><td>67   </td><td>8    </td><td>19   </td><td>1977 </td><td>7    </td><td>DM   </td><td>M    </td><td>35   </td><td>36   </td><td>0.036</td></tr>\n",
       "\t<tr><td>68   </td><td>8    </td><td>19   </td><td>1977 </td><td>8    </td><td>DO   </td><td>F    </td><td>32   </td><td>52   </td><td>0.052</td></tr>\n",
       "</tbody>\n",
       "</table>\n"
      ],
      "text/latex": [
       "\\begin{tabular}{r|llllllllll}\n",
       " record\\_id & month & day & year & plot\\_id & species\\_id & sex & hindfoot\\_length & weight & weight\\_kg\\\\\n",
       "\\hline\n",
       "\t 63    & 8     & 19    & 1977  & 3     & DM    & M     & 35    & 40    & 0.040\\\\\n",
       "\t 64    & 8     & 19    & 1977  & 7     & DM    & M     & 37    & 48    & 0.048\\\\\n",
       "\t 65    & 8     & 19    & 1977  & 4     & DM    & F     & 34    & 29    & 0.029\\\\\n",
       "\t 66    & 8     & 19    & 1977  & 4     & DM    & F     & 35    & 46    & 0.046\\\\\n",
       "\t 67    & 8     & 19    & 1977  & 7     & DM    & M     & 35    & 36    & 0.036\\\\\n",
       "\t 68    & 8     & 19    & 1977  & 8     & DO    & F     & 32    & 52    & 0.052\\\\\n",
       "\\end{tabular}\n"
      ],
      "text/markdown": [
       "\n",
       "record_id | month | day | year | plot_id | species_id | sex | hindfoot_length | weight | weight_kg | \n",
       "|---|---|---|---|---|---|\n",
       "| 63    | 8     | 19    | 1977  | 3     | DM    | M     | 35    | 40    | 0.040 | \n",
       "| 64    | 8     | 19    | 1977  | 7     | DM    | M     | 37    | 48    | 0.048 | \n",
       "| 65    | 8     | 19    | 1977  | 4     | DM    | F     | 34    | 29    | 0.029 | \n",
       "| 66    | 8     | 19    | 1977  | 4     | DM    | F     | 35    | 46    | 0.046 | \n",
       "| 67    | 8     | 19    | 1977  | 7     | DM    | M     | 35    | 36    | 0.036 | \n",
       "| 68    | 8     | 19    | 1977  | 8     | DO    | F     | 32    | 52    | 0.052 | \n",
       "\n",
       "\n"
      ],
      "text/plain": [
       "  record_id month day year plot_id species_id sex hindfoot_length weight\n",
       "1 63        8     19  1977 3       DM         M   35              40    \n",
       "2 64        8     19  1977 7       DM         M   37              48    \n",
       "3 65        8     19  1977 4       DM         F   34              29    \n",
       "4 66        8     19  1977 4       DM         F   35              46    \n",
       "5 67        8     19  1977 7       DM         M   35              36    \n",
       "6 68        8     19  1977 8       DO         F   32              52    \n",
       "  weight_kg\n",
       "1 0.040    \n",
       "2 0.048    \n",
       "3 0.029    \n",
       "4 0.046    \n",
       "5 0.036    \n",
       "6 0.052    "
      ]
     },
     "metadata": {},
     "output_type": "display_data"
    }
   ],
   "source": [
    "surveys %>%\n",
    "  filter(!is.na(weight)) %>%\n",
    "  mutate(weight_kg = weight / 1000) %>%\n",
    "  head"
   ]
  },
  {
   "cell_type": "markdown",
   "metadata": {},
   "source": [
    "`is.na()` 함수는 NA가 있는지 없는지 판단하는 함수입니다. `!` 기호는 부정하는 기호로 NA가 아닌것을 의미합니다."
   ]
  },
  {
   "cell_type": "markdown",
   "metadata": {},
   "source": [
    "다음 기준을 만족하는 survey 데이터에서 데이터프레임을 새로 생성시켜보겠습니다. species_id 칼럼과 hindfoot_length을 반으로 나누는 값을 포함하는 칼럼만 포함시킨다. 새로운 칼럼명은 hindfoot_half이다. hindfoot_half 칼럼에는 NA 값이 없고 모든 값은 30 보다 작아야 한다."
   ]
  },
  {
   "cell_type": "code",
   "execution_count": 29,
   "metadata": {},
   "outputs": [
    {
     "data": {
      "text/html": [
       "<table>\n",
       "<thead><tr><th scope=col>species_id</th><th scope=col>hindfoot_half</th></tr></thead>\n",
       "<tbody>\n",
       "\t<tr><td>NL  </td><td>16.0</td></tr>\n",
       "\t<tr><td>NL  </td><td>16.5</td></tr>\n",
       "\t<tr><td>DM  </td><td>18.5</td></tr>\n",
       "\t<tr><td>DM  </td><td>18.0</td></tr>\n",
       "\t<tr><td>DM  </td><td>17.5</td></tr>\n",
       "\t<tr><td>PF  </td><td> 7.0</td></tr>\n",
       "</tbody>\n",
       "</table>\n"
      ],
      "text/latex": [
       "\\begin{tabular}{r|ll}\n",
       " species\\_id & hindfoot\\_half\\\\\n",
       "\\hline\n",
       "\t NL   & 16.0\\\\\n",
       "\t NL   & 16.5\\\\\n",
       "\t DM   & 18.5\\\\\n",
       "\t DM   & 18.0\\\\\n",
       "\t DM   & 17.5\\\\\n",
       "\t PF   &  7.0\\\\\n",
       "\\end{tabular}\n"
      ],
      "text/markdown": [
       "\n",
       "species_id | hindfoot_half | \n",
       "|---|---|---|---|---|---|\n",
       "| NL   | 16.0 | \n",
       "| NL   | 16.5 | \n",
       "| DM   | 18.5 | \n",
       "| DM   | 18.0 | \n",
       "| DM   | 17.5 | \n",
       "| PF   |  7.0 | \n",
       "\n",
       "\n"
      ],
      "text/plain": [
       "  species_id hindfoot_half\n",
       "1 NL         16.0         \n",
       "2 NL         16.5         \n",
       "3 DM         18.5         \n",
       "4 DM         18.0         \n",
       "5 DM         17.5         \n",
       "6 PF          7.0         "
      ]
     },
     "metadata": {},
     "output_type": "display_data"
    }
   ],
   "source": [
    "new_df <- surveys %>% filter(!is.na(hindfoot_length)) %>%\n",
    "        mutate(hindfoot_half = hindfoot_length/2) %>%\n",
    "        select(species_id, hindfoot_half) %>%\n",
    "        filter(hindfoot_half < 30)\n",
    "head(new_df)"
   ]
  },
  {
   "cell_type": "markdown",
   "metadata": {},
   "source": [
    "## 4.6. 분할-적용-병합과 summarize() 함수\n",
    "\n",
    "데이터분석 상당수 작업은 “split-apply-combine(분할-적용-병합)” 으로 해결됩니다. 데이터를 쪼개고, 각 집단별로 분석을 적용시키고 나서, 결과를 병합하는 것이죠. `dplyr` 패키지는 이런 유형의 작업을 매우 쉽게 구현합니다. `group_by()`, `summarize()` 함수로 각 집단을 한줄로 요약해서 축약해 보겠습니다.  \n",
    "\n",
    "예시로 성별로 구별되는 체중을 계산해보겠습니다. "
   ]
  },
  {
   "cell_type": "code",
   "execution_count": 46,
   "metadata": {},
   "outputs": [
    {
     "data": {
      "text/html": [
       "<table>\n",
       "<thead><tr><th scope=col>sex</th><th scope=col>mean_weight</th></tr></thead>\n",
       "<tbody>\n",
       "\t<tr><td>F       </td><td>42.17055</td></tr>\n",
       "\t<tr><td>M       </td><td>42.99538</td></tr>\n",
       "</tbody>\n",
       "</table>\n"
      ],
      "text/latex": [
       "\\begin{tabular}{r|ll}\n",
       " sex & mean\\_weight\\\\\n",
       "\\hline\n",
       "\t F        & 42.17055\\\\\n",
       "\t M        & 42.99538\\\\\n",
       "\\end{tabular}\n"
      ],
      "text/markdown": [
       "\n",
       "sex | mean_weight | \n",
       "|---|---|\n",
       "| F        | 42.17055 | \n",
       "| M        | 42.99538 | \n",
       "\n",
       "\n"
      ],
      "text/plain": [
       "  sex mean_weight\n",
       "1 F   42.17055   \n",
       "2 M   42.99538   "
      ]
     },
     "metadata": {},
     "output_type": "display_data"
    }
   ],
   "source": [
    "surveys %>%\n",
    "    filter(sex == \"M\" | sex == \"F\") %>%\n",
    "    group_by(sex) %>%\n",
    "    summarize(mean_weight = mean(weight, na.rm = TRUE)) # na.rm는 NA 값을 제거합니다"
   ]
  },
  {
   "cell_type": "markdown",
   "metadata": {},
   "source": [
    "다수의 행을 group_by()에 넣어 사용하는 것도 가능합니다. **sex** 와 **species_id** 모두를 집단으로 묶고 계산 해보도록 하겠습니다. 체중에 대한 요약 통계량을 산출하기 전에 체중에 대한 결측값(NA)을 제거했기 때문에 평균을 계산할 때 **na.rm=TRUE**를 생략해도 됩니다."
   ]
  },
  {
   "cell_type": "code",
   "execution_count": 47,
   "metadata": {
    "scrolled": false
   },
   "outputs": [
    {
     "data": {
      "text/html": [
       "<table>\n",
       "<thead><tr><th scope=col>sex</th><th scope=col>year</th><th scope=col>species_id</th><th scope=col>mean_weight</th></tr></thead>\n",
       "<tbody>\n",
       "\t<tr><td>F         </td><td>1977      </td><td>DM        </td><td> 40.250000</td></tr>\n",
       "\t<tr><td>F         </td><td>1977      </td><td>DO        </td><td> 41.900000</td></tr>\n",
       "\t<tr><td>F         </td><td>1977      </td><td>DS        </td><td>117.285714</td></tr>\n",
       "\t<tr><td>F         </td><td>1977      </td><td>OL        </td><td> 22.000000</td></tr>\n",
       "\t<tr><td>F         </td><td>1977      </td><td>OX        </td><td> 21.000000</td></tr>\n",
       "\t<tr><td>F         </td><td>1977      </td><td>PF        </td><td>  7.266667</td></tr>\n",
       "</tbody>\n",
       "</table>\n"
      ],
      "text/latex": [
       "\\begin{tabular}{r|llll}\n",
       " sex & year & species\\_id & mean\\_weight\\\\\n",
       "\\hline\n",
       "\t F          & 1977       & DM         &  40.250000\\\\\n",
       "\t F          & 1977       & DO         &  41.900000\\\\\n",
       "\t F          & 1977       & DS         & 117.285714\\\\\n",
       "\t F          & 1977       & OL         &  22.000000\\\\\n",
       "\t F          & 1977       & OX         &  21.000000\\\\\n",
       "\t F          & 1977       & PF         &   7.266667\\\\\n",
       "\\end{tabular}\n"
      ],
      "text/markdown": [
       "\n",
       "sex | year | species_id | mean_weight | \n",
       "|---|---|---|---|---|---|\n",
       "| F          | 1977       | DM         |  40.250000 | \n",
       "| F          | 1977       | DO         |  41.900000 | \n",
       "| F          | 1977       | DS         | 117.285714 | \n",
       "| F          | 1977       | OL         |  22.000000 | \n",
       "| F          | 1977       | OX         |  21.000000 | \n",
       "| F          | 1977       | PF         |   7.266667 | \n",
       "\n",
       "\n"
      ],
      "text/plain": [
       "  sex year species_id mean_weight\n",
       "1 F   1977 DM          40.250000 \n",
       "2 F   1977 DO          41.900000 \n",
       "3 F   1977 DS         117.285714 \n",
       "4 F   1977 OL          22.000000 \n",
       "5 F   1977 OX          21.000000 \n",
       "6 F   1977 PF           7.266667 "
      ]
     },
     "metadata": {},
     "output_type": "display_data"
    }
   ],
   "source": [
    "surveys %>%\n",
    "    filter(sex == \"M\" | sex == \"F\") %>%\n",
    "    filter(!is.na(weight)) %>% \n",
    "    group_by(sex, year, species_id ) %>%\n",
    "    summarize(mean_weight = mean(weight)) %>% head"
   ]
  },
  {
   "cell_type": "markdown",
   "metadata": {},
   "source": [
    "## 4.7. 총 합계  구하기와 갯수 세기(Tallying)\n",
    "\n",
    "각 요인별로 관측점 갯수가 몇개나 되는지 확인하는 작업할 때는 `tally()` 함수를 사용합니다. 예를 들어, 성별로 집단을 묶어 각 행의 갯수를 세어 총계를 기록하고자 하는 경우, 다음과 같이 작성합니다."
   ]
  },
  {
   "cell_type": "code",
   "execution_count": 48,
   "metadata": {},
   "outputs": [
    {
     "data": {
      "text/html": [
       "<table>\n",
       "<thead><tr><th scope=col>sex</th><th scope=col>n</th></tr></thead>\n",
       "<tbody>\n",
       "\t<tr><td>F    </td><td>15690</td></tr>\n",
       "\t<tr><td>M    </td><td>17348</td></tr>\n",
       "</tbody>\n",
       "</table>\n"
      ],
      "text/latex": [
       "\\begin{tabular}{r|ll}\n",
       " sex & n\\\\\n",
       "\\hline\n",
       "\t F     & 15690\\\\\n",
       "\t M     & 17348\\\\\n",
       "\\end{tabular}\n"
      ],
      "text/markdown": [
       "\n",
       "sex | n | \n",
       "|---|---|\n",
       "| F     | 15690 | \n",
       "| M     | 17348 | \n",
       "\n",
       "\n"
      ],
      "text/plain": [
       "  sex n    \n",
       "1 F   15690\n",
       "2 M   17348"
      ]
     },
     "metadata": {},
     "output_type": "display_data"
    }
   ],
   "source": [
    "surveys %>%\n",
    "    filter(sex == \"M\" | sex == \"F\") %>%\n",
    "    group_by(sex) %>%\n",
    "    tally()"
   ]
  },
  {
   "cell_type": "markdown",
   "metadata": {},
   "source": [
    "`group_by()` 와 `summarize()` 함수를 사용해서, **hindfoot_length**에 대한 평균, 최소값, 최대값을 각 종별(species_id)로 묶어 구하도록 하겠습니다."
   ]
  },
  {
   "cell_type": "code",
   "execution_count": 69,
   "metadata": {},
   "outputs": [
    {
     "data": {
      "text/html": [
       "<table>\n",
       "<thead><tr><th scope=col>species_id</th><th scope=col>mean_hindfoot_length</th><th scope=col>min_hindfoot_length</th><th scope=col>max_hindfoot_length</th></tr></thead>\n",
       "<tbody>\n",
       "\t<tr><td>AH      </td><td>33.00000</td><td>31      </td><td>35      </td></tr>\n",
       "\t<tr><td>BA      </td><td>13.00000</td><td> 6      </td><td>16      </td></tr>\n",
       "\t<tr><td>DM      </td><td>35.98235</td><td>16      </td><td>50      </td></tr>\n",
       "\t<tr><td>DO      </td><td>35.60755</td><td>26      </td><td>64      </td></tr>\n",
       "\t<tr><td>DS      </td><td>49.94887</td><td>39      </td><td>58      </td></tr>\n",
       "\t<tr><td>NL      </td><td>32.29423</td><td>21      </td><td>70      </td></tr>\n",
       "</tbody>\n",
       "</table>\n"
      ],
      "text/latex": [
       "\\begin{tabular}{r|llll}\n",
       " species\\_id & mean\\_hindfoot\\_length & min\\_hindfoot\\_length & max\\_hindfoot\\_length\\\\\n",
       "\\hline\n",
       "\t AH       & 33.00000 & 31       & 35      \\\\\n",
       "\t BA       & 13.00000 &  6       & 16      \\\\\n",
       "\t DM       & 35.98235 & 16       & 50      \\\\\n",
       "\t DO       & 35.60755 & 26       & 64      \\\\\n",
       "\t DS       & 49.94887 & 39       & 58      \\\\\n",
       "\t NL       & 32.29423 & 21       & 70      \\\\\n",
       "\\end{tabular}\n"
      ],
      "text/markdown": [
       "\n",
       "species_id | mean_hindfoot_length | min_hindfoot_length | max_hindfoot_length | \n",
       "|---|---|---|---|---|---|\n",
       "| AH       | 33.00000 | 31       | 35       | \n",
       "| BA       | 13.00000 |  6       | 16       | \n",
       "| DM       | 35.98235 | 16       | 50       | \n",
       "| DO       | 35.60755 | 26       | 64       | \n",
       "| DS       | 49.94887 | 39       | 58       | \n",
       "| NL       | 32.29423 | 21       | 70       | \n",
       "\n",
       "\n"
      ],
      "text/plain": [
       "  species_id mean_hindfoot_length min_hindfoot_length max_hindfoot_length\n",
       "1 AH         33.00000             31                  35                 \n",
       "2 BA         13.00000              6                  16                 \n",
       "3 DM         35.98235             16                  50                 \n",
       "4 DO         35.60755             26                  64                 \n",
       "5 DS         49.94887             39                  58                 \n",
       "6 NL         32.29423             21                  70                 "
      ]
     },
     "metadata": {},
     "output_type": "display_data"
    }
   ],
   "source": [
    "surveys %>% group_by(species_id) %>% filter(!is.na(hindfoot_length)) %>%\n",
    "        summarize(mean_hindfoot_length = mean(hindfoot_length),\n",
    "                 min_hindfoot_length = min(hindfoot_length),\n",
    "                 max_hindfoot_length = max(hindfoot_length)) %>% head"
   ]
  },
  {
   "cell_type": "markdown",
   "metadata": {},
   "source": [
    "## 4.8. 데이터 내보내기\n",
    "지금까지 dplyr 패키지를 사용해서 데이터에서 필요한 정보를 추출하고, 요약하는 방법을 학습했습니다. 이제 데이터를 내보내는 방법을 알아 보겠습니다. CSV 파일을 R로 불러오는데 사용된 `read.csv()` 함수와 비슷하게, 데이터프레임에서 CSV 파일을 생성시키는데 `write.csv()` 함수가 사용됩니다. \n",
    "\n",
    "원본 데이터(surveys)에 결측값이 없이 정제된 데이터셋(survey_complete)를 만들어 보겠습니다. "
   ]
  },
  {
   "cell_type": "code",
   "execution_count": 70,
   "metadata": {},
   "outputs": [
    {
     "data": {
      "text/html": [
       "<ol class=list-inline>\n",
       "\t<li>30676</li>\n",
       "\t<li>9</li>\n",
       "</ol>\n"
      ],
      "text/latex": [
       "\\begin{enumerate*}\n",
       "\\item 30676\n",
       "\\item 9\n",
       "\\end{enumerate*}\n"
      ],
      "text/markdown": [
       "1. 30676\n",
       "2. 9\n",
       "\n",
       "\n"
      ],
      "text/plain": [
       "[1] 30676     9"
      ]
     },
     "metadata": {},
     "output_type": "display_data"
    }
   ],
   "source": [
    "surveys_complete <- surveys %>%\n",
    "  filter(species_id != \"\",         # 빈문자열을 갖는 species_id 제거\n",
    "         !is.na(weight),           # weight 결측값 제거\n",
    "             !is.na(hindfoot_length),  # hindfoot_length 결측값 제거\n",
    "             sex != \"\")                # 빈문자열을 갖는 sex 제거\n",
    "dim(surveys_complete)"
   ]
  },
  {
   "cell_type": "markdown",
   "metadata": {},
   "source": [
    "`dim(surveys_complete)`을 통해 확인 해보니 surveys_complete 데이터프레임은 행갯수가 30676, 열갯수가 9입니다. 이제 CSV 파일로 저장합니다. 기본 설정으로, write.csv() 함수는 행명칭(row names)이 포함된 칼럼을 포함하여 저장합니다. 이번 경우에는 행명칭이 행번호임으로 **row.names = FALSE**로 설정합니다."
   ]
  },
  {
   "cell_type": "code",
   "execution_count": 35,
   "metadata": {},
   "outputs": [],
   "source": [
    "write.csv(surveys_complete, file=\"surveys_complete.csv\",\n",
    "          row.names=FALSE)"
   ]
  },
  {
   "cell_type": "markdown",
   "metadata": {},
   "source": [
    "# 5. 마무리하며,\n",
    "\n",
    "R에서 데이터를 불러오고 전처리하는 과정을 `dplyr` 패키지를 이용해 해보았습니다. 이러한 과정은 필수적이면서도 노동집약적이기 때문에 평소에 잘 기억해 두는것이 좋습니다. \n",
    "> 파이썬에서는 `pandas`, R에는 `dplyr`"
   ]
  }
 ],
 "metadata": {
  "kernelspec": {
   "display_name": "R",
   "language": "R",
   "name": "ir"
  },
  "language_info": {
   "codemirror_mode": "r",
   "file_extension": ".r",
   "mimetype": "text/x-r-source",
   "name": "R",
   "pygments_lexer": "r",
   "version": "3.3.2"
  },
  "nikola": {
   "category": "R",
   "date": "2018-04-30 07:56:47 UTC+09:00",
   "description": "R에서 데이터 다루기(dplyr)",
   "link": "",
   "slug": "dplyr",
   "tags": [
    "dplyr",
    "dataframe",
    "R",
    "데이터 프레임"
   ],
   "title": "R에서 데이터 다루기(dplyr)",
   "type": "text"
  }
 },
 "nbformat": 4,
 "nbformat_minor": 2
}
