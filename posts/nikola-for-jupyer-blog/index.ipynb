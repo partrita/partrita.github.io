{
 "cells": [
  {
   "cell_type": "markdown",
   "metadata": {},
   "source": [
    "# Nikola setup\n",
    "How to blog with Jupyter (IPython) Notebook and Nikola\n",
    "\n",
    "I have thought about starting a blog for a few years now and when I recently found some amazing tools which can be used in a data science blog I got so excited that I finally had to start my blog. I have used Python and the NumPy/SciPy stack to analyze and model data for a few years now. I'm also passionate about open data and open science, so I've been excited about how Jupyter Notebooks (a.k.a. IPython Notebooks) can be used to share a mixture of reproducible code and commentation. And with Nikola, it is possible to set up a whole blogging system based on posts written as Notebooks making it possible for anyone to easily try the analysis shown in the post. I got some inspiration from Damian Avila's blog. He has written instructions on blogging with Nikola and IPython. However, the instructions are outdated so I thought I'd start my blog by giving my own tips on setting up Nikola.\n",
    "\n",
    "### 환경 설정\n",
    "\n",
    "First, install NumPy, SciPy, Matplotlib, IPython and Jupyter (if available) by using the package manager of your system (or use, for instance, Anaconda). I recommend you use Virtualenv and Virtualenvwrapper for setting up a virtual environment for the blog. After installing the packages, run the following command and put it to your shell startup file:\n",
    "\n",
    "#### 가상환경 만들고 실행하기\n",
    "\n",
    "**nikola_blog**라는 이름의 가상환경을 생성합니다.\n",
    "```bash\n",
    "conda create -n nikola_blog python=3\n",
    "```\n",
    "> 이름은 원하는것으로 수정하시면 되고, 파이썬3를 권장합니다. \n",
    "\n",
    "터미널에 명령어를 입력하면 몇가지 패키지를 설치 할 것인지 물어보고, 모두 **Yes**해주시면 됩니다.\n",
    "\n",
    "```bash\n",
    "source activate nikola_blog\n",
    "pip install nikola[extras]\n",
    "```\n",
    "가상환경을 실행하고, **nikola**를 설치 합니다.\n",
    "\n",
    "### 블로그 만들기\n",
    "\n",
    "```bash\n",
    "nikola init .\n",
    "```\n",
    "\n",
    "**conf.py**에서 다음과 같이 수정합니다.\n",
    "```python\n",
    "POSTS = (\n",
    "    (\"posts/*.ipynb\", \"blog\", \"post.tmpl\"),\n",
    "    (\"posts/*.md\", \"blog\", \"post.tmpl\"),\n",
    "    (\"posts/*.rst\", \"blog\", \"post.tmpl\"),\n",
    "    (\"posts/*.txt\", \"blog\", \"post.tmpl\"),\n",
    ")\n",
    "PAGES = (\n",
    "    (\"pages/*.md\", \"\", \"story.tmpl\"),\n",
    "    (\"pages/*.ipynb\", \"\", \"story.tmpl\"),\n",
    "    (\"pages/*.rst\", \"\", \"story.tmpl\"),\n",
    "    (\"pages/*.txt\", \"\", \"story.tmpl\"),\n",
    ")\n",
    "```\n",
    "\n",
    "http://www.jaakkoluttinen.fi/blog/how-to-blog-with-jupyter-ipython-notebook-and-nikola/\n",
    "\n"
   ]
  }
 ],
 "metadata": {
  "kernelspec": {
   "display_name": "Python 3",
   "language": "python",
   "name": "python3"
  },
  "language_info": {
   "codemirror_mode": {
    "name": "ipython",
    "version": 3
   },
   "file_extension": ".py",
   "mimetype": "text/x-python",
   "name": "python",
   "nbconvert_exporter": "python",
   "pygments_lexer": "ipython3",
   "version": "3.6.3"
  },
  "nikola": {
   "category": "",
   "date": "2017-12-14 11:57:23 UTC+09:00",
   "description": "",
   "link": "",
   "slug": "nikola-for-jupyer-blog",
   "tags": "",
   "title": "Nikola for jupyer blog",
   "type": "text"
  }
 },
 "nbformat": 4,
 "nbformat_minor": 2
}
